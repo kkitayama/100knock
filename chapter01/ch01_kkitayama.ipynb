{
 "cells": [
  {
   "cell_type": "markdown",
   "metadata": {},
   "source": [
    "# 第1章: 準備運動"
   ]
  },
  {
   "cell_type": "markdown",
   "metadata": {},
   "source": [
    "## 00. 文字列の逆順\n",
    "文字列\"stressed\"の文字を逆に（末尾から先頭に向かって）並べた文字列を得よ．"
   ]
  },
  {
   "cell_type": "code",
   "execution_count": 8,
   "metadata": {
    "scrolled": true
   },
   "outputs": [
    {
     "name": "stdout",
     "output_type": "stream",
     "text": [
      "desserts\n"
     ]
    }
   ],
   "source": [
    "text = 'stressed'\n",
    "print(text[::-1])"
   ]
  },
  {
   "cell_type": "markdown",
   "metadata": {},
   "source": [
    "## 01. 「パタトクカシーー」\n",
    "「パタトクカシーー」という文字列の1,3,5,7文字目を取り出して連結した文字列を得よ．"
   ]
  },
  {
   "cell_type": "code",
   "execution_count": 7,
   "metadata": {},
   "outputs": [
    {
     "name": "stdout",
     "output_type": "stream",
     "text": [
      "パトカー\n"
     ]
    }
   ],
   "source": [
    "text = 'パタトクカシーー'\n",
    "print(text[::2])"
   ]
  },
  {
   "cell_type": "markdown",
   "metadata": {},
   "source": [
    "## 02. 「パトカー」＋「タクシー」＝「パタトクカシーー」\n",
    "「パトカー」＋「タクシー」の文字を先頭から交互に連結して文字列「パタトクカシーー」を得よ．"
   ]
  },
  {
   "cell_type": "code",
   "execution_count": 7,
   "metadata": {},
   "outputs": [
    {
     "name": "stdout",
     "output_type": "stream",
     "text": [
      "パタトクカシーー\n"
     ]
    }
   ],
   "source": [
    "text1 = 'パトカー'\n",
    "text2 = 'タクシー'\n",
    "out = ''\n",
    "for a, b in zip(text1, text2):\n",
    "    out += a + b\n",
    "print(out)"
   ]
  },
  {
   "cell_type": "markdown",
   "metadata": {},
   "source": [
    "## 03. 円周率\n",
    "\"Now I need a drink, alcoholic of course, after the heavy lectures involving quantum mechanics.\"という文を単語に分解し，各単語の（アルファベットの）文字数を先頭から出現順に並べたリストを作成せよ．"
   ]
  },
  {
   "cell_type": "markdown",
   "metadata": {},
   "source": [
    "### strip()\n",
    "- 文字列の両端から指定文字をはぎとる。\n",
    "- 指定文字以外の文字になるまで消し続ける。\n",
    "- 文字を指定しない場合は、「空白文字」を削除。\n",
    "- 「空白文字」とは：半角スペース、全角スペース、改行、改ページ、タブ、垂直タブ、復帰\n",
    "http://python-remrin.hatenadiary.jp/entry/2017/04/24/174405"
   ]
  },
  {
   "cell_type": "code",
   "execution_count": 10,
   "metadata": {},
   "outputs": [
    {
     "name": "stdout",
     "output_type": "stream",
     "text": [
      "[3, 1, 4, 1, 5, 9, 2, 6, 5, 3, 5, 8, 9, 7, 9]\n",
      "[3, 1, 4, 1, 5, 9, 2, 6, 5, 3, 5, 8, 9, 7, 9]\n"
     ]
    }
   ],
   "source": [
    "text = 'Now I need a drink, alcoholic of course, after the heavy lectures involving quantum mechanics.'\n",
    "\n",
    "# \",\"と\".\"を取り除いてからリストにする\n",
    "word_list = text.replace(',', '').replace('.', '').split() \n",
    "print([len(w) for w in word_list])\n",
    "\n",
    "# 分けてから\",\"と\".\"を取り除く\n",
    "tokens = text.split(' ')\n",
    "strip_tokens = [t.strip(',.') for t in tokens]\n",
    "print([len(t) for t in strip_tokens])"
   ]
  },
  {
   "cell_type": "markdown",
   "metadata": {},
   "source": [
    "## 04. 元素記号\n",
    "\"Hi He Lied Because Boron Could Not Oxidize Fluorine. New Nations Might Also Sign Peace Security Clause. Arthur King Can.\"という文を単語に分解し，1, 5, 6, 7, 8, 9, 15, 16, 19番目の単語は先頭の1文字，それ以外の単語は先頭に2文字を取り出し，取り出した文字列から単語の位置（先頭から何番目の単語か）への連想配列（辞書型もしくはマップ型）を作成せよ．"
   ]
  },
  {
   "cell_type": "code",
   "execution_count": 33,
   "metadata": {},
   "outputs": [
    {
     "name": "stdout",
     "output_type": "stream",
     "text": [
      "{'H': 1, 'He': 2, 'Li': 3, 'Be': 4, 'B': 5, 'C': 6, 'N': 7, 'O': 8, 'F': 9, 'Ne': 10, 'Na': 11, 'Mi': 12, 'Al': 13, 'Si': 14, 'P': 15, 'S': 16, 'Cl': 17, 'Ar': 18, 'K': 19, 'Ca': 20}\n"
     ]
    }
   ],
   "source": [
    "text = 'Hi He Lied Because Boron Could Not Oxidize Fluorine. New Nations Might Also Sign Peace Security Clause. Arthur King Can.'\n",
    "word_list = text.split()\n",
    "take_first_letter = (1, 5, 6, 7, 8, 9, 15, 16, 19)   # タプル\n",
    "word_dictionary = {}\n",
    "for n, word in enumerate(word_list):\n",
    "    if n+1 in take_first_letter:\n",
    "        word_dictionary[word[0]] = n+1\n",
    "    else:\n",
    "        word_dictionary[word[:2]] = n+1\n",
    "print(word_dictionary)"
   ]
  },
  {
   "cell_type": "markdown",
   "metadata": {},
   "source": [
    "## 05. n-gram\n",
    "与えられたシーケンス（文字列やリストなど）からn-gramを作る関数を作成せよ．この関数を用い，\"I am an NLPer\"という文から単語bi-gram，文字bi-gramを得よ．"
   ]
  },
  {
   "cell_type": "code",
   "execution_count": 11,
   "metadata": {},
   "outputs": [],
   "source": [
    "text = 'I am an NLPer'"
   ]
  },
  {
   "cell_type": "code",
   "execution_count": 15,
   "metadata": {},
   "outputs": [
    {
     "name": "stdout",
     "output_type": "stream",
     "text": [
      "単語bi-gram: ['Iam', 'aman', 'anNLPer', 'NLPer']\n",
      "文字bi-gram: ['Ia', 'am', 'ma', 'an', 'nN', 'NL', 'LP', 'Pe', 'er', 'r']\n"
     ]
    }
   ],
   "source": [
    "# 過去の１００本ノックで作ったもの\n",
    "\n",
    "def n_gram_from_list(sequence, n):   # sequenceはリストで渡す\n",
    "    output = []\n",
    "    seqnum = len(sequence)   # sequenceの要素数\n",
    "    for i in range(seqnum):\n",
    "        tmp = ''\n",
    "        if i >= seqnum - (n-1):\n",
    "            for j in range(i, seqnum) :\n",
    "                tmp += sequence[j]\n",
    "            output += [tmp]\n",
    "        else:\n",
    "            for j in range(i, i+n):\n",
    "                tmp += sequence[j]\n",
    "            output += [tmp]\n",
    "    return output\n",
    "\n",
    "word_list = text.split()\n",
    "char_list = list(text.replace(' ', ''))\n",
    "\n",
    "print('単語bi-gram:', n_gram_from_list(word_list, 2))\n",
    "print('文字bi-gram:', n_gram_from_list(char_list, 2))"
   ]
  },
  {
   "cell_type": "markdown",
   "metadata": {},
   "source": [
    "### collections\n",
    "https://docs.python.jp/3/library/collections.html"
   ]
  },
  {
   "cell_type": "code",
   "execution_count": 28,
   "metadata": {},
   "outputs": [
    {
     "name": "stdout",
     "output_type": "stream",
     "text": [
      "[('I', 'am'), ('am', 'an'), ('an', 'NLPer')]\n",
      "[('I', ' '), (' ', 'a'), ('a', 'm'), ('m', ' '), (' ', 'a'), ('a', 'n'), ('n', ' '), (' ', 'N'), ('N', 'L'), ('L', 'P'), ('P', 'e'), ('e', 'r')]\n"
     ]
    }
   ],
   "source": [
    "from collections import deque\n",
    "def n_gram(sequence, N):\n",
    "    n_gram_que = deque(maxlen=N)\n",
    "    out = []\n",
    "    for item in sequence:\n",
    "        n_gram_que.append(item)\n",
    "        if len(n_gram_que) == N:\n",
    "            out.append(tuple(n_gram_que))\n",
    "    return out\n",
    "\n",
    "print(n_gram(text.split(), 2))\n",
    "print(n_gram(text, 2))"
   ]
  },
  {
   "cell_type": "markdown",
   "metadata": {},
   "source": [
    "## 06. 集合\n",
    "\"paraparaparadise\"と\"paragraph\"に含まれる文字bi-gramの集合を，それぞれ, XとYとして求め，XとYの和集合，積集合，差集合を求めよ．さらに，'se'というbi-gramがXおよびYに含まれるかどうかを調べよ．"
   ]
  },
  {
   "cell_type": "code",
   "execution_count": 30,
   "metadata": {},
   "outputs": [],
   "source": [
    "x = \"paraparaparadise\"\n",
    "y = \"paragraph\""
   ]
  },
  {
   "cell_type": "code",
   "execution_count": 31,
   "metadata": {},
   "outputs": [
    {
     "name": "stdout",
     "output_type": "stream",
     "text": [
      "X: {'e', 'ap', 'pa', 'se', 'ad', 'is', 'ra', 'di', 'ar'}\n",
      "Y: {'ap', 'pa', 'gr', 'h', 'ag', 'ra', 'ar', 'ph'}\n",
      "和集合: {'e', 'ap', 'pa', 'gr', 'h', 'se', 'ad', 'ag', 'is', 'ra', 'di', 'ar', 'ph'}\n",
      "積集合: {'ap', 'pa', 'ar', 'ra'}\n",
      "差集合: {'e', 'se', 'ad', 'is', 'di'}\n",
      "\"se\" in X: True\n",
      "\"se\" in Y: False\n"
     ]
    }
   ],
   "source": [
    "# 過去の１００本ノックで作ったもの\n",
    "\n",
    "X = set(n_gram_from_list(list(x), 2))\n",
    "print('X:', X)\n",
    "Y = set(n_gram_from_list(list(y), 2))\n",
    "print('Y:', Y)\n",
    "\n",
    "print('和集合:', X | Y)\n",
    "print('積集合:', X & Y)\n",
    "print('差集合:', X - Y)\n",
    "\n",
    "print('\"se\" in X:', 'se' in X)\n",
    "print('\"se\" in Y:', 'se' in Y)"
   ]
  },
  {
   "cell_type": "code",
   "execution_count": null,
   "metadata": {},
   "outputs": [],
   "source": []
  },
  {
   "cell_type": "markdown",
   "metadata": {},
   "source": [
    "## 07. テンプレートによる文生成\n",
    "引数x, y, zを受け取り「x時のyはz」という文字列を返す関数を実装せよ．さらに，x=12, y=\"気温\", z=22.4として，実行結果を確認せよ．"
   ]
  },
  {
   "cell_type": "code",
   "execution_count": 48,
   "metadata": {},
   "outputs": [
    {
     "name": "stdout",
     "output_type": "stream",
     "text": [
      "12時の 気温は22.4\n",
      "12時の 気温は22.4\n"
     ]
    }
   ],
   "source": [
    "def template(x, y, z):\n",
    "    return '{x}時の {y}は{z}'.format(x=x, y=y, z=z)\n",
    "\n",
    "print(template(12, \"気温\", 22.4))\n",
    "\n",
    "# ↓これでもいけるのは初めて知った\n",
    "print(template(x=12, y='気温', z=22.4))\n",
    "\n",
    "# format関数\n",
    "# http://programming-study.com/technology/python-format/"
   ]
  },
  {
   "cell_type": "markdown",
   "metadata": {},
   "source": [
    "## 08. 暗号文\n",
    "与えられた文字列の各文字を，以下の仕様で変換する関数cipherを実装せよ．\n",
    "- 英小文字ならば(219 - 文字コード)の文字に置換\n",
    "- その他の文字はそのまま出力\n",
    "\n",
    "この関数を用い，英語のメッセージを暗号化・復号化せよ．"
   ]
  },
  {
   "cell_type": "code",
   "execution_count": 52,
   "metadata": {},
   "outputs": [
    {
     "name": "stdout",
     "output_type": "stream",
     "text": [
      "Tsrh rh izd gvcg.\n",
      "This is raw text.\n",
      "Tsrh rh izd gvcg.\n"
     ]
    }
   ],
   "source": [
    "# 分からなかった\n",
    "\n",
    "# 清野さん式\n",
    "from string import ascii_lowercase\n",
    "LETTERS = {x: 0 for x in ascii_lowercase}\n",
    "\n",
    "def cipher(text):\n",
    "    return ''.join([chr(219 - ord(x)) if x in LETTERS else x for x in text])\n",
    "\n",
    "def cipher_v2(text):\n",
    "    return ''.join([chr(219 - ord(x)) if x.islower() else x for x in text])\n",
    "\n",
    "print(cipher('This is raw text.'))\n",
    "print(cipher(cipher('This is raw text.')))\n",
    "print(cipher_v2('This is raw text.'))\n",
    "\n",
    "# https://docs.python.jp/3/library/string.html"
   ]
  },
  {
   "cell_type": "markdown",
   "metadata": {},
   "source": [
    "## 09. Typoglycemia\n",
    "スペースで区切られた単語列に対して，各単語の先頭と末尾の文字は残し，それ以外の文字の順序をランダムに並び替えるプログラムを作成せよ．ただし，長さが４以下の単語は並び替えないこととする．適当な英語の文（例えば\"I couldn't believe that I could actually understand what I was reading : the phenomenal power of the human mind .\"）を与え，その実行結果を確認せよ"
   ]
  },
  {
   "cell_type": "code",
   "execution_count": 56,
   "metadata": {},
   "outputs": [
    {
     "name": "stdout",
     "output_type": "stream",
     "text": [
      "I cod'nlut beelvie that I culod aulctlay utsneanrdd what I was reidnag : the pehomaennl peowr of the hamun mind .\n"
     ]
    }
   ],
   "source": [
    "import random\n",
    "\n",
    "#清野さんのパクリ\n",
    "def chaos_sentence(text):\n",
    "    words = text.split()\n",
    "    out = []\n",
    "    for word in words:\n",
    "        if len(word) > 4:\n",
    "            mid_chars = word[1:-1]\n",
    "            rand_mid_chars = ''.join(random.sample(mid_chars, len(mid_chars)))\n",
    "            word = '{}{}{}'.format(word[0], rand_mid_chars, word[-1])\n",
    "        out.append(word)\n",
    "    return ' '.join(out)\n",
    "\n",
    "print(chaos_sentence(\"I couldn't believe that I could actually understand what I was reading : the phenomenal power of the human mind .\"))\n",
    "            \n",
    "# join\n",
    "# https://www.sejuku.net/blog/41752\n",
    "# random.shuffle\n",
    "# https://docs.python.jp/3/library/random.html"
   ]
  },
  {
   "cell_type": "code",
   "execution_count": null,
   "metadata": {},
   "outputs": [],
   "source": []
  }
 ],
 "metadata": {
  "kernelspec": {
   "display_name": "Python 3",
   "language": "python",
   "name": "python3"
  },
  "language_info": {
   "codemirror_mode": {
    "name": "ipython",
    "version": 3
   },
   "file_extension": ".py",
   "mimetype": "text/x-python",
   "name": "python",
   "nbconvert_exporter": "python",
   "pygments_lexer": "ipython3",
   "version": "3.6.4"
  }
 },
 "nbformat": 4,
 "nbformat_minor": 2
}
