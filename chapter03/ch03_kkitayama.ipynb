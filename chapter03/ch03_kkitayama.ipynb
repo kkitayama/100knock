{
 "cells": [
  {
   "cell_type": "markdown",
   "metadata": {},
   "source": [
    "# 第3章: 正規表現\n",
    "Wikipediaの記事を以下のフォーマットで書き出したファイルjawiki-country.json.gzがある．\n",
    "\n",
    "- 1行に1記事の情報がJSON形式で格納される\n",
    "- 各行には記事名が\"title\"キーに，記事本文が\"text\"キーの辞書オブジェクトに格納され，そのオブジェクトがJSON形式で書き出される\n",
    "- ファイル全体はgzipで圧縮される\n",
    "\n",
    "以下の処理を行うプログラムを作成せよ．"
   ]
  },
  {
   "cell_type": "markdown",
   "metadata": {},
   "source": [
    "## 20. JSONデータの読み込み\n",
    "Wikipedia記事のJSONファイルを読み込み，「イギリス」に関する記事本文を表示せよ．問題21-29では，ここで抽出した記事本文に対して実行せよ．"
   ]
  },
  {
   "cell_type": "code",
   "execution_count": 1,
   "metadata": {},
   "outputs": [],
   "source": [
    "import gzip\n",
    "import json\n",
    "\n",
    "with gzip.open('data/jawiki-country.json.gz', 'r') as f, \\\n",
    "     open('work/uk.txt', 'w') as fu:\n",
    "    for line in f:\n",
    "        article = json.loads(line)   # loadだとエラーが出た -> AttributeError: 'bytes' object has no attribute 'read'\n",
    "        if article['title'] == 'イギリス':\n",
    "            fu.write(article['text'])   #　問題21-29のために保存\n",
    "            \n",
    "# gzip\n",
    "# https://docs.python.jp/3/library/gzip.html\n",
    "# json\n",
    "# https://www.sejuku.net/blog/41293\n",
    "# https://docs.python.jp/3/library/json.html"
   ]
  },
  {
   "cell_type": "code",
   "execution_count": 87,
   "metadata": {},
   "outputs": [
    {
     "data": {
      "text/plain": [
       "\"\\n# 確認\\nwith open('work/uk.txt', 'r') as f:\\n    for line in f:\\n        print(line, end = '')\\n\""
      ]
     },
     "execution_count": 87,
     "metadata": {},
     "output_type": "execute_result"
    }
   ],
   "source": [
    "\"\"\"\n",
    "# 確認\n",
    "with open('work/uk.txt', 'r') as f:\n",
    "    for line in f:\n",
    "        print(line, end = '')\n",
    "\"\"\""
   ]
  },
  {
   "cell_type": "code",
   "execution_count": 3,
   "metadata": {},
   "outputs": [
    {
     "name": "stdout",
     "output_type": "stream",
     "text": [
      "{{redirect|UK}}\n",
      "{{基礎情報 国\n",
      "|略名 = イギリス\n",
      "|日本語国名 = グレートブリテン及び北アイルランド連合王国\n",
      "|公式国名 = {{lang|en|United Kingdom of Great Britain and Northern Ireland}}<ref>英語以外での正式国名:<br/>\n",
      "*{{lang|gd|An Rìoghachd Aonaichte na Breatainn Mhòr agus Eirinn mu Thuath}}（[[スコットランド・ゲール語]]）<br/>\n",
      "*{{lang|cy|Teyrnas Gyfunol Prydain Fawr a Gogledd Iwerddon}}（[[ウェールズ語]]）<br/>\n",
      "*{{lang|ga|Ríocht Aontaithe na Breataine Móire agus Tuaisceart na hÉireann}}（[[アイルランド語]]）<br/>\n",
      "*{{lang|kw|An Rywvaneth Unys a Vreten Veur hag Iwerdhon Glédh}}（[[コーンウォール語]]）<br/>\n",
      "*{{lang|sco|Unitit Kinrick o Great Breetain an Northren Ireland}}（[[スコットランド語]]）<br/>\n",
      "...\n",
      "\n",
      "{{デフォルトソート:いきりす}}\n",
      "[[Category:イギリス|*]]\n",
      "[[Category:英連邦王国|*]]\n",
      "[[Category:G8加盟国]]\n",
      "[[Category:欧州連合加盟国]]\n",
      "[[Category:海洋国家]]\n",
      "[[Category:君主国]]\n",
      "[[Category:島国|くれいとふりてん]]\n",
      "[[Category:1801年に設立された州・地域]]"
     ]
    }
   ],
   "source": [
    "!head ./work/uk.txt\n",
    "!echo ...\n",
    "!tail ./work/uk.txt"
   ]
  },
  {
   "cell_type": "markdown",
   "metadata": {},
   "source": [
    "## 21. カテゴリ名を含む行を抽出\n",
    "記事中でカテゴリ名を宣言している行を抽出せよ．"
   ]
  },
  {
   "cell_type": "code",
   "execution_count": 4,
   "metadata": {},
   "outputs": [
    {
     "name": "stdout",
     "output_type": "stream",
     "text": [
      "[[Category:イギリス|*]]\n",
      "[[Category:英連邦王国|*]]\n",
      "[[Category:G8加盟国]]\n",
      "[[Category:欧州連合加盟国]]\n",
      "[[Category:海洋国家]]\n",
      "[[Category:君主国]]\n",
      "[[Category:島国|くれいとふりてん]]\n",
      "[[Category:1801年に設立された州・地域]]"
     ]
    },
    {
     "data": {
      "text/plain": [
       "'\\n正規表現のパターン文字列を定義するときは、クォーテーションの前に r を付て利用した方が良いです。\\n正規表現にはバックスラッシュを使用したパターンが存在するため、\\nr を付けることによって raw 文字列として扱われ、エスケープシーケンスを無効にしてくれます。\\n'"
      ]
     },
     "execution_count": 4,
     "metadata": {},
     "output_type": "execute_result"
    }
   ],
   "source": [
    "import re\n",
    "\n",
    "regex = re.compile(r'\\[\\[Category:.*]]')   # 正規表現オブジェクトの生成 '\\[\\['は'[['を検索している\n",
    "with open('work/uk.txt', 'r') as f:\n",
    "    for line in f:\n",
    "        if re.search(regex, line):   # search -> マッチが見つからなければNoneを返す\n",
    "            print(line, end = '')\n",
    "# re\n",
    "# https://docs.python.jp/3/library/re.html\n",
    "# http://uxmilk.jp/41416\n",
    "\"\"\"\n",
    "正規表現のパターン文字列を定義するときは、クォーテーションの前に r を付て利用した方が良いです。\n",
    "正規表現にはバックスラッシュを使用したパターンが存在するため、\n",
    "r を付けることによって raw 文字列として扱われ、エスケープシーケンスを無効にしてくれます。\n",
    "\"\"\"\n",
    "#  カテゴリ\n",
    "# https://ja.wikipedia.org/wiki/Help:%E3%82%AB%E3%83%86%E3%82%B4%E3%83%AA\n",
    "# カテゴリに含めるためには、[[Category:カテゴリ名]] と記述されます。"
   ]
  },
  {
   "cell_type": "markdown",
   "metadata": {},
   "source": [
    "## 22. カテゴリ名の抽出\n",
    "記事のカテゴリ名を（行単位ではなく名前で）抽出せよ．"
   ]
  },
  {
   "cell_type": "code",
   "execution_count": 5,
   "metadata": {},
   "outputs": [
    {
     "name": "stdout",
     "output_type": "stream",
     "text": [
      "イギリス|*\n",
      "英連邦王国|*\n",
      "G8加盟国\n",
      "欧州連合加盟国\n",
      "海洋国家\n",
      "君主国\n",
      "島国|くれいとふりてん\n",
      "1801年に設立された州・地域\n"
     ]
    }
   ],
   "source": [
    "import re\n",
    "\n",
    "regex = re.compile(r'\\[\\[Category:(.*)]]')   # () -> かっこの中にパターンを記述し，グループ化\n",
    "with open('work/uk.txt', 'r') as f:\n",
    "    for line in f:\n",
    "        M = re.search(regex, line)   # マッチオブジェクト\n",
    "        if M:\n",
    "            print(M.group(1))"
   ]
  },
  {
   "cell_type": "code",
   "execution_count": 6,
   "metadata": {},
   "outputs": [
    {
     "name": "stdout",
     "output_type": "stream",
     "text": [
      "イギリス\n",
      "英連邦王国\n",
      "G8加盟国\n",
      "欧州連合加盟国\n",
      "海洋国家\n",
      "君主国\n",
      "島国\n",
      "1801年に設立された州・地域\n"
     ]
    }
   ],
   "source": [
    "# |*消したい\n",
    "import re\n",
    "\n",
    "regex = re.compile(r'^\\[\\[Category:([^|\\]]*).*]]$')  \n",
    "with open('work/uk.txt', 'r') as f:\n",
    "    for line in f:\n",
    "        M = re.search(regex, line)   \n",
    "        if M:\n",
    "            print(M.group(1))\n",
    "# くれいとふりてんも消えた..."
   ]
  },
  {
   "cell_type": "markdown",
   "metadata": {},
   "source": [
    "## 23. セクション構造\n",
    "記事中に含まれるセクション名とそのレベル（例えば\"== セクション名 ==\"なら1）を表示せよ．"
   ]
  },
  {
   "cell_type": "code",
   "execution_count": 2,
   "metadata": {},
   "outputs": [
    {
     "name": "stdout",
     "output_type": "stream",
     "text": [
      "国名 : 1\n",
      "歴史 : 1\n",
      "地理 : 1\n",
      "気候 : 2\n",
      "政治 : 1\n",
      "外交と軍事 : 1\n",
      "地方行政区分 : 1\n",
      "主要都市 : 2\n",
      "科学技術 : 1\n",
      "経済 : 1\n",
      "鉱業 : 2\n",
      "農業 : 2\n",
      "貿易 : 2\n",
      "通貨 : 2\n",
      "企業 : 2\n",
      "交通 : 1\n",
      "道路 : 2\n",
      "鉄道 : 2\n",
      "海運 : 2\n",
      "航空 : 2\n",
      "通信 : 1\n",
      "国民 : 1\n",
      "言語 : 2\n",
      "宗教 : 2\n",
      "婚姻 : 2\n",
      "教育 : 2\n",
      "文化 : 1\n",
      "食文化 : 2\n",
      "文学 : 2\n",
      "哲学 : 2\n",
      "音楽 : 2\n",
      "イギリスのポピュラー音楽 : 3\n",
      "映画 : 2\n",
      "コメディ : 2\n",
      "国花 : 2\n",
      "世界遺産 : 2\n",
      "祝祭日 : 2\n",
      "スポーツ : 1\n",
      "サッカー : 2\n",
      "競馬 : 2\n",
      "モータースポーツ : 2\n",
      "脚注 : 1\n",
      "関連項目 : 1\n",
      "外部リンク : 1\n"
     ]
    },
    {
     "data": {
      "text/plain": [
       "'\\n== セクションの見出し ==\\n=== サブセクションの見出し ===\\n==== サブサブセクションの見出し ====\\n等号の数が多くなるほど、セクションの階層が深くなります。\\n'"
      ]
     },
     "execution_count": 2,
     "metadata": {},
     "output_type": "execute_result"
    }
   ],
   "source": [
    "import re\n",
    "\n",
    "regex = re.compile(r'(={2,})\\s*(.+?)\\s*={2,}')\n",
    "with open('work/uk.txt') as f:\n",
    "    for line in f:\n",
    "        M = re.search(regex, line)\n",
    "        if M:\n",
    "            print('{} : {}'.format(M.group(2), int(len(M.group(1))) - 1))\n",
    "\n",
    "# セクション\n",
    "# https://ja.wikipedia.org/wiki/Help:%E3%82%BB%E3%82%AF%E3%82%B7%E3%83%A7%E3%83%B3\n",
    "\"\"\"\n",
    "== セクションの見出し ==\n",
    "=== サブセクションの見出し ===\n",
    "==== サブサブセクションの見出し ====\n",
    "等号の数が多くなるほど、セクションの階層が深くなります。\n",
    "\"\"\""
   ]
  },
  {
   "cell_type": "code",
   "execution_count": 5,
   "metadata": {},
   "outputs": [],
   "source": [
    "# 後方参照\n",
    "\"\"\"\n",
    "=の数を左右対応させる\n",
    "後方参照(regux)\\1 最初のグループと同じ表現の時のみマッチ\n",
    "ここでは(={2,5})と同じ表現とマッチ\n",
    "\"\"\"\n",
    "section_pattern = re.compile(r\"(={2,5})(.*)\\1\")"
   ]
  },
  {
   "cell_type": "code",
   "execution_count": 14,
   "metadata": {},
   "outputs": [
    {
     "data": {
      "text/plain": [
       "'\\nimport re\\n\\nregex = re.compile(r\"(={2,5})(.*)\\x01\")\\nwith open(\\'work/uk.txt\\') as f:\\n    for line in f:\\n        M = re.search(regex, line)\\n        if M:\\n            print(\\'{} : {}\\'.format(M.group(2), int(len(M.group(1))) - 1))\\n'"
      ]
     },
     "execution_count": 14,
     "metadata": {},
     "output_type": "execute_result"
    }
   ],
   "source": [
    "\"\"\"\n",
    "import re\n",
    "\n",
    "regex = re.compile(r\"(={2,5})(.*)\\1\")\n",
    "with open('work/uk.txt') as f:\n",
    "    for line in f:\n",
    "        M = re.search(regex, line)\n",
    "        if M:\n",
    "            print('{} : {}'.format(M.group(2), int(len(M.group(1))) - 1))\n",
    "\"\"\""
   ]
  },
  {
   "cell_type": "markdown",
   "metadata": {},
   "source": [
    "## 24. ファイル参照の抽出\n",
    "記事から参照されているメディアファイルをすべて抜き出せ．"
   ]
  },
  {
   "cell_type": "code",
   "execution_count": 8,
   "metadata": {},
   "outputs": [
    {
     "name": "stdout",
     "output_type": "stream",
     "text": [
      "Royal Coat of Arms of the United Kingdom.svg\n",
      "Battle of Waterloo 1815.PNG\n",
      "The British Empire.png\n",
      "Uk topo en.jpg\n",
      "BenNevis2005.jpg\n",
      "Elizabeth II greets NASA GSFC employees, May 8, 2007 edit.jpg\n",
      "Palace of Westminster, London - Feb 2007.jpg\n",
      "David Cameron and Barack Obama at the G20 Summit in Toronto.jpg\n",
      "Soldiers Trooping the Colour, 16th June 2007.jpg\n",
      "Scotland Parliament Holyrood.jpg\n",
      "London.bankofengland.arp.jpg\n",
      "City of London skyline from London City Hall - Oct 2008.jpg\n",
      "Oil platform in the North SeaPros.jpg\n",
      "Eurostar at St Pancras Jan 2008.jpg\n",
      "Heathrow T5.jpg\n",
      "Anglospeak.svg\n",
      "CHANDOS3.jpg\n",
      "The Fabs.JPG\n",
      "Wembley Stadium, illuminated.jpg\n"
     ]
    },
    {
     "data": {
      "text/plain": [
       "'\\n書式：[[ファイル:ファイル名|オプション]] （内部リンクのマークアップと同じ）\\nプレフィックスはFileでも機能します（[[File:ファイル名|オプション]] ）\\n'"
      ]
     },
     "execution_count": 8,
     "metadata": {},
     "output_type": "execute_result"
    }
   ],
   "source": [
    "import re\n",
    "\n",
    "regex = re.compile(r'\\[\\[(ファイル|File):([^|]*).*]]')\n",
    "with open('work/uk.txt', 'r') as f:\n",
    "    for line in f:\n",
    "        M = re.search(regex, line)\n",
    "        if M:\n",
    "            print(M.group(2))\n",
    "\n",
    "\n",
    "# https://ja.wikipedia.org/wiki/Help:%E7%94%BB%E5%83%8F%E3%81%AE%E8%A1%A8%E7%A4%BA\n",
    "\"\"\"\n",
    "書式：[[ファイル:ファイル名|オプション]] （内部リンクのマークアップと同じ）\n",
    "プレフィックスはFileでも機能します（[[File:ファイル名|オプション]] ）\n",
    "\"\"\""
   ]
  },
  {
   "cell_type": "code",
   "execution_count": 9,
   "metadata": {},
   "outputs": [
    {
     "name": "stdout",
     "output_type": "stream",
     "text": [
      "Royal Coat of Arms of the United Kingdom.svg\n",
      "Battle of Waterloo 1815.PNG\n",
      "The British Empire.png\n",
      "Uk topo en.jpg\n",
      "BenNevis2005.jpg\n",
      "Elizabeth II greets NASA GSFC employees, May 8, 2007 edit.jpg\n",
      "Palace of Westminster, London - Feb 2007.jpg\n",
      "David Cameron and Barack Obama at the G20 Summit in Toronto.jpg\n",
      "Soldiers Trooping the Colour, 16th June 2007.jpg\n",
      "Scotland Parliament Holyrood.jpg\n",
      "London.bankofengland.arp.jpg\n",
      "City of London skyline from London City Hall - Oct 2008.jpg\n",
      "Oil platform in the North SeaPros.jpg\n",
      "Eurostar at St Pancras Jan 2008.jpg\n",
      "Heathrow T5.jpg\n",
      "Anglospeak.svg\n",
      "CHANDOS3.jpg\n",
      "The Fabs.JPG\n",
      "PalaceOfWestminsterAtNight.jpg\n",
      "Westminster Abbey - West Door.jpg\n",
      "Edinburgh Cockburn St dsc06789.jpg\n",
      "Canterbury Cathedral - Portal Nave Cross-spire.jpeg\n",
      "Kew Gardens Palm House, London - July 2009.jpg\n",
      "2005-06-27 - United Kingdom - England - London - Greenwich.jpg\n",
      "Stonehenge2007 07 30.jpg\n",
      "Yard2.jpg\n",
      "Durham Kathedrale Nahaufnahme.jpg\n",
      "Roman Baths in Bath Spa, England - July 2006.jpg\n",
      "Fountains Abbey view02 2005-08-27.jpg\n",
      "Blenheim Palace IMG 3673.JPG\n",
      "Liverpool Pier Head by night.jpg\n",
      "Hadrian's Wall view near Greenhead.jpg\n",
      "London Tower (1).JPG\n",
      "Wembley Stadium, illuminated.jpg\n"
     ]
    }
   ],
   "source": [
    "# '[[ファイル:ファイル名]]' じゃなくて'ファイル:ファイル名'も混じってる?\n",
    "import re\n",
    "\n",
    "regex = re.compile(r'(ファイル|File):([^|]*).*')\n",
    "with open('work/uk.txt', 'r') as f:\n",
    "    for line in f:\n",
    "        M = re.search(regex, line)\n",
    "        if M:\n",
    "            print(M.group(2))"
   ]
  },
  {
   "cell_type": "code",
   "execution_count": 9,
   "metadata": {},
   "outputs": [
    {
     "name": "stdout",
     "output_type": "stream",
     "text": [
      "Royal Coat of Arms of the United Kingdom.svg\n",
      "Battle of Waterloo 1815.PNG\n",
      "The British Empire.png\n",
      "Uk topo en.jpg\n",
      "BenNevis2005.jpg\n",
      "Elizabeth II greets NASA GSFC employees, May 8, 2007 edit.jpg\n",
      "Palace of Westminster, London - Feb 2007.jpg\n",
      "David Cameron and Barack Obama at the G20 Summit in Toronto.jpg\n",
      "Soldiers Trooping the Colour, 16th June 2007.jpg\n",
      "Scotland Parliament Holyrood.jpg\n",
      "London.bankofengland.arp.jpg\n",
      "City of London skyline from London City Hall - Oct 2008.jpg\n",
      "Oil platform in the North SeaPros.jpg\n",
      "Eurostar at St Pancras Jan 2008.jpg\n",
      "Heathrow T5.jpg\n",
      "Anglospeak.svg\n",
      "CHANDOS3.jpg\n",
      "The Fabs.JPG\n",
      "PalaceOfWestminsterAtNight.jpg\n",
      "Westminster Abbey - West Door.jpg\n",
      "Edinburgh Cockburn St dsc06789.jpg\n",
      "Canterbury Cathedral - Portal Nave Cross-spire.jpeg\n",
      "Kew Gardens Palm House, London - July 2009.jpg\n",
      "2005-06-27 - United Kingdom - England - London - Greenwich.jpg\n",
      "Stonehenge2007 07 30.jpg\n",
      "Yard2.jpg\n",
      "Durham Kathedrale Nahaufnahme.jpg\n",
      "Roman Baths in Bath Spa, England - July 2006.jpg\n",
      "Fountains Abbey view02 2005-08-27.jpg\n",
      "Blenheim Palace IMG 3673.JPG\n",
      "Liverpool Pier Head by night.jpg\n",
      "Hadrian's Wall view near Greenhead.jpg\n",
      "London Tower (1).JPG\n",
      "Wembley Stadium, illuminated.jpg\n"
     ]
    }
   ],
   "source": [
    "# グループに名前付けできる\n",
    "# ?P<name>\n",
    "import re\n",
    "\n",
    "regex = re.compile(r'(ファイル|File):(?P<name>[^|]*).*')\n",
    "with open('work/uk.txt', 'r') as f:\n",
    "    for line in f:\n",
    "        M = re.search(regex, line)\n",
    "        if M:\n",
    "            print(M.group('name'))"
   ]
  },
  {
   "cell_type": "markdown",
   "metadata": {},
   "source": [
    "## 25. テンプレートの抽出\n",
    "記事中に含まれる「基礎情報」テンプレートのフィールド名と値を抽出し，辞書オブジェクトとして格納せよ．"
   ]
  },
  {
   "cell_type": "code",
   "execution_count": 18,
   "metadata": {},
   "outputs": [
    {
     "data": {
      "text/plain": [
       "\"\\nimport re\\n\\n# https://regex101.com/でやってみて，ぽくなったやつ\\nregex = re.compile(r'{{基礎情報\\\\s国|(?P<field>[^|=]*)\\\\s=\\\\s(?P<value>.*)')\\nbasic_info_dic = {}\\nwith open('work/uk.txt', 'r') as f:\\n    for line in f:\\n        M = re.search(regex, line)\\n        if M:\\n            basic_info_dic[M.group('field')] = M.group('value')\\nprint(basic_info_dic)\\n\\n# https://ja.wikipedia.org/wiki/Template:%E5%9F%BA%E7%A4%8E%E6%83%85%E5%A0%B1_%E5%9B%BD\\n\""
      ]
     },
     "execution_count": 18,
     "metadata": {},
     "output_type": "execute_result"
    }
   ],
   "source": [
    "# ボツ\n",
    "# |をエスケープしてない\n",
    "\"\"\"\n",
    "import re\n",
    "\n",
    "# https://regex101.com/でやってみて，ぽくなったやつ\n",
    "regex = re.compile(r'{{基礎情報\\s国|(?P<field>[^|=]*)\\s=\\s(?P<value>.*)')\n",
    "basic_info_dic = {}\n",
    "with open('work/uk.txt', 'r') as f:\n",
    "    for line in f:\n",
    "        M = re.search(regex, line)\n",
    "        if M:\n",
    "            basic_info_dic[M.group('field')] = M.group('value')\n",
    "print(basic_info_dic)\n",
    "\n",
    "# https://ja.wikipedia.org/wiki/Template:%E5%9F%BA%E7%A4%8E%E6%83%85%E5%A0%B1_%E5%9B%BD\n",
    "\"\"\""
   ]
  },
  {
   "cell_type": "code",
   "execution_count": 171,
   "metadata": {},
   "outputs": [
    {
     "name": "stdout",
     "output_type": "stream",
     "text": [
      "略名 : イギリス\n",
      "日本語国名 : グレートブリテン及び北アイルランド連合王国\n",
      "公式国名 : {{lang|en|United Kingdom of Great Britain and Northern Ireland}}<ref>英語以外での正式国名:<br/>\n",
      "*{{lang|gd|An Rìoghachd Aonaichte na Breatainn Mhòr agus Eirinn mu Thuath}}（[[スコットランド・ゲール語]]）<br/>\n",
      "*{{lang|cy|Teyrnas Gyfunol Prydain Fawr a Gogledd Iwerddon}}（[[ウェールズ語]]）<br/>\n",
      "*{{lang|ga|Ríocht Aontaithe na Breataine Móire agus Tuaisceart na hÉireann}}（[[アイルランド語]]）<br/>\n",
      "*{{lang|kw|An Rywvaneth Unys a Vreten Veur hag Iwerdhon Glédh}}（[[コーンウォール語]]）<br/>\n",
      "*{{lang|sco|Unitit Kinrick o Great Breetain an Northren Ireland}}（[[スコットランド語]]）<br/>\n",
      "**{{lang|sco|Claught Kängrick o Docht Brätain an Norlin Airlann}}、{{lang|sco|Unitet Kängdom o Great Brittain an Norlin Airlann}}（アルスター・スコットランド語）</ref>\n",
      "国旗画像 : Flag of the United Kingdom.svg\n",
      "国章画像 : [[ファイル:Royal Coat of Arms of the United Kingdom.svg|85px|イギリスの国章]]\n",
      "国章リンク : （[[イギリスの国章|国章]]）\n",
      "標語 : {{lang|fr|Dieu et mon droit}}<br/>（[[フランス語]]:神と私の権利）\n",
      "国歌 : [[女王陛下万歳|神よ女王陛下を守り給え]]\n",
      "位置画像 : Location_UK_EU_Europe_001.svg\n",
      "公用語 : [[英語]]（事実上）\n",
      "首都 : [[ロンドン]]\n",
      "最大都市 : ロンドン\n",
      "元首等肩書 : [[イギリスの君主|女王]]\n",
      "元首等氏名 : [[エリザベス2世]]\n",
      "首相等肩書 : [[イギリスの首相|首相]]\n",
      "首相等氏名 : [[デーヴィッド・キャメロン]]\n",
      "面積順位 : 76\n",
      "面積大きさ : 1 E11\n",
      "面積値 : 244,820\n",
      "水面積率 : 1.3%\n",
      "人口統計年 : 2011\n",
      "人口順位 : 22\n",
      "人口大きさ : 1 E7\n",
      "人口値 : 63,181,775<ref>[http://esa.un.org/unpd/wpp/Excel-Data/population.htm United Nations Department of Economic and Social Affairs>Population Division>Data>Population>Total Population]</ref>\n",
      "人口密度値 : 246\n",
      "GDP統計年元 : 2012\n",
      "GDP値元 : 1兆5478億<ref name=\"imf-statistics-gdp\">[http://www.imf.org/external/pubs/ft/weo/2012/02/weodata/weorept.aspx?pr.x=70&pr.y=13&sy=2010&ey=2012&scsm=1&ssd=1&sort=country&ds=.&br=1&c=112&s=NGDP%2CNGDPD%2CPPPGDP%2CPPPPC&grp=0&a= IMF>Data and Statistics>World Economic Outlook Databases>By Countrise>United Kingdom]</ref>\n",
      "GDP統計年MER : 2012\n",
      "GDP順位MER : 5\n",
      "GDP値MER : 2兆4337億<ref name=\"imf-statistics-gdp\" />\n",
      "GDP統計年 : 2012\n",
      "GDP順位 : 6\n",
      "GDP値 : 2兆3162億<ref name=\"imf-statistics-gdp\" />\n",
      "GDP/人 : 36,727<ref name=\"imf-statistics-gdp\" />\n",
      "建国形態 : 建国\n",
      "確立形態1 : [[イングランド王国]]／[[スコットランド王国]]<br />（両国とも[[連合法 (1707年)|1707年連合法]]まで）\n",
      "確立年月日1 : [[927年]]／[[843年]]\n",
      "確立形態2 : [[グレートブリテン王国]]建国<br />（[[連合法 (1707年)|1707年連合法]]）\n",
      "確立年月日2 : [[1707年]]\n",
      "確立形態3 : [[グレートブリテン及びアイルランド連合王国]]建国<br />（[[連合法 (1800年)|1800年連合法]]）\n",
      "確立年月日3 : [[1801年]]\n",
      "確立形態4 : 現在の国号「'''グレートブリテン及び北アイルランド連合王国'''」に変更\n",
      "確立年月日4 : [[1927年]]\n",
      "通貨 : [[スターリング・ポンド|UKポンド]] (&pound;)\n",
      "通貨コード : GBP\n",
      "時間帯 : ±0\n",
      "夏時間 : +1\n",
      "ISO 3166-1 : GB / GBR\n",
      "ccTLD : [[.uk]] / [[.gb]]<ref>使用は.ukに比べ圧倒的少数。</ref>\n",
      "国際電話番号 : 44\n",
      "注記 : <references />\n"
     ]
    }
   ],
   "source": [
    "import re\n",
    "\n",
    "with open('work/uk.txt', 'r') as fr, \\\n",
    "     open('work/uk_basic_info.txt', 'w') as f:\n",
    "        regex = re.compile(r'{{基礎情報(.*?)}}\\n', re.S)\n",
    "        article = fr.read()\n",
    "        M = re.search(regex, article)\n",
    "        if M:\n",
    "            f.write(M.group(0))\n",
    "            \n",
    "basic_info_dic = {}\n",
    "with open('work/uk_basic_info.txt', 'r') as f:\n",
    "    basic_info_text = f.read()\n",
    "    #print(basic_info_text)\n",
    "    regex = re.compile(r'^\\|(?P<field>.+?)\\s=\\s(?P<value>.+?)(?=\\n\\||\\n}})', re.MULTILINE | re.DOTALL)\n",
    "    basic_info_list = re.findall(regex, basic_info_text)\n",
    "    for pair in basic_info_list:\n",
    "        basic_info_dic[pair[0]] = pair[1]\n",
    "        \n",
    "for key in basic_info_dic:\n",
    "    print('{} : {}'.format(key, basic_info_dic[key]))\n",
    "# リストにしたから，groupに名前つけた意味なかった．．．"
   ]
  },
  {
   "cell_type": "code",
   "execution_count": 166,
   "metadata": {},
   "outputs": [],
   "source": [
    "#!cat work/uk_basic_info.txt"
   ]
  },
  {
   "cell_type": "code",
   "execution_count": 246,
   "metadata": {},
   "outputs": [
    {
     "name": "stdout",
     "output_type": "stream",
     "text": [
      "False [1]\n",
      "True [2, 4]\n",
      "False [3, 5]\n",
      "True [8, 10]\n"
     ]
    }
   ],
   "source": [
    "from itertools import groupby\n",
    "num = [1,2,4,3,5,8,10]\n",
    "for key, group in groupby(num, key = lambda n : n%2==0):\n",
    "    print(key, list(group))"
   ]
  },
  {
   "cell_type": "markdown",
   "metadata": {},
   "source": [
    "## 26. 強調マークアップの除去\n",
    "25の処理時に，テンプレートの値からMediaWikiの強調マークアップ（弱い強調，強調，強い強調のすべて）を除去してテキストに変換せよ（参考: [マークアップ早見表](https://ja.wikipedia.org/wiki/Help:%E6%97%A9%E8%A6%8B%E8%A1%A8)）．"
   ]
  },
  {
   "cell_type": "code",
   "execution_count": 249,
   "metadata": {},
   "outputs": [],
   "source": [
    "# 処理時に？\n",
    "with open('work/26.txt', 'w') as f:\n",
    "    reg_attn = re.compile(r'\\'{2,}')\n",
    "    for key, value in basic_info_dic.items():\n",
    "        f.write(key + ' : ' + re.sub(reg_attn, '', value) + '\\n')\n",
    "        \n",
    "# items\n",
    "# http://www.yukun.info/blog/2008/06/python-dict2.html"
   ]
  },
  {
   "cell_type": "code",
   "execution_count": 250,
   "metadata": {},
   "outputs": [
    {
     "name": "stdout",
     "output_type": "stream",
     "text": [
      "略名 : イギリス\r\n",
      "日本語国名 : グレートブリテン及び北アイルランド連合王国\r\n",
      "公式国名 : {{lang|en|United Kingdom of Great Britain and Northern Ireland}}<ref>英語以外での正式国名:<br/>\r\n",
      "*{{lang|gd|An Rìoghachd Aonaichte na Breatainn Mhòr agus Eirinn mu Thuath}}（[[スコットランド・ゲール語]]）<br/>\r\n",
      "*{{lang|cy|Teyrnas Gyfunol Prydain Fawr a Gogledd Iwerddon}}（[[ウェールズ語]]）<br/>\r\n",
      "*{{lang|ga|Ríocht Aontaithe na Breataine Móire agus Tuaisceart na hÉireann}}（[[アイルランド語]]）<br/>\r\n",
      "*{{lang|kw|An Rywvaneth Unys a Vreten Veur hag Iwerdhon Glédh}}（[[コーンウォール語]]）<br/>\r\n",
      "*{{lang|sco|Unitit Kinrick o Great Breetain an Northren Ireland}}（[[スコットランド語]]）<br/>\r\n",
      "**{{lang|sco|Claught Kängrick o Docht Brätain an Norlin Airlann}}、{{lang|sco|Unitet Kängdom o Great Brittain an Norlin Airlann}}（アルスター・スコットランド語）</ref>\r\n",
      "国旗画像 : Flag of the United Kingdom.svg\r\n",
      "国章画像 : [[ファイル:Royal Coat of Arms of the United Kingdom.svg|85px|イギリスの国章]]\r\n",
      "国章リンク : （[[イギリスの国章|国章]]）\r\n",
      "標語 : {{lang|fr|Dieu et mon droit}}<br/>（[[フランス語]]:神と私の権利）\r\n",
      "国歌 : [[女王陛下万歳|神よ女王陛下を守り給え]]\r\n",
      "位置画像 : Location_UK_EU_Europe_001.svg\r\n",
      "公用語 : [[英語]]（事実上）\r\n",
      "首都 : [[ロンドン]]\r\n",
      "最大都市 : ロンドン\r\n",
      "元首等肩書 : [[イギリスの君主|女王]]\r\n",
      "元首等氏名 : [[エリザベス2世]]\r\n",
      "首相等肩書 : [[イギリスの首相|首相]]\r\n",
      "首相等氏名 : [[デーヴィッド・キャメロン]]\r\n",
      "面積順位 : 76\r\n",
      "面積大きさ : 1 E11\r\n",
      "面積値 : 244,820\r\n",
      "水面積率 : 1.3%\r\n",
      "人口統計年 : 2011\r\n",
      "人口順位 : 22\r\n",
      "人口大きさ : 1 E7\r\n",
      "人口値 : 63,181,775<ref>[http://esa.un.org/unpd/wpp/Excel-Data/population.htm United Nations Department of Economic and Social Affairs>Population Division>Data>Population>Total Population]</ref>\r\n",
      "人口密度値 : 246\r\n",
      "GDP統計年元 : 2012\r\n",
      "GDP値元 : 1兆5478億<ref name=\"imf-statistics-gdp\">[http://www.imf.org/external/pubs/ft/weo/2012/02/weodata/weorept.aspx?pr.x=70&pr.y=13&sy=2010&ey=2012&scsm=1&ssd=1&sort=country&ds=.&br=1&c=112&s=NGDP%2CNGDPD%2CPPPGDP%2CPPPPC&grp=0&a= IMF>Data and Statistics>World Economic Outlook Databases>By Countrise>United Kingdom]</ref>\r\n",
      "GDP統計年MER : 2012\r\n",
      "GDP順位MER : 5\r\n",
      "GDP値MER : 2兆4337億<ref name=\"imf-statistics-gdp\" />\r\n",
      "GDP統計年 : 2012\r\n",
      "GDP順位 : 6\r\n",
      "GDP値 : 2兆3162億<ref name=\"imf-statistics-gdp\" />\r\n",
      "GDP/人 : 36,727<ref name=\"imf-statistics-gdp\" />\r\n",
      "建国形態 : 建国\r\n",
      "確立形態1 : [[イングランド王国]]／[[スコットランド王国]]<br />（両国とも[[連合法 (1707年)|1707年連合法]]まで）\r\n",
      "確立年月日1 : [[927年]]／[[843年]]\r\n",
      "確立形態2 : [[グレートブリテン王国]]建国<br />（[[連合法 (1707年)|1707年連合法]]）\r\n",
      "確立年月日2 : [[1707年]]\r\n",
      "確立形態3 : [[グレートブリテン及びアイルランド連合王国]]建国<br />（[[連合法 (1800年)|1800年連合法]]）\r\n",
      "確立年月日3 : [[1801年]]\r\n",
      "確立形態4 : 現在の国号「グレートブリテン及び北アイルランド連合王国」に変更\r\n",
      "確立年月日4 : [[1927年]]\r\n",
      "通貨 : [[スターリング・ポンド|UKポンド]] (&pound;)\r\n",
      "通貨コード : GBP\r\n",
      "時間帯 : ±0\r\n",
      "夏時間 : +1\r\n",
      "ISO 3166-1 : GB / GBR\r\n",
      "ccTLD : [[.uk]] / [[.gb]]<ref>使用は.ukに比べ圧倒的少数。</ref>\r\n",
      "国際電話番号 : 44\r\n",
      "注記 : <references />\r\n"
     ]
    }
   ],
   "source": [
    "!cat work/26.txt"
   ]
  },
  {
   "cell_type": "code",
   "execution_count": 280,
   "metadata": {},
   "outputs": [
    {
     "data": {
      "text/plain": [
       "\"\\nwith open('work/26_by_replfunc.txt', 'w') as f:\\n    reg_attn = re.compile(r''{2,}')\\n    for key, value in basic_info_dic.items():\\n        f.write(key + ' : ' + re.sub(reg_attn, '', value) + '\\n')\\n\""
      ]
     },
     "execution_count": 280,
     "metadata": {},
     "output_type": "execute_result"
    }
   ],
   "source": [
    "# replを関数でやってみたい\n",
    "\"\"\"\n",
    "with open('work/26_by_replfunc.txt', 'w') as f:\n",
    "    reg_attn = re.compile(r'\\'{2,}')\n",
    "    for key, value in basic_info_dic.items():\n",
    "        f.write(key + ' : ' + re.sub(reg_attn, '', value) + '\\n')\n",
    "\"\"\""
   ]
  },
  {
   "cell_type": "markdown",
   "metadata": {},
   "source": [
    "## 27. 内部リンクの除去\n",
    "26の処理に加えて，テンプレートの値からMediaWikiの内部リンクマークアップを除去し，テキストに変換せよ（参考: [マークアップ早見表](https://ja.wikipedia.org/wiki/Help:%E6%97%A9%E8%A6%8B%E8%A1%A8)）．"
   ]
  },
  {
   "cell_type": "code",
   "execution_count": 272,
   "metadata": {},
   "outputs": [],
   "source": [
    "with open('work/26.txt', 'r') as fr, \\\n",
    "     open('work/27.txt', 'w') as f:\n",
    "        # reg_inner_link = re.compile(r'\\[\\[(.*?)]]') \n",
    "        # ↓パクリ(ファイルにはひっからずに，かつ内部リンク３パターンいける．すごい．)\n",
    "        reg_inner_link = re.compile(\"\\[\\[[^\\|]*?\\|{0,1}([^\\|\\]]*)\\]\\]\")\n",
    "        for line in fr:\n",
    "            f.write(re.sub(reg_inner_link, r'\\1', line))"
   ]
  },
  {
   "cell_type": "code",
   "execution_count": 273,
   "metadata": {},
   "outputs": [
    {
     "name": "stdout",
     "output_type": "stream",
     "text": [
      "略名 : イギリス\r\n",
      "日本語国名 : グレートブリテン及び北アイルランド連合王国\r\n",
      "公式国名 : {{lang|en|United Kingdom of Great Britain and Northern Ireland}}<ref>英語以外での正式国名:<br/>\r\n",
      "*{{lang|gd|An Rìoghachd Aonaichte na Breatainn Mhòr agus Eirinn mu Thuath}}（スコットランド・ゲール語）<br/>\r\n",
      "*{{lang|cy|Teyrnas Gyfunol Prydain Fawr a Gogledd Iwerddon}}（ウェールズ語）<br/>\r\n",
      "*{{lang|ga|Ríocht Aontaithe na Breataine Móire agus Tuaisceart na hÉireann}}（アイルランド語）<br/>\r\n",
      "*{{lang|kw|An Rywvaneth Unys a Vreten Veur hag Iwerdhon Glédh}}（コーンウォール語）<br/>\r\n",
      "*{{lang|sco|Unitit Kinrick o Great Breetain an Northren Ireland}}（スコットランド語）<br/>\r\n",
      "**{{lang|sco|Claught Kängrick o Docht Brätain an Norlin Airlann}}、{{lang|sco|Unitet Kängdom o Great Brittain an Norlin Airlann}}（アルスター・スコットランド語）</ref>\r\n",
      "国旗画像 : Flag of the United Kingdom.svg\r\n",
      "国章画像 : [[ファイル:Royal Coat of Arms of the United Kingdom.svg|85px|イギリスの国章]]\r\n",
      "国章リンク : （国章）\r\n",
      "標語 : {{lang|fr|Dieu et mon droit}}<br/>（フランス語:神と私の権利）\r\n",
      "国歌 : 神よ女王陛下を守り給え\r\n",
      "位置画像 : Location_UK_EU_Europe_001.svg\r\n",
      "公用語 : 英語（事実上）\r\n",
      "首都 : ロンドン\r\n",
      "最大都市 : ロンドン\r\n",
      "元首等肩書 : 女王\r\n",
      "元首等氏名 : エリザベス2世\r\n",
      "首相等肩書 : 首相\r\n",
      "首相等氏名 : デーヴィッド・キャメロン\r\n",
      "面積順位 : 76\r\n",
      "面積大きさ : 1 E11\r\n",
      "面積値 : 244,820\r\n",
      "水面積率 : 1.3%\r\n",
      "人口統計年 : 2011\r\n",
      "人口順位 : 22\r\n",
      "人口大きさ : 1 E7\r\n",
      "人口値 : 63,181,775<ref>[http://esa.un.org/unpd/wpp/Excel-Data/population.htm United Nations Department of Economic and Social Affairs>Population Division>Data>Population>Total Population]</ref>\r\n",
      "人口密度値 : 246\r\n",
      "GDP統計年元 : 2012\r\n",
      "GDP値元 : 1兆5478億<ref name=\"imf-statistics-gdp\">[http://www.imf.org/external/pubs/ft/weo/2012/02/weodata/weorept.aspx?pr.x=70&pr.y=13&sy=2010&ey=2012&scsm=1&ssd=1&sort=country&ds=.&br=1&c=112&s=NGDP%2CNGDPD%2CPPPGDP%2CPPPPC&grp=0&a= IMF>Data and Statistics>World Economic Outlook Databases>By Countrise>United Kingdom]</ref>\r\n",
      "GDP統計年MER : 2012\r\n",
      "GDP順位MER : 5\r\n",
      "GDP値MER : 2兆4337億<ref name=\"imf-statistics-gdp\" />\r\n",
      "GDP統計年 : 2012\r\n",
      "GDP順位 : 6\r\n",
      "GDP値 : 2兆3162億<ref name=\"imf-statistics-gdp\" />\r\n",
      "GDP/人 : 36,727<ref name=\"imf-statistics-gdp\" />\r\n",
      "建国形態 : 建国\r\n",
      "確立形態1 : イングランド王国／スコットランド王国<br />（両国とも1707年連合法まで）\r\n",
      "確立年月日1 : 927年／843年\r\n",
      "確立形態2 : グレートブリテン王国建国<br />（1707年連合法）\r\n",
      "確立年月日2 : 1707年\r\n",
      "確立形態3 : グレートブリテン及びアイルランド連合王国建国<br />（1800年連合法）\r\n",
      "確立年月日3 : 1801年\r\n",
      "確立形態4 : 現在の国号「グレートブリテン及び北アイルランド連合王国」に変更\r\n",
      "確立年月日4 : 1927年\r\n",
      "通貨 : UKポンド (&pound;)\r\n",
      "通貨コード : GBP\r\n",
      "時間帯 : ±0\r\n",
      "夏時間 : +1\r\n",
      "ISO 3166-1 : GB / GBR\r\n",
      "ccTLD : .uk / .gb<ref>使用は.ukに比べ圧倒的少数。</ref>\r\n",
      "国際電話番号 : 44\r\n",
      "注記 : <references />\r\n"
     ]
    }
   ],
   "source": [
    "!cat work/27.txt"
   ]
  },
  {
   "cell_type": "markdown",
   "metadata": {},
   "source": [
    "## 28. MediaWikiマークアップの除去\n",
    "27の処理に加えて，テンプレートの値からMediaWikiマークアップを可能な限り除去し，国の基本情報を整形せよ．"
   ]
  },
  {
   "cell_type": "code",
   "execution_count": 281,
   "metadata": {},
   "outputs": [],
   "source": [
    "import re\n",
    "\n",
    "with open('work/27.txt', 'r') as fr, \\\n",
    "     open('work/28.txt', 'w') as f:\n",
    "        reg_outer_link = re.compile(r'\\[*?http.*]*?')\n",
    "        # reg_outer_link = re.compile(r'\\[{0,1}http.*]{0,1}')\n",
    "        reg_tag = re.compile(r'<.*?>')\n",
    "        reg_tmp = re.compile(r'\\{\\{(.+?)\\|(.+?)\\|(.+?)}}')\n",
    "        reg_file = re.compile(r'(ファイル|File):([^|]*).*')\n",
    "        for line in fr:\n",
    "            rm_outer_link = re.sub(reg_outer_link, '', line)\n",
    "            rm_tag = re.sub(reg_tag, '', rm_outer_link)\n",
    "            rm_tmp = re.sub(reg_tmp, r'\\3', rm_tag)\n",
    "            rm_file = re.sub(reg_file, r'\\2', rm_tmp)\n",
    "            f.write(rm_file)\n",
    "            \n",
    "# 他との区別って''~'' or \"~\" ?\n",
    "# tag消すと注記の中身なくなる．．．"
   ]
  },
  {
   "cell_type": "code",
   "execution_count": 282,
   "metadata": {},
   "outputs": [
    {
     "name": "stdout",
     "output_type": "stream",
     "text": [
      "略名 : イギリス\r\n",
      "日本語国名 : グレートブリテン及び北アイルランド連合王国\r\n",
      "公式国名 : United Kingdom of Great Britain and Northern Ireland英語以外での正式国名:\r\n",
      "*An Rìoghachd Aonaichte na Breatainn Mhòr agus Eirinn mu Thuath（スコットランド・ゲール語）\r\n",
      "*Teyrnas Gyfunol Prydain Fawr a Gogledd Iwerddon（ウェールズ語）\r\n",
      "*Ríocht Aontaithe na Breataine Móire agus Tuaisceart na hÉireann（アイルランド語）\r\n",
      "*An Rywvaneth Unys a Vreten Veur hag Iwerdhon Glédh（コーンウォール語）\r\n",
      "*Unitit Kinrick o Great Breetain an Northren Ireland（スコットランド語）\r\n",
      "**Claught Kängrick o Docht Brätain an Norlin Airlann、Unitet Kängdom o Great Brittain an Norlin Airlann（アルスター・スコットランド語）\r\n",
      "国旗画像 : Flag of the United Kingdom.svg\r\n",
      "国章画像 : [[Royal Coat of Arms of the United Kingdom.svg\r\n",
      "国章リンク : （国章）\r\n",
      "標語 : Dieu et mon droit（フランス語:神と私の権利）\r\n",
      "国歌 : 神よ女王陛下を守り給え\r\n",
      "位置画像 : Location_UK_EU_Europe_001.svg\r\n",
      "公用語 : 英語（事実上）\r\n",
      "首都 : ロンドン\r\n",
      "最大都市 : ロンドン\r\n",
      "元首等肩書 : 女王\r\n",
      "元首等氏名 : エリザベス2世\r\n",
      "首相等肩書 : 首相\r\n",
      "首相等氏名 : デーヴィッド・キャメロン\r\n",
      "面積順位 : 76\r\n",
      "面積大きさ : 1 E11\r\n",
      "面積値 : 244,820\r\n",
      "水面積率 : 1.3%\r\n",
      "人口統計年 : 2011\r\n",
      "人口順位 : 22\r\n",
      "人口大きさ : 1 E7\r\n",
      "人口値 : 63,181,775\r\n",
      "人口密度値 : 246\r\n",
      "GDP統計年元 : 2012\r\n",
      "GDP値元 : 1兆5478億\r\n",
      "GDP統計年MER : 2012\r\n",
      "GDP順位MER : 5\r\n",
      "GDP値MER : 2兆4337億\r\n",
      "GDP統計年 : 2012\r\n",
      "GDP順位 : 6\r\n",
      "GDP値 : 2兆3162億\r\n",
      "GDP/人 : 36,727\r\n",
      "建国形態 : 建国\r\n",
      "確立形態1 : イングランド王国／スコットランド王国（両国とも1707年連合法まで）\r\n",
      "確立年月日1 : 927年／843年\r\n",
      "確立形態2 : グレートブリテン王国建国（1707年連合法）\r\n",
      "確立年月日2 : 1707年\r\n",
      "確立形態3 : グレートブリテン及びアイルランド連合王国建国（1800年連合法）\r\n",
      "確立年月日3 : 1801年\r\n",
      "確立形態4 : 現在の国号「グレートブリテン及び北アイルランド連合王国」に変更\r\n",
      "確立年月日4 : 1927年\r\n",
      "通貨 : UKポンド (&pound;)\r\n",
      "通貨コード : GBP\r\n",
      "時間帯 : ±0\r\n",
      "夏時間 : +1\r\n",
      "ISO 3166-1 : GB / GBR\r\n",
      "ccTLD : .uk / .gb使用は.ukに比べ圧倒的少数。\r\n",
      "国際電話番号 : 44\r\n",
      "注記 : \r\n"
     ]
    }
   ],
   "source": [
    "!cat work/28.txt"
   ]
  },
  {
   "cell_type": "markdown",
   "metadata": {},
   "source": [
    "## 29. 国旗画像のURLを取得する\n",
    "テンプレートの内容を利用し，国旗画像のURLを取得せよ．（ヒント: [MediaWiki API](http://www.mediawiki.org/wiki/API:Main_page/ja)の[imageinfo](https://www.mediawiki.org/wiki/API:Imageinfo)を呼び出して，ファイル参照をURLに変換すればよい）"
   ]
  },
  {
   "cell_type": "code",
   "execution_count": 263,
   "metadata": {},
   "outputs": [
    {
     "name": "stdout",
     "output_type": "stream",
     "text": [
      "国旗画像 : Flag of the United Kingdom.svg\r\n"
     ]
    }
   ],
   "source": [
    "!grep '国旗画像' work/28.txt"
   ]
  },
  {
   "cell_type": "code",
   "execution_count": 264,
   "metadata": {},
   "outputs": [],
   "source": [
    "import requests\n",
    "\n",
    "payload = {\n",
    "    'action': 'query',\n",
    "    'titles': 'File:Flag of the United Kingdom.svg',\n",
    "    'prop': 'imageinfo',\n",
    "    'iiprop': 'url',\n",
    "    'format': 'json',\n",
    "}\n",
    "resp = requests.get('https://commons.wikimedia.org/w/api.php', params=payload)\n",
    "url_text = resp.json()['query']['pages']['347935']['imageinfo'][0]['url']\n",
    "\n",
    "# http://docs.python-requests.org/en/master/"
   ]
  },
  {
   "cell_type": "code",
   "execution_count": 265,
   "metadata": {},
   "outputs": [
    {
     "name": "stdout",
     "output_type": "stream",
     "text": [
      "https://upload.wikimedia.org/wikipedia/commons/a/ae/Flag_of_the_United_Kingdom.svg\n"
     ]
    }
   ],
   "source": [
    "print(url_text)"
   ]
  },
  {
   "cell_type": "code",
   "execution_count": 266,
   "metadata": {},
   "outputs": [
    {
     "name": "stdout",
     "output_type": "stream",
     "text": [
      "--2018-05-29 11:21:13--  https://upload.wikimedia.org/wikipedia/commons/a/ae/Flag_of_the_United_Kingdom.svg\n",
      "upload.wikimedia.org (upload.wikimedia.org) をDNSに問いあわせています... 103.102.166.240\n",
      "upload.wikimedia.org (upload.wikimedia.org)|103.102.166.240|:443 に接続しています... 接続しました。\n",
      "HTTP による接続要求を送信しました、応答を待っています... 200 OK\n",
      "長さ: 522 [image/svg+xml]\n",
      "`work/Flag_of_the_United_Kingdom.svg.1' に保存中\n",
      "\n",
      "Flag_of_the_United_ 100%[===================>]     522  --.-KB/s 時間 0s         \n",
      "\n",
      "2018-05-29 11:21:14 (3.02 MB/s) - `work/Flag_of_the_United_Kingdom.svg.1' へ保存完了 [522/522]\n",
      "\n"
     ]
    }
   ],
   "source": [
    "!wget https://upload.wikimedia.org/wikipedia/commons/a/ae/Flag_of_the_United_Kingdom.svg -P work/"
   ]
  },
  {
   "cell_type": "code",
   "execution_count": 268,
   "metadata": {},
   "outputs": [
    {
     "name": "stdout",
     "output_type": "stream",
     "text": [
      "26.txt\t28.txt\t\t\t\tuk.txt\r\n",
      "27.txt\tFlag_of_the_United_Kingdom.svg\tuk_basic_info.txt\r\n"
     ]
    }
   ],
   "source": [
    "!ls work/"
   ]
  },
  {
   "cell_type": "markdown",
   "metadata": {},
   "source": [
    "![国旗画像](https://upload.wikimedia.org/wikipedia/commons/a/ae/Flag_of_the_United_Kingdom.svg)"
   ]
  },
  {
   "cell_type": "code",
   "execution_count": 285,
   "metadata": {},
   "outputs": [
    {
     "data": {
      "image/svg+xml": [
       "<svg height=\"600\" viewBox=\"0 0 60 30\" width=\"1200\" xmlns=\"http://www.w3.org/2000/svg\">\n",
       "<clipPath id=\"t\">\n",
       "\t<path d=\"M30,15 h30 v15 z v15 h-30 z h-30 v-15 z v-15 h30 z\"/>\n",
       "</clipPath>\n",
       "<path d=\"M0,0 v30 h60 v-30 z\" fill=\"#00247d\"/>\n",
       "<path d=\"M0,0 L60,30 M60,0 L0,30\" stroke=\"#fff\" stroke-width=\"6\"/>\n",
       "<path clip-path=\"url(#t)\" d=\"M0,0 L60,30 M60,0 L0,30\" stroke=\"#cf142b\" stroke-width=\"4\"/>\n",
       "<path d=\"M30,0 v30 M0,15 h60\" stroke=\"#fff\" stroke-width=\"10\"/>\n",
       "<path d=\"M30,0 v30 M0,15 h60\" stroke=\"#cf142b\" stroke-width=\"6\"/>\n",
       "</svg>"
      ],
      "text/plain": [
       "<IPython.core.display.SVG object>"
      ]
     },
     "execution_count": 285,
     "metadata": {},
     "output_type": "execute_result"
    }
   ],
   "source": [
    "from IPython.display import SVG\n",
    "SVG('work/Flag_of_the_United_Kingdom.svg')"
   ]
  }
 ],
 "metadata": {
  "kernelspec": {
   "display_name": "Python 3",
   "language": "python",
   "name": "python3"
  },
  "language_info": {
   "codemirror_mode": {
    "name": "ipython",
    "version": 3
   },
   "file_extension": ".py",
   "mimetype": "text/x-python",
   "name": "python",
   "nbconvert_exporter": "python",
   "pygments_lexer": "ipython3",
   "version": "3.6.4"
  }
 },
 "nbformat": 4,
 "nbformat_minor": 2
}
