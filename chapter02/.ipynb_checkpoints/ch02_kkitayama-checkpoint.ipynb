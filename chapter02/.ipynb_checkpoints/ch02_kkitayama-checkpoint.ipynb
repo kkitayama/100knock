{
 "cells": [
  {
   "cell_type": "markdown",
   "metadata": {},
   "source": [
    "# 第2章: UNIXコマンドの基礎\n",
    "\n",
    "[popular-names.txt](popular-names.txt)は，アメリカで生まれた赤ちゃんの「名前」「性別」「人数」「年」をタブ区切り形式で格納したファイルである．以下の処理を行うプログラムを作成し，[popular-names.txt](popular-names.txt)を入力ファイルとして実行せよ．さらに，同様の処理をUNIXコマンドでも実行し，プログラムの実行結果を確認せよ．"
   ]
  },
  {
   "cell_type": "code",
   "execution_count": 1,
   "metadata": {},
   "outputs": [],
   "source": [
    "data_path = 'data/popular-names.txt'"
   ]
  },
  {
   "cell_type": "code",
   "execution_count": 2,
   "metadata": {},
   "outputs": [],
   "source": [
    "!cp data/popular-names.txt data/tmp_popular-names.txt"
   ]
  },
  {
   "cell_type": "code",
   "execution_count": 3,
   "metadata": {},
   "outputs": [
    {
     "name": "stdout",
     "output_type": "stream",
     "text": [
      "popular-names.txt  tmp_popular-names.txt\r\n"
     ]
    }
   ],
   "source": [
    "!ls data/"
   ]
  },
  {
   "cell_type": "code",
   "execution_count": 51,
   "metadata": {},
   "outputs": [
    {
     "name": "stdout",
     "output_type": "stream",
     "text": [
      "Mary\tF\t7065\t1880\r\n",
      "Anna\tF\t2604\t1880\r\n",
      "Emma\tF\t2003\t1880\r\n",
      "Elizabeth\tF\t1939\t1880\r\n",
      "Minnie\tF\t1746\t1880\r\n",
      "Margaret\tF\t1578\t1880\r\n",
      "Ida\tF\t1472\t1880\r\n",
      "Alice\tF\t1414\t1880\r\n",
      "Bertha\tF\t1320\t1880\r\n",
      "Sarah\tF\t1288\t1880\r\n"
     ]
    }
   ],
   "source": [
    "!head data/popular-names.txt"
   ]
  },
  {
   "cell_type": "markdown",
   "metadata": {},
   "source": [
    "## 10. 行数のカウント\n",
    "行数をカウントせよ．確認にはwcコマンドを用いよ．"
   ]
  },
  {
   "cell_type": "code",
   "execution_count": 5,
   "metadata": {},
   "outputs": [
    {
     "name": "stdout",
     "output_type": "stream",
     "text": [
      "2740\n"
     ]
    }
   ],
   "source": [
    "with open(data_path, 'r') as f:\n",
    "    print(len(f.readlines()))"
   ]
  },
  {
   "cell_type": "markdown",
   "metadata": {},
   "source": [
    "- with構文 https://www.sejuku.net/blog/24672\n",
    "- file操作 http://programming-study.com/technology/python-file/\n",
    "- テキストファイル読み込み http://www.yukun.info/blog/2008/06/python-file.html"
   ]
  },
  {
   "cell_type": "code",
   "execution_count": 6,
   "metadata": {},
   "outputs": [
    {
     "name": "stdout",
     "output_type": "stream",
     "text": [
      "2740\r\n"
     ]
    }
   ],
   "source": [
    "!wc -l < data/popular-names.txt"
   ]
  },
  {
   "cell_type": "markdown",
   "metadata": {},
   "source": [
    "## 11. タブをスペースに置換\n",
    "タブ1文字につきスペース1文字に置換せよ．確認にはsedコマンド，trコマンド，もしくはexpandコマンドを用いよ．"
   ]
  },
  {
   "cell_type": "code",
   "execution_count": 7,
   "metadata": {},
   "outputs": [],
   "source": [
    "with open(data_path, 'r') as f:\n",
    "    with open('work/q11.txt', 'w') as fw:\n",
    "        for line in f:\n",
    "            fw.write(line.replace('\\t', ' '))"
   ]
  },
  {
   "cell_type": "code",
   "execution_count": 8,
   "metadata": {},
   "outputs": [
    {
     "name": "stdout",
     "output_type": "stream",
     "text": [
      "Mary F 7065 1880\r\n",
      "Anna F 2604 1880\r\n",
      "Emma F 2003 1880\r\n",
      "Elizabeth F 1939 1880\r\n",
      "Minnie F 1746 1880\r\n"
     ]
    }
   ],
   "source": [
    "!head -5 work/q11.txt"
   ]
  },
  {
   "cell_type": "code",
   "execution_count": 9,
   "metadata": {},
   "outputs": [
    {
     "name": "stdout",
     "output_type": "stream",
     "text": [
      "Mary F 7065 1880\r\n",
      "Anna F 2604 1880\r\n",
      "Emma F 2003 1880\r\n",
      "Elizabeth F 1939 1880\r\n",
      "Minnie F 1746 1880\r\n"
     ]
    }
   ],
   "source": [
    "!head -5 data/popular-names.txt | sed 's/\\t/ /g'"
   ]
  },
  {
   "cell_type": "code",
   "execution_count": 10,
   "metadata": {},
   "outputs": [
    {
     "name": "stdout",
     "output_type": "stream",
     "text": [
      "Mary F 7065 1880\r\n",
      "Anna F 2604 1880\r\n",
      "Emma F 2003 1880\r\n",
      "Elizabeth F 1939 1880\r\n",
      "Minnie F 1746 1880\r\n"
     ]
    }
   ],
   "source": [
    "!head -5 data/popular-names.txt | tr '\\t' ' '"
   ]
  },
  {
   "cell_type": "code",
   "execution_count": 11,
   "metadata": {},
   "outputs": [
    {
     "name": "stdout",
     "output_type": "stream",
     "text": [
      "Mary F 7065 1880\r\n",
      "Anna F 2604 1880\r\n",
      "Emma F 2003 1880\r\n",
      "Elizabeth F 1939 1880\r\n",
      "Minnie F 1746 1880\r\n"
     ]
    }
   ],
   "source": [
    "!head -5 data/popular-names.txt | expand -t 1"
   ]
  },
  {
   "cell_type": "markdown",
   "metadata": {},
   "source": [
    "## 12. 1列目をcol1.txtに，2列目をcol2.txtに保存\n",
    "各行の1列目だけを抜き出したものをcol1.txtに，2列目だけを抜き出したものをcol2.txtとしてファイルに保存せよ．確認にはcutコマンドを用いよ．"
   ]
  },
  {
   "cell_type": "code",
   "execution_count": 12,
   "metadata": {},
   "outputs": [],
   "source": [
    "with open(data_path, 'r') as f:\n",
    "    with open('work/col1.txt', 'w') as f1:\n",
    "        with open('work/col2.txt', 'w') as f2:\n",
    "            for line in f:\n",
    "                name, sex, *_ = line.split()\n",
    "                f1.write(name + '\\n')\n",
    "                f2.write(sex + '\\n')"
   ]
  },
  {
   "cell_type": "code",
   "execution_count": 13,
   "metadata": {},
   "outputs": [
    {
     "name": "stdout",
     "output_type": "stream",
     "text": [
      "Mary\r\n",
      "Anna\r\n",
      "Emma\r\n",
      "Elizabeth\r\n",
      "Minnie\r\n"
     ]
    }
   ],
   "source": [
    "!head -5 work/col1.txt"
   ]
  },
  {
   "cell_type": "code",
   "execution_count": 14,
   "metadata": {},
   "outputs": [
    {
     "name": "stdout",
     "output_type": "stream",
     "text": [
      "F\r\n",
      "F\r\n",
      "F\r\n",
      "F\r\n",
      "F\r\n"
     ]
    }
   ],
   "source": [
    "!head -5 work/col2.txt"
   ]
  },
  {
   "cell_type": "code",
   "execution_count": 15,
   "metadata": {},
   "outputs": [
    {
     "name": "stdout",
     "output_type": "stream",
     "text": [
      "Mary\r\n",
      "Anna\r\n",
      "Emma\r\n",
      "Elizabeth\r\n",
      "Minnie\r\n"
     ]
    }
   ],
   "source": [
    "!head -5 data/popular-names.txt | cut -f1"
   ]
  },
  {
   "cell_type": "code",
   "execution_count": 16,
   "metadata": {},
   "outputs": [
    {
     "name": "stdout",
     "output_type": "stream",
     "text": [
      "F\r\n",
      "F\r\n",
      "F\r\n",
      "F\r\n",
      "F\r\n"
     ]
    }
   ],
   "source": [
    "!head -5 data/popular-names.txt | cut -f2"
   ]
  },
  {
   "cell_type": "markdown",
   "metadata": {},
   "source": [
    "## 13. col1.txtとcol2.txtをマージ\n",
    "12で作ったcol1.txtとcol2.txtを結合し，元のファイルの1列目と2列目をタブ区切りで並べたテキストファイルを作成せよ．確認にはpasteコマンドを用いよ．"
   ]
  },
  {
   "cell_type": "code",
   "execution_count": 17,
   "metadata": {},
   "outputs": [],
   "source": [
    "with open('work/col1.txt', 'r') as f1:\n",
    "    with open('work/col2.txt', 'r') as f2:\n",
    "        with open('work/q13.txt', 'w') as fw:\n",
    "            for name, sex in zip(f1, f2):\n",
    "                fw.write('{}\\t{}\\n'.format(name.rstrip(), sex.rstrip()))"
   ]
  },
  {
   "cell_type": "code",
   "execution_count": 18,
   "metadata": {
    "scrolled": true
   },
   "outputs": [
    {
     "name": "stdout",
     "output_type": "stream",
     "text": [
      "Mary\tF\r\n",
      "Anna\tF\r\n",
      "Emma\tF\r\n",
      "Elizabeth\tF\r\n",
      "Minnie\tF\r\n"
     ]
    }
   ],
   "source": [
    "!head -5 work/q13.txt"
   ]
  },
  {
   "cell_type": "markdown",
   "metadata": {},
   "source": [
    "## 14. 先頭からN行を出力\n",
    "自然数Nをコマンドライン引数などの手段で受け取り，入力のうち先頭のN行だけを表示せよ．確認にはheadコマンドを用いよ．"
   ]
  },
  {
   "cell_type": "markdown",
   "metadata": {},
   "source": [
    "### input"
   ]
  },
  {
   "cell_type": "code",
   "execution_count": 19,
   "metadata": {
    "scrolled": true
   },
   "outputs": [
    {
     "name": "stdout",
     "output_type": "stream",
     "text": [
      "5\n",
      "Mary\tF\t7065\t1880\n",
      "Anna\tF\t2604\t1880\n",
      "Emma\tF\t2003\t1880\n",
      "Elizabeth\tF\t1939\t1880\n",
      "Minnie\tF\t1746\t1880\n"
     ]
    }
   ],
   "source": [
    "N = int(input())\n",
    "\n",
    "with open(data_path, 'r') as f:\n",
    "    for i, line in enumerate(f):\n",
    "        if i == N:\n",
    "            break\n",
    "        print(line, end='')"
   ]
  },
  {
   "cell_type": "markdown",
   "metadata": {},
   "source": [
    "### sys.argv"
   ]
  },
  {
   "cell_type": "code",
   "execution_count": 20,
   "metadata": {},
   "outputs": [
    {
     "name": "stdout",
     "output_type": "stream",
     "text": [
      "Overwriting src/q014_sys.py\n"
     ]
    }
   ],
   "source": [
    "%%file src/q014_sys.py\n",
    "\n",
    "import sys\n",
    "data_path = 'data/popular-names.txt'\n",
    "\n",
    "N = int(sys.argv[1])\n",
    "\n",
    "with open(data_path, 'r') as f:\n",
    "    for i, line in enumerate(f):\n",
    "        if i == N:\n",
    "            break\n",
    "        print(line, end='')"
   ]
  },
  {
   "cell_type": "code",
   "execution_count": 21,
   "metadata": {},
   "outputs": [
    {
     "name": "stdout",
     "output_type": "stream",
     "text": [
      "Mary\tF\t7065\t1880\r\n",
      "Anna\tF\t2604\t1880\r\n",
      "Emma\tF\t2003\t1880\r\n"
     ]
    }
   ],
   "source": [
    "!python src/q014_sys.py 3"
   ]
  },
  {
   "cell_type": "markdown",
   "metadata": {},
   "source": [
    "### argparse\n",
    "https://www.sejuku.net/blog/23647\n",
    "\n",
    "### if __name__ == '__main__'\n",
    "https://docs.python.org/ja/3/library/__main__.html"
   ]
  },
  {
   "cell_type": "code",
   "execution_count": 22,
   "metadata": {},
   "outputs": [
    {
     "name": "stdout",
     "output_type": "stream",
     "text": [
      "Overwriting src/q014_argparse.py\n"
     ]
    }
   ],
   "source": [
    "%%file src/q014_argparse.py\n",
    "\n",
    "import argparse\n",
    "\n",
    "def main():\n",
    "    with open(args.data_path, 'r') as f:\n",
    "        for i, line in enumerate(f):\n",
    "            if i == args.lines:\n",
    "                break\n",
    "            print(line, end='')\n",
    "            \n",
    "if __name__ == '__main__':\n",
    "    parser = argparse.ArgumentParser(\n",
    "                        prog='q014_argparse', \n",
    "                        usage='Print the first N lines of a file.', \n",
    "                        description='description', \n",
    "                        epilog='end', \n",
    "                        add_help=True,\n",
    "                        )\n",
    "    \n",
    "    parser.add_argument('data_path')\n",
    "    parser.add_argument('-N', '--lines',\n",
    "                                           type=int,\n",
    "                                           default=5)\n",
    "    \n",
    "    args = parser.parse_args()\n",
    "    \n",
    "    main()"
   ]
  },
  {
   "cell_type": "code",
   "execution_count": 23,
   "metadata": {},
   "outputs": [
    {
     "name": "stdout",
     "output_type": "stream",
     "text": [
      "usage: Print the first N lines of a file.\r\n",
      "\r\n",
      "description\r\n",
      "\r\n",
      "positional arguments:\r\n",
      "  data_path\r\n",
      "\r\n",
      "optional arguments:\r\n",
      "  -h, --help            show this help message and exit\r\n",
      "  -N LINES, --lines LINES\r\n",
      "\r\n",
      "end\r\n"
     ]
    }
   ],
   "source": [
    "!python src/q014_argparse.py -h"
   ]
  },
  {
   "cell_type": "code",
   "execution_count": 24,
   "metadata": {},
   "outputs": [
    {
     "name": "stdout",
     "output_type": "stream",
     "text": [
      "Mary\tF\t7065\t1880\r\n",
      "Anna\tF\t2604\t1880\r\n",
      "Emma\tF\t2003\t1880\r\n",
      "Elizabeth\tF\t1939\t1880\r\n",
      "Minnie\tF\t1746\t1880\r\n"
     ]
    }
   ],
   "source": [
    "!python src/q014_argparse.py data/popular-names.txt"
   ]
  },
  {
   "cell_type": "code",
   "execution_count": 25,
   "metadata": {},
   "outputs": [
    {
     "name": "stdout",
     "output_type": "stream",
     "text": [
      "Mary\tF\t7065\t1880\r\n",
      "Anna\tF\t2604\t1880\r\n",
      "Emma\tF\t2003\t1880\r\n",
      "Elizabeth\tF\t1939\t1880\r\n",
      "Minnie\tF\t1746\t1880\r\n",
      "Margaret\tF\t1578\t1880\r\n",
      "Ida\tF\t1472\t1880\r\n",
      "Alice\tF\t1414\t1880\r\n",
      "Bertha\tF\t1320\t1880\r\n",
      "Sarah\tF\t1288\t1880\r\n"
     ]
    }
   ],
   "source": [
    "!python src/q014_argparse.py data/popular-names.txt --lines=10"
   ]
  },
  {
   "cell_type": "code",
   "execution_count": 26,
   "metadata": {},
   "outputs": [
    {
     "name": "stdout",
     "output_type": "stream",
     "text": [
      "Mary\tF\t7065\t1880\r\n",
      "Anna\tF\t2604\t1880\r\n",
      "Emma\tF\t2003\t1880\r\n",
      "Elizabeth\tF\t1939\t1880\r\n",
      "Minnie\tF\t1746\t1880\r\n"
     ]
    }
   ],
   "source": [
    "!head -5 data/popular-names.txt"
   ]
  },
  {
   "cell_type": "markdown",
   "metadata": {},
   "source": [
    "## 15. 末尾のN行を出力\n",
    "自然数Nをコマンドライン引数などの手段で受け取り，入力のうち末尾のN行だけを表示せよ．確認にはtailコマンドを用いよ．"
   ]
  },
  {
   "cell_type": "code",
   "execution_count": 27,
   "metadata": {},
   "outputs": [
    {
     "name": "stdout",
     "output_type": "stream",
     "text": [
      "5\n",
      "Benjamin\tM\t14569\t2016\n",
      "Jacob\tM\t14416\t2016\n",
      "Michael\tM\t13998\t2016\n",
      "Elijah\tM\t13764\t2016\n",
      "Ethan\tM\t13758\t2016\n"
     ]
    }
   ],
   "source": [
    "# ゴリ押し．ファイル2回も開いている\n",
    "N = int(input())\n",
    "\n",
    "with open(data_path, 'r') as f:\n",
    "    file_len = len(f.readlines())\n",
    "    \n",
    "with open(data_path, 'r') as f:\n",
    "    for i, line in enumerate(f):\n",
    "        if i >= file_len-N:\n",
    "            print(line, end='')"
   ]
  },
  {
   "cell_type": "markdown",
   "metadata": {},
   "source": [
    "### collections.deque"
   ]
  },
  {
   "cell_type": "code",
   "execution_count": 28,
   "metadata": {},
   "outputs": [
    {
     "name": "stdout",
     "output_type": "stream",
     "text": [
      "5\n",
      "Benjamin\tM\t14569\t2016\n",
      "Jacob\tM\t14416\t2016\n",
      "Michael\tM\t13998\t2016\n",
      "Elijah\tM\t13764\t2016\n",
      "Ethan\tM\t13758\t2016\n",
      "\n"
     ]
    }
   ],
   "source": [
    "import collections\n",
    "\n",
    "N = int(input())\n",
    "with open(data_path, 'r') as f:\n",
    "    print(''.join(collections.deque(f, maxlen=N)))"
   ]
  },
  {
   "cell_type": "code",
   "execution_count": 29,
   "metadata": {},
   "outputs": [
    {
     "name": "stdout",
     "output_type": "stream",
     "text": [
      "Benjamin\tM\t14569\t2016\r\n",
      "Jacob\tM\t14416\t2016\r\n",
      "Michael\tM\t13998\t2016\r\n",
      "Elijah\tM\t13764\t2016\r\n",
      "Ethan\tM\t13758\t2016\r\n"
     ]
    }
   ],
   "source": [
    "!tail -5 data/popular-names.txt"
   ]
  },
  {
   "cell_type": "markdown",
   "metadata": {},
   "source": [
    "## 16. ファイルをN分割する\n",
    "自然数Nをコマンドライン引数などの手段で受け取り，入力のファイルを行単位でN分割せよ．同様の処理をsplitコマンドで実現せよ．"
   ]
  },
  {
   "cell_type": "code",
   "execution_count": 38,
   "metadata": {},
   "outputs": [
    {
     "data": {
      "text/plain": [
       "\"\\nN = int(input())\\n\\nwith open(data_path, 'r') as f:\\n    file_len = len(f.readlines())\\n    \\nquot = int(file_len/N)\\nrem = file_len%N\\n    \\nwith open(data_path, 'r') as f:\\n    i = 0\\n    for line in f:\\n        with open('work/q16_{}.txt'.format(i), 'w') as fw:\\n            if rem > 0:\\n                for j in range(quot+1):\\n                    fw.write(line.rstrip())\\n                rem -= 1\\n            else:\\n                for j in range(quot):\\n                    fw.write(line.rstrip())\\n            i += 1\\n\""
      ]
     },
     "execution_count": 38,
     "metadata": {},
     "output_type": "execute_result"
    }
   ],
   "source": [
    "# ボツ\n",
    "\"\"\"\n",
    "N = int(input())\n",
    "\n",
    "with open(data_path, 'r') as f:\n",
    "    file_len = len(f.readlines())\n",
    "    \n",
    "quot = int(file_len/N)\n",
    "rem = file_len%N\n",
    "    \n",
    "with open(data_path, 'r') as f:\n",
    "    i = 0\n",
    "    for line in f:\n",
    "        with open('work/q16_{}.txt'.format(i), 'w') as fw:\n",
    "            if rem > 0:\n",
    "                for j in range(quot+1):\n",
    "                    fw.write(line.rstrip())\n",
    "                rem -= 1\n",
    "            else:\n",
    "                for j in range(quot):\n",
    "                    fw.write(line.rstrip())\n",
    "            i += 1\n",
    "\"\"\""
   ]
  },
  {
   "cell_type": "code",
   "execution_count": 39,
   "metadata": {},
   "outputs": [],
   "source": [
    "def divide(L, N):\n",
    "    return ((L+i)//N for i in reversed(range(N)))"
   ]
  },
  {
   "cell_type": "code",
   "execution_count": null,
   "metadata": {},
   "outputs": [],
   "source": []
  },
  {
   "cell_type": "code",
   "execution_count": 34,
   "metadata": {},
   "outputs": [
    {
     "name": "stdout",
     "output_type": "stream",
     "text": [
      "col1.txt  col2.txt  q11.txt  q13.txt\r\n"
     ]
    }
   ],
   "source": [
    "!ls ./work"
   ]
  },
  {
   "cell_type": "markdown",
   "metadata": {},
   "source": [
    "## 17. １列目の文字列の異なり\n",
    "1列目の文字列の種類（異なる文字列の集合）を求めよ．確認にはcut, sort, uniqコマンドを用いよ．"
   ]
  },
  {
   "cell_type": "code",
   "execution_count": 42,
   "metadata": {},
   "outputs": [],
   "source": [
    "uniq_names = sorted({line.rstrip() for line in open('./work/col1.txt')})"
   ]
  },
  {
   "cell_type": "code",
   "execution_count": 44,
   "metadata": {},
   "outputs": [
    {
     "data": {
      "text/plain": [
       "['Abigail',\n",
       " 'Aiden',\n",
       " 'Alexander',\n",
       " 'Alexis',\n",
       " 'Alice',\n",
       " 'Amanda',\n",
       " 'Amy',\n",
       " 'Andrew',\n",
       " 'Angela',\n",
       " 'Anna']"
      ]
     },
     "execution_count": 44,
     "metadata": {},
     "output_type": "execute_result"
    }
   ],
   "source": [
    "uniq_names[:10]"
   ]
  },
  {
   "cell_type": "code",
   "execution_count": 45,
   "metadata": {},
   "outputs": [
    {
     "data": {
      "text/plain": [
       "132"
      ]
     },
     "execution_count": 45,
     "metadata": {},
     "output_type": "execute_result"
    }
   ],
   "source": [
    "len(uniq_names)"
   ]
  },
  {
   "cell_type": "code",
   "execution_count": 46,
   "metadata": {},
   "outputs": [
    {
     "name": "stdout",
     "output_type": "stream",
     "text": [
      "Abigail\r\n",
      "Aiden\r\n",
      "Alexander\r\n",
      "Alexis\r\n",
      "Alice\r\n",
      "Amanda\r\n",
      "Amy\r\n",
      "Andrew\r\n",
      "Angela\r\n",
      "Anna\r\n"
     ]
    }
   ],
   "source": [
    "!cat work/col1.txt | sort | uniq | head"
   ]
  },
  {
   "cell_type": "code",
   "execution_count": 49,
   "metadata": {},
   "outputs": [
    {
     "name": "stdout",
     "output_type": "stream",
     "text": [
      "132\r\n"
     ]
    }
   ],
   "source": [
    "!cat work/col1.txt | sort | uniq | wc -l"
   ]
  },
  {
   "cell_type": "markdown",
   "metadata": {},
   "source": [
    "## 18. 各行を3コラム目の数値の降順にソート\n",
    "各行を3コラム目の数値の逆順で整列せよ（注意: 各行の内容は変更せずに並び替えよ）．確認にはsortコマンドを用いよ（この問題はコマンドで実行した時の結果と合わなくてもよい）．"
   ]
  },
  {
   "cell_type": "code",
   "execution_count": 52,
   "metadata": {},
   "outputs": [],
   "source": [
    "sorted_by_quantity = sorted((line.rstrip() for line in open('./data/popular-names.txt')),\n",
    "                                                    key=lambda line: int(line.split()[2]),\n",
    "                                                    reverse=True)"
   ]
  },
  {
   "cell_type": "code",
   "execution_count": 53,
   "metadata": {},
   "outputs": [
    {
     "data": {
      "text/plain": [
       "['Linda\\tF\\t99685\\t1947',\n",
       " 'Linda\\tF\\t96210\\t1948',\n",
       " 'James\\tM\\t94762\\t1947',\n",
       " 'Michael\\tM\\t92716\\t1957',\n",
       " 'Robert\\tM\\t91641\\t1947',\n",
       " 'Linda\\tF\\t91013\\t1949',\n",
       " 'Michael\\tM\\t90620\\t1956',\n",
       " 'Michael\\tM\\t90512\\t1958',\n",
       " 'James\\tM\\t88584\\t1948',\n",
       " 'Michael\\tM\\t88525\\t1954']"
      ]
     },
     "execution_count": 53,
     "metadata": {},
     "output_type": "execute_result"
    }
   ],
   "source": [
    "sorted_by_quantity[:10]"
   ]
  },
  {
   "cell_type": "markdown",
   "metadata": {},
   "source": [
    "### 安定ソート"
   ]
  },
  {
   "cell_type": "code",
   "execution_count": 54,
   "metadata": {},
   "outputs": [
    {
     "name": "stdout",
     "output_type": "stream",
     "text": [
      "Linda\tF\t99685\t1947\r\n",
      "Linda\tF\t96210\t1948\r\n",
      "James\tM\t94762\t1947\r\n",
      "Michael\tM\t92716\t1957\r\n",
      "Robert\tM\t91641\t1947\r\n",
      "Linda\tF\t91013\t1949\r\n",
      "Michael\tM\t90620\t1956\r\n",
      "Michael\tM\t90512\t1958\r\n",
      "James\tM\t88584\t1948\r\n",
      "Michael\tM\t88525\t1954\r\n",
      "sort: write failed: 'standard output': Broken pipe\r\n",
      "sort: write error\r\n"
     ]
    }
   ],
   "source": [
    "!sort -k3 -n -r -s data/popular-names.txt | head"
   ]
  },
  {
   "cell_type": "markdown",
   "metadata": {},
   "source": [
    "## 19. 各行の1コラム目の文字列の出現頻度を求め，出現頻度の高い順に並べる\n",
    "各行の1列目の文字列の出現頻度を求め，その高い順に並べて表示せよ．確認にはcut, uniq, sortコマンドを用いよ．"
   ]
  },
  {
   "cell_type": "code",
   "execution_count": 59,
   "metadata": {},
   "outputs": [],
   "source": [
    "from collections import Counter\n",
    "\n",
    "c = Counter(line.rstrip() for line in open('./work/col1.txt'))\n",
    "most_common_names = c.most_common()"
   ]
  },
  {
   "cell_type": "code",
   "execution_count": 61,
   "metadata": {},
   "outputs": [
    {
     "data": {
      "text/plain": [
       "[('James', 116),\n",
       " ('William', 109),\n",
       " ('John', 108),\n",
       " ('Robert', 108),\n",
       " ('Mary', 92),\n",
       " ('Charles', 75),\n",
       " ('Michael', 74),\n",
       " ('Elizabeth', 73),\n",
       " ('Joseph', 71),\n",
       " ('Margaret', 60)]"
      ]
     },
     "execution_count": 61,
     "metadata": {},
     "output_type": "execute_result"
    }
   ],
   "source": [
    "most_common_names[:10]"
   ]
  },
  {
   "cell_type": "code",
   "execution_count": 62,
   "metadata": {},
   "outputs": [
    {
     "data": {
      "text/plain": [
       "132"
      ]
     },
     "execution_count": 62,
     "metadata": {},
     "output_type": "execute_result"
    }
   ],
   "source": [
    "len(most_common_names)"
   ]
  },
  {
   "cell_type": "code",
   "execution_count": 64,
   "metadata": {},
   "outputs": [
    {
     "name": "stdout",
     "output_type": "stream",
     "text": [
      "    116 James\r\n",
      "    109 William\r\n",
      "    108 John\r\n",
      "    108 Robert\r\n",
      "     92 Mary\r\n",
      "     75 Charles\r\n",
      "     74 Michael\r\n",
      "     73 Elizabeth\r\n",
      "     71 Joseph\r\n",
      "     60 Margaret\r\n"
     ]
    }
   ],
   "source": [
    "!cat work/col1.txt | sort | uniq -c | sort -k1 -n -r -s | head"
   ]
  }
 ],
 "metadata": {
  "kernelspec": {
   "display_name": "Python 3",
   "language": "python",
   "name": "python3"
  },
  "language_info": {
   "codemirror_mode": {
    "name": "ipython",
    "version": 3
   },
   "file_extension": ".py",
   "mimetype": "text/x-python",
   "name": "python",
   "nbconvert_exporter": "python",
   "pygments_lexer": "ipython3",
   "version": "3.6.4"
  }
 },
 "nbformat": 4,
 "nbformat_minor": 2
}
