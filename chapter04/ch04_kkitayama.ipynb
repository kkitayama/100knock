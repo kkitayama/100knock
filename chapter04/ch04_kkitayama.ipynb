{
 "cells": [
  {
   "cell_type": "markdown",
   "metadata": {},
   "source": [
    "# 第4章: 形態素解析\n",
    "夏目漱石の小説『吾輩は猫である』の文章（[neko.txt](data/neko.txt)）をMeCabを使って形態素解析し，その結果をneko.txt.mecabというファイルに保存せよ．このファイルを用いて，以下の問に対応するプログラムを実装せよ．\n",
    "\n",
    "なお，問題37, 38, 39は[matplotlib](http://matplotlib.org/)もしくは[Gnuplot](http://www.gnuplot.info/)を用いるとよい．"
   ]
  },
  {
   "cell_type": "code",
   "execution_count": 1,
   "metadata": {},
   "outputs": [],
   "source": [
    "# !wget -O data/neko.txt http://www.cl.ecei.tohoku.ac.jp/nlp100/data/neko.txt"
   ]
  },
  {
   "cell_type": "code",
   "execution_count": 2,
   "metadata": {},
   "outputs": [
    {
     "name": "stdout",
     "output_type": "stream",
     "text": [
      "一\n",
      "\n",
      "　吾輩は猫である。\n",
      "名前はまだ無い。\n",
      "\n",
      "　どこで生れたかとんと見当がつかぬ。\n",
      "何でも薄暗いじめじめした所でニャーニャー泣いていた事だけは記憶している。\n",
      "吾輩はここで始めて人間というものを見た。\n",
      "しかもあとで聞くとそれは書生という人間中で一番獰悪な種族であったそうだ。\n",
      "この書生というのは時々我々を捕えて煮て食うという話である。\n",
      "\n",
      "-----\n",
      "\n",
      "どこにどうしていても差支えはない。\n",
      "ただ楽である。\n",
      "否楽そのものすらも感じ得ない。\n",
      "日月を切り落し、天地を粉韲して不可思議の太平に入る。\n",
      "吾輩は死ぬ。\n",
      "死んでこの太平を得る。\n",
      "太平は死ななければ得られぬ。\n",
      "南無阿弥陀仏南無阿弥陀仏。\n",
      "ありがたいありがたい。\n",
      "\n"
     ]
    }
   ],
   "source": [
    "!head data/neko.txt\n",
    "!echo '\\n-----\\n'\n",
    "!tail data/neko.txt"
   ]
  },
  {
   "cell_type": "code",
   "execution_count": 3,
   "metadata": {},
   "outputs": [],
   "source": [
    "# !mecab data/neko.txt > work/neko.txt.mecab"
   ]
  },
  {
   "cell_type": "code",
   "execution_count": 4,
   "metadata": {},
   "outputs": [
    {
     "name": "stdout",
     "output_type": "stream",
     "text": [
      "一\t名詞,数,*,*,*,*,一,イチ,イチ\n",
      "EOS\n",
      "EOS\n",
      "　\t記号,空白,*,*,*,*,　,　,　\n",
      "吾輩\t名詞,代名詞,一般,*,*,*,吾輩,ワガハイ,ワガハイ\n",
      "は\t助詞,係助詞,*,*,*,*,は,ハ,ワ\n",
      "猫\t名詞,一般,*,*,*,*,猫,ネコ,ネコ\n",
      "で\t助動詞,*,*,*,特殊・ダ,連用形,だ,デ,デ\n",
      "ある\t助動詞,*,*,*,五段・ラ行アル,基本形,ある,アル,アル\n",
      "。\t記号,句点,*,*,*,*,。,。,。\n",
      "\n",
      "-----\n",
      "\n",
      "EOS\n",
      "南無阿弥陀仏\t名詞,一般,*,*,*,*,南無阿弥陀仏,ナムアミダブツ,ナムアミダブツ\n",
      "南無阿弥陀仏\t名詞,一般,*,*,*,*,南無阿弥陀仏,ナムアミダブツ,ナムアミダブツ\n",
      "。\t記号,句点,*,*,*,*,。,。,。\n",
      "EOS\n",
      "ありがたい\t形容詞,自立,*,*,形容詞・アウオ段,基本形,ありがたい,アリガタイ,アリガタイ\n",
      "ありがたい\t形容詞,自立,*,*,形容詞・アウオ段,基本形,ありがたい,アリガタイ,アリガタイ\n",
      "。\t記号,句点,*,*,*,*,。,。,。\n",
      "EOS\n",
      "EOS\n"
     ]
    }
   ],
   "source": [
    "!head work/neko.txt.mecab\n",
    "!echo '\\n-----\\n'\n",
    "!tail work/neko.txt.mecab"
   ]
  },
  {
   "cell_type": "markdown",
   "metadata": {},
   "source": [
    "## 30. 形態素解析結果の読み込み\n",
    "形態素解析結果（neko.txt.mecab）を読み込むプログラムを実装せよ．ただし，各形態素は表層形（surface），基本形（base），品詞（pos），品詞細分類1（pos1）をキーとするマッピング型に格納し，1文を形態素（マッピング型）のリストとして表現せよ．第4章の残りの問題では，ここで作ったプログラムを活用せよ．"
   ]
  },
  {
   "cell_type": "markdown",
   "metadata": {},
   "source": [
    "#### MeCabの形式\n",
    "表層形\\t品詞,品詞細分類1,品詞細分類2,品詞細分類3,活用型,活用形,原形,読み,発音"
   ]
  },
  {
   "cell_type": "code",
   "execution_count": 5,
   "metadata": {},
   "outputs": [
    {
     "name": "stdout",
     "output_type": "stream",
     "text": [
      "[{'base': '一', 'pos': '名詞', 'pos1': '数', 'surface': '一'}]\n",
      "[{'base': '\\u3000', 'pos': '記号', 'pos1': '空白', 'surface': '\\u3000'},\n",
      " {'base': '吾輩', 'pos': '名詞', 'pos1': '代名詞', 'surface': '吾輩'},\n",
      " {'base': 'は', 'pos': '助詞', 'pos1': '係助詞', 'surface': 'は'},\n",
      " {'base': '猫', 'pos': '名詞', 'pos1': '一般', 'surface': '猫'},\n",
      " {'base': 'だ', 'pos': '助動詞', 'pos1': '*', 'surface': 'で'},\n",
      " {'base': 'ある', 'pos': '助動詞', 'pos1': '*', 'surface': 'ある'},\n",
      " {'base': '。', 'pos': '記号', 'pos1': '句点', 'surface': '。'}]\n",
      "[{'base': '名前', 'pos': '名詞', 'pos1': '一般', 'surface': '名前'},\n",
      " {'base': 'は', 'pos': '助詞', 'pos1': '係助詞', 'surface': 'は'},\n",
      " {'base': 'まだ', 'pos': '副詞', 'pos1': '助詞類接続', 'surface': 'まだ'},\n",
      " {'base': '無い', 'pos': '形容詞', 'pos1': '自立', 'surface': '無い'},\n",
      " {'base': '。', 'pos': '記号', 'pos1': '句点', 'surface': '。'}]\n"
     ]
    }
   ],
   "source": [
    "# groupby, islice\n",
    "# https://docs.python.jp/3/library/itertools.html\n",
    "# isliceのiはiterableのi\n",
    "\n",
    "from itertools import groupby, islice\n",
    "import pprint as pp\n",
    "\n",
    "def mecab_reader(file):   #generator\n",
    "    for not_eos, grp in groupby(file, lambda line: line != 'EOS\\n'):\n",
    "        if not_eos:\n",
    "            mecab_list = []\n",
    "            for line in grp:\n",
    "                values = line.replace('\\t', ',', 1).split(',')\n",
    "                mecab_map = {'surface': values[0], 'base': values[7], 'pos': values[1], 'pos1': values[2]}\n",
    "                mecab_list.append(mecab_map)\n",
    "            yield mecab_list\n",
    "\n",
    "            \n",
    "with open('work/neko.txt.mecab') as f:\n",
    "    for sent in islice(mecab_reader(f), 3):\n",
    "        pp.pprint(sent)\n",
    "        \n",
    "# generator\n",
    "# https://qiita.com/tomotaka_ito/items/35f3eb108f587022fa09"
   ]
  },
  {
   "cell_type": "markdown",
   "metadata": {},
   "source": [
    "## 31. 動詞\n",
    "動詞の表層形をすべて抽出せよ．"
   ]
  },
  {
   "cell_type": "code",
   "execution_count": 6,
   "metadata": {},
   "outputs": [
    {
     "data": {
      "application/vnd.jupyter.widget-view+json": {
       "model_id": "2f4d7a1a17fd41f18a43bcab4f515caa",
       "version_major": 2,
       "version_minor": 0
      },
      "text/html": [
       "<p>Failed to display Jupyter Widget of type <code>HBox</code>.</p>\n",
       "<p>\n",
       "  If you're reading this message in the Jupyter Notebook or JupyterLab Notebook, it may mean\n",
       "  that the widgets JavaScript is still loading. If this message persists, it\n",
       "  likely means that the widgets JavaScript library is either not installed or\n",
       "  not enabled. See the <a href=\"https://ipywidgets.readthedocs.io/en/stable/user_install.html\">Jupyter\n",
       "  Widgets Documentation</a> for setup instructions.\n",
       "</p>\n",
       "<p>\n",
       "  If you're reading this message in another frontend (for example, a static\n",
       "  rendering on GitHub or <a href=\"https://nbviewer.jupyter.org/\">NBViewer</a>),\n",
       "  it may mean that your frontend doesn't currently support widgets.\n",
       "</p>\n"
      ],
      "text/plain": [
       "HBox(children=(IntProgress(value=1, bar_style='info', max=1), HTML(value='')))"
      ]
     },
     "metadata": {},
     "output_type": "display_data"
    },
    {
     "name": "stdout",
     "output_type": "stream",
     "text": [
      "\n",
      "28905\n",
      "['生れ', 'つか', 'し', '泣い', 'し', 'いる', '始め', '見', '聞く', '捕え', '煮', '食う', '思わ', '載せ', 'られ', '持ち上げ', 'られ', 'し', 'あっ', '落ちつい', '見', '見', '思っ', '残っ', 'いる', 'さ', 'れ', 'し', '逢っ', '出会わ']\n"
     ]
    }
   ],
   "source": [
    "# tqdmで遊ぶ\n",
    "# https://qiita.com/halhorn/items/e8aaf5b63f493f038a53\n",
    "\n",
    "from tqdm import tqdm_notebook as tqdm\n",
    "\n",
    "verb_surface_list = []\n",
    "\n",
    "with open('work/neko.txt.mecab') as f:\n",
    "    for sent in tqdm(mecab_reader(f)):\n",
    "        for mecab_map in sent:\n",
    "            if mecab_map['pos'] == '動詞':\n",
    "                verb_surface_list.append(mecab_map['surface'])\n",
    "\n",
    "print(len(verb_surface_list))\n",
    "print(verb_surface_list[:30])"
   ]
  },
  {
   "cell_type": "markdown",
   "metadata": {},
   "source": [
    "## 32. 動詞の原形\n",
    "動詞の原形をすべて抽出せよ．"
   ]
  },
  {
   "cell_type": "code",
   "execution_count": 7,
   "metadata": {},
   "outputs": [
    {
     "name": "stdout",
     "output_type": "stream",
     "text": [
      "28905\n",
      "['生れる', 'つく', 'する', '泣く', 'する', 'いる', '始める', '見る', '聞く', '捕える', '煮る', '食う', '思う', '載せる', 'られる', '持ち上げる', 'られる', 'する', 'ある', '落ちつく', '見る', '見る', '思う', '残る', 'いる', 'する', 'れる', 'する', '逢う', '出会う']\n"
     ]
    }
   ],
   "source": [
    "verb_base_list = []\n",
    "\n",
    "with open('work/neko.txt.mecab') as f:\n",
    "    for sent in mecab_reader(f):\n",
    "        for mecab_map in sent:\n",
    "            if mecab_map['pos'] == '動詞':\n",
    "                verb_base_list.append(mecab_map['base'])\n",
    "\n",
    "print(len(verb_base_list))\n",
    "print(verb_base_list[:30])"
   ]
  },
  {
   "cell_type": "markdown",
   "metadata": {},
   "source": [
    "## 33. 「AのB」\n",
    "2つの名詞が「の」で連結されている名詞句を抽出せよ．"
   ]
  },
  {
   "cell_type": "code",
   "execution_count": 8,
   "metadata": {},
   "outputs": [
    {
     "name": "stdout",
     "output_type": "stream",
     "text": [
      "6045\n",
      "['彼の掌', '掌の上', '書生の顔', 'はずの顔', '顔の真中', '穴の中', '書生の掌', '掌の裏', '何の事', '肝心の母親', '藁の上', '笹原の中', '池の前', '池の上', '一樹の蔭', '垣根の穴', '隣家の三', '時の通路', '一刻の猶予', '家の内', '彼の書生', '以外の人間', '前の書生', 'おさんの隙', 'おさんの三', '胸の痞', '家の主人', '主人の方', '鼻の下', '吾輩の顔']\n"
     ]
    }
   ],
   "source": [
    "# deque\n",
    "# https://docs.python.jp/3/library/collections.html\n",
    "# 名詞よりも　\"の\"の方が数的に少ない．\n",
    "# 名詞から検索するより，\"の\"から検索した方が早い．\n",
    "\n",
    "AnoB_list = []\n",
    "\n",
    "from collections import deque\n",
    "pos_deq = deque([], 3)\n",
    "surface_deq = deque([], 3)\n",
    "with open ('work/neko.txt.mecab') as f:\n",
    "    for sent in mecab_reader(f):\n",
    "        for mecab_map in sent:\n",
    "            pos_deq.append(mecab_map['pos'])\n",
    "            surface_deq.append(mecab_map['surface'])\n",
    "            if len(surface_deq) == 3 and surface_deq[1] == 'の':\n",
    "                if pos_deq[0] == '名詞' and pos_deq[2] == '名詞':\n",
    "                    AnoB_list.append(''.join(surface_deq))\n",
    "                    \n",
    "print(len(AnoB_list))\n",
    "print(AnoB_list[:30])"
   ]
  },
  {
   "cell_type": "markdown",
   "metadata": {},
   "source": [
    "## 34. 名詞の連接\n",
    "名詞の連接（連続して出現する名詞）を最長一致で抽出せよ．"
   ]
  },
  {
   "cell_type": "code",
   "execution_count": 9,
   "metadata": {},
   "outputs": [
    {
     "name": "stdout",
     "output_type": "stream",
     "text": [
      "7338\n",
      "['人間中', '一番獰悪', '時妙', '一毛', 'その後猫', '一度', 'ぷうぷうと煙', '邸内', '三毛', '書生以外', '四五遍', 'この間おさん', '三馬', '御台所', 'まま奥', '住家', '終日書斎', '勉強家', '勉強家', '勤勉家', '二三ページ', '主人以外', '限り吾輩', '朝主人', '一番心持', '二人', '一つ床', '一人', '最後大変', '——猫']\n"
     ]
    }
   ],
   "source": [
    "connected_noun_list = []\n",
    "\n",
    "with open('work/neko.txt.mecab') as f:\n",
    "    for sent in mecab_reader(f):\n",
    "        for is_noun, grp in groupby(sent, lambda mecab_map: mecab_map['pos'] == '名詞'):\n",
    "            word_tuple = tuple(grp)   # tupleだと要素の順番の入れ替えが起こらない．\n",
    "            if is_noun and len(word_tuple) >= 2:\n",
    "                connected_noun_list.append(''.join(word['surface'] for word in word_tuple))\n",
    "                \n",
    "print(len(connected_noun_list))\n",
    "print(connected_noun_list[:30])    "
   ]
  },
  {
   "cell_type": "markdown",
   "metadata": {},
   "source": [
    "## 35. 単語の出現頻度\n",
    "文章中に出現する単語とその出現頻度を求め，出現頻度の高い順に並べよ．"
   ]
  },
  {
   "cell_type": "code",
   "execution_count": 10,
   "metadata": {},
   "outputs": [
    {
     "name": "stdout",
     "output_type": "stream",
     "text": [
      "5.345919847488403\n",
      "13584\n",
      "[('の', 9194), ('。', 7486), ('て', 6868), ('、', 6772), ('は', 6420), ('に', 6243), ('を', 6071), ('と', 5508), ('が', 5337), ('た', 3988)]\n"
     ]
    }
   ],
   "source": [
    "# collections\n",
    "# https://docs.python.jp/3/library/collections.html\n",
    "\n",
    "from collections import Counter\n",
    "import time\n",
    "\n",
    "start = time.time()\n",
    "\n",
    "c = Counter()\n",
    "with open('work/neko.txt.mecab') as f:\n",
    "    for sent in mecab_reader(f):\n",
    "        c += Counter(word['surface']  for word in sent)\n",
    "\n",
    "end = time.time()\n",
    "\n",
    "print(end - start)\n",
    "print(len(c))\n",
    "print(c.most_common(10))"
   ]
  },
  {
   "cell_type": "markdown",
   "metadata": {},
   "source": [
    "appendが重い\n",
    "+= のところで時間がかかっている"
   ]
  },
  {
   "cell_type": "code",
   "execution_count": 11,
   "metadata": {},
   "outputs": [
    {
     "name": "stdout",
     "output_type": "stream",
     "text": [
      "0.48093485832214355\n",
      "13584\n",
      "[('の', 9194), ('。', 7486), ('て', 6868), ('、', 6772), ('は', 6420), ('に', 6243), ('を', 6071), ('と', 5508), ('が', 5337), ('た', 3988)]\n"
     ]
    }
   ],
   "source": [
    "# updateが早い\n",
    "\n",
    "from collections import Counter\n",
    "import time\n",
    "\n",
    "start = time.time()\n",
    "\n",
    "c = Counter()\n",
    "with open('work/neko.txt.mecab') as f:\n",
    "    for sent in mecab_reader(f):\n",
    "        c.update(word['surface']  for word in sent)\n",
    "\n",
    "end = time.time()\n",
    "\n",
    "print(end - start)\n",
    "print(len(c))\n",
    "print(c.most_common(10))"
   ]
  },
  {
   "cell_type": "code",
   "execution_count": 12,
   "metadata": {},
   "outputs": [
    {
     "name": "stdout",
     "output_type": "stream",
     "text": [
      "0.443864107131958\n",
      "13584\n",
      "[('の', 9194), ('。', 7486), ('て', 6868), ('、', 6772), ('は', 6420), ('に', 6243), ('を', 6071), ('と', 5508), ('が', 5337), ('た', 3988)]\n"
     ]
    }
   ],
   "source": [
    "#　内包表記? こっちの方がだいぶ早い．\n",
    "\n",
    "from collections import Counter\n",
    "import time\n",
    "\n",
    "start = time.time()\n",
    "\n",
    "\n",
    "with open('work/neko.txt.mecab') as f:\n",
    "    c = Counter(word['surface']  for sent in mecab_reader(f) for word in sent)\n",
    "\n",
    "end = time.time()\n",
    "\n",
    "print(end - start)\n",
    "print(len(c))\n",
    "print(c.most_common(10))"
   ]
  },
  {
   "cell_type": "markdown",
   "metadata": {},
   "source": [
    "## 36. 頻度上位10語\n",
    "出現頻度が高い10語とその出現頻度をグラフ（例えば棒グラフなど）で表示せよ．"
   ]
  },
  {
   "cell_type": "markdown",
   "metadata": {},
   "source": [
    "### matplotliib\n",
    "https://pythondatascience.plavox.info/matplotlib/%E6%A3%92%E3%82%B0%E3%83%A9%E3%83%95\n",
    "\n",
    "https://qiita.com/yujikawa/items/ac8c342c5720bb121f75"
   ]
  },
  {
   "cell_type": "code",
   "execution_count": 13,
   "metadata": {},
   "outputs": [
    {
     "name": "stdout",
     "output_type": "stream",
     "text": [
      "['の', '。', 'て', '、', 'は', 'に', 'を', 'と', 'が', 'た']\n",
      "[9194, 7486, 6868, 6772, 6420, 6243, 6071, 5508, 5337, 3988]\n"
     ]
    },
    {
     "data": {
      "text/plain": [
       "<Container object of 10 artists>"
      ]
     },
     "execution_count": 13,
     "metadata": {},
     "output_type": "execute_result"
    },
    {
     "data": {
      "image/png": "[encoded data removed]",
      "text/plain": [
       "<matplotlib.figure.Figure at 0x11177cda0>"
      ]
     },
     "metadata": {},
     "output_type": "display_data"
    }
   ],
   "source": [
    "# 勝手にx軸がソートされる\n",
    "\n",
    "%matplotlib inline\n",
    "# import numpy as np\n",
    "import matplotlib.pyplot as plt\n",
    "\n",
    "plt.rcParams['font.family'] = 'AppleGothic'\n",
    "\n",
    "words = [a[0] for a in c.most_common(10)]\n",
    "counts = [a[1] for a in c.most_common(10)]\n",
    "# left = np.array(words)\n",
    "# height = np.array(counts)\n",
    "print(words)\n",
    "print(counts)\n",
    "plt.bar(words, counts)"
   ]
  },
  {
   "cell_type": "markdown",
   "metadata": {},
   "source": [
    "### pandas\n",
    "https://qiita.com/hik0107/items/de5785f680096df93efa\n",
    "\n",
    "https://pandas.pydata.org/pandas-docs/stable/generated/pandas.Series.html"
   ]
  },
  {
   "cell_type": "code",
   "execution_count": 14,
   "metadata": {},
   "outputs": [
    {
     "data": {
      "text/plain": [
       "<matplotlib.axes._subplots.AxesSubplot at 0x11bfad9e8>"
      ]
     },
     "execution_count": 14,
     "metadata": {},
     "output_type": "execute_result"
    },
    {
     "data": {
      "image/png": "[encoded data removed]",
      "text/plain": [
       "<matplotlib.figure.Figure at 0x10d2ea320>"
      ]
     },
     "metadata": {},
     "output_type": "display_data"
    }
   ],
   "source": [
    "# 去年の高橋さん\n",
    "\n",
    "import pandas as pd\n",
    "\n",
    "s = pd.Series(counts, index=words)\n",
    "s.head()\n",
    "s.head(10).plot.bar()"
   ]
  },
  {
   "cell_type": "code",
   "execution_count": 15,
   "metadata": {},
   "outputs": [],
   "source": [
    "# import matplotlib.font_manager as fm\n",
    "# fm.findSystemFonts()"
   ]
  },
  {
   "cell_type": "code",
   "execution_count": 16,
   "metadata": {},
   "outputs": [],
   "source": [
    "# !wget https://launchpad.net/takao-fonts/trunk/15.03/+download/TakaoFonts_00303.01.zip -P data/"
   ]
  },
  {
   "cell_type": "code",
   "execution_count": 17,
   "metadata": {},
   "outputs": [],
   "source": [
    "# !unzip -d data/ data/TakaoFonts_00303.01.zip"
   ]
  },
  {
   "cell_type": "code",
   "execution_count": 18,
   "metadata": {},
   "outputs": [],
   "source": [
    "# !cp data/TakaoFonts_00303.01/TakaoGothic.ttf /Users/kitayama/Library/Fonts"
   ]
  },
  {
   "cell_type": "code",
   "execution_count": 19,
   "metadata": {},
   "outputs": [],
   "source": [
    "# !cp data/TakaoFonts_00303.01/TakaoGothic.ttf /Users/kitayama/.pyenv/versions/anaconda3-5.1.0/lib/python3.6/site-packages/matplotlib/mpl-data/fonts/ttf/"
   ]
  },
  {
   "cell_type": "markdown",
   "metadata": {},
   "source": [
    "### とりあえずAppleGothicはやめてTakaoGothicを使おう！"
   ]
  },
  {
   "cell_type": "code",
   "execution_count": 20,
   "metadata": {},
   "outputs": [],
   "source": [
    "# import matplotlib\n",
    "# print(matplotlib.matplotlib_fname())"
   ]
  },
  {
   "cell_type": "code",
   "execution_count": 21,
   "metadata": {},
   "outputs": [],
   "source": [
    "# matplotlib.get_configdir()"
   ]
  },
  {
   "cell_type": "code",
   "execution_count": 22,
   "metadata": {},
   "outputs": [],
   "source": [
    "# cp /Users/kitayama/.pyenv/versions/anaconda3-5.1.0/lib/python3.6/site-packages/matplotlib/mpl-data/matplotlibrc /Users/kitayama/.matplotlib/"
   ]
  },
  {
   "cell_type": "code",
   "execution_count": 23,
   "metadata": {},
   "outputs": [],
   "source": [
    "# !ls /Users/kitayama/.matplotlib/"
   ]
  },
  {
   "cell_type": "code",
   "execution_count": 24,
   "metadata": {},
   "outputs": [],
   "source": [
    "# !ls /Users/kitayama/.pyenv/versions/anaconda3-5.1.0/lib/python3.6/site-packages/matplotlib/mpl-data/fonts/ttf/TakaoGothic.ttf"
   ]
  },
  {
   "cell_type": "code",
   "execution_count": 25,
   "metadata": {},
   "outputs": [],
   "source": [
    "# !cat /Users/kitayama/.matplotlib/matplotlibrc"
   ]
  },
  {
   "cell_type": "markdown",
   "metadata": {},
   "source": [
    "### デフォルトをTakaoGothicにした\n",
    "以下の行いらなくなった\n",
    "\n",
    "`ont = {'family':'TakaoGothic'}`\n",
    "\n",
    "`mpl.rc('font', **font)`\n",
    "\n",
    "https://gcbgarden.com/2017/05/04/matplotlib-japanese/\n",
    "\n",
    "http://www.python.ambitious-engineer.com/archives/888"
   ]
  },
  {
   "cell_type": "code",
   "execution_count": 33,
   "metadata": {},
   "outputs": [
    {
     "data": {
      "image/png": "[encoded data removed]",
      "text/plain": [
       "<matplotlib.figure.Figure at 0x11c14ab00>"
      ]
     },
     "metadata": {},
     "output_type": "display_data"
    }
   ],
   "source": [
    "%matplotlib inline\n",
    "import matplotlib as mpl\n",
    "import matplotlib.pyplot as plt\n",
    "\n",
    "labels = [a[0] for a in c.most_common(10)]\n",
    "x = list(range(10))\n",
    "y = [a[1] for a in c.most_common(10)]\n",
    "\n",
    "plt.style.use('ggplot')\n",
    "fig = plt.figure()\n",
    "ax = fig.add_subplot(111)\n",
    "ax.bar(x, y, tick_label=labels)\n",
    "plt.title('頻度上位10語')\n",
    "plt.xlabel('表層形')\n",
    "plt.ylabel('出現回数')\n",
    "plt.show()"
   ]
  },
  {
   "cell_type": "code",
   "execution_count": 35,
   "metadata": {},
   "outputs": [
    {
     "data": {
      "text/plain": [
       "<matplotlib.axes._subplots.AxesSubplot at 0x11c472a90>"
      ]
     },
     "execution_count": 35,
     "metadata": {},
     "output_type": "execute_result"
    },
    {
     "data": {
      "image/png": "[encoded data removed]",
      "text/plain": [
       "<matplotlib.figure.Figure at 0x11c13b860>"
      ]
     },
     "metadata": {},
     "output_type": "display_data"
    }
   ],
   "source": []
  },
  {
   "cell_type": "markdown",
   "metadata": {},
   "source": [
    "## 37. 「猫」と共起頻度の高い上位10語\n",
    "「猫」とよく共起する（共起頻度が高い）10語とその出現頻度をグラフ（例えば棒グラフなど）で表示せよ．\n"
   ]
  },
  {
   "cell_type": "markdown",
   "metadata": {},
   "source": [
    "### 共起\n",
    "http://kensuke-mi.hatenablog.com/entry/2015/03/11/164602"
   ]
  },
  {
   "cell_type": "markdown",
   "metadata": {},
   "source": [
    "↑このやり方もあまりよくない？\n",
    "\n",
    "前後５単語などの， 窓幅を絞って取るのが普通"
   ]
  },
  {
   "cell_type": "code",
   "execution_count": 27,
   "metadata": {},
   "outputs": [
    {
     "data": {
      "text/plain": [
       "\"\\nfrom collections import Counter\\nimport nltk\\nimport time\\n\\ndef tessa(source):\\n    result = []\\n    for p1 in range(len(source)):\\n        for p2 in range(p1+1,len(source)):\\n            result.append( (source[p1],source[p2]) )\\n            \\n    return result\\n\\ncounter_res = Counter()\\n\\nwith open('work/neko.txt.mecab') as f:\\n    for sent in mecab_reader(f):\\n        words = [word['surface'] for word in sent]\\n        list_res = tessa(words)\\n        cfd = nltk.ConditionalFreqDist(list_res)\\n        print(cfd['猫'].most_common())\\n        counter_res += Counter(list_res)\\n\\n\\nprint(len(counter_res))\\nprint(counter_res.most_common(10))\\n\""
      ]
     },
     "execution_count": 27,
     "metadata": {},
     "output_type": "execute_result"
    }
   ],
   "source": [
    "# ボツ\n",
    "#  bi-gramでやっている？\n",
    "\n",
    "\"\"\"\n",
    "from collections import Counter\n",
    "import nltk\n",
    "import time\n",
    "\n",
    "def tessa(source):\n",
    "    result = []\n",
    "    for p1 in range(len(source)):\n",
    "        for p2 in range(p1+1,len(source)):\n",
    "            result.append( (source[p1],source[p2]) )\n",
    "            \n",
    "    return result\n",
    "\n",
    "counter_res = Counter()\n",
    "\n",
    "with open('work/neko.txt.mecab') as f:\n",
    "    for sent in mecab_reader(f):\n",
    "        words = [word['surface'] for word in sent]\n",
    "        list_res = tessa(words)\n",
    "        cfd = nltk.ConditionalFreqDist(list_res)\n",
    "        print(cfd['猫'].most_common())\n",
    "        counter_res += Counter(list_res)\n",
    "\n",
    "\n",
    "print(len(counter_res))\n",
    "print(counter_res.most_common(10))\n",
    "\"\"\""
   ]
  },
  {
   "cell_type": "code",
   "execution_count": null,
   "metadata": {},
   "outputs": [],
   "source": []
  },
  {
   "cell_type": "markdown",
   "metadata": {},
   "source": [
    "## 38. ヒストグラム\n",
    "単語の出現頻度のヒストグラム（横軸に出現頻度，縦軸に出現頻度をとる単語の種類数を棒グラフで表したもの）を描け．"
   ]
  },
  {
   "cell_type": "code",
   "execution_count": null,
   "metadata": {},
   "outputs": [],
   "source": []
  },
  {
   "cell_type": "markdown",
   "metadata": {},
   "source": [
    "## 39. Zipfの法則\n",
    "単語の出現頻度順位を横軸，その出現頻度を縦軸として，両対数グラフをプロットせよ．"
   ]
  },
  {
   "cell_type": "code",
   "execution_count": null,
   "metadata": {},
   "outputs": [],
   "source": []
  }
 ],
 "metadata": {
  "kernelspec": {
   "display_name": "Python 3",
   "language": "python",
   "name": "python3"
  },
  "language_info": {
   "codemirror_mode": {
    "name": "ipython",
    "version": 3
   },
   "file_extension": ".py",
   "mimetype": "text/x-python",
   "name": "python",
   "nbconvert_exporter": "python",
   "pygments_lexer": "ipython3",
   "version": "3.6.4"
  }
 },
 "nbformat": 4,
 "nbformat_minor": 2
}
