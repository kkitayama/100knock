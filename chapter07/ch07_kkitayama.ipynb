{
 "cells": [
  {
   "cell_type": "markdown",
   "metadata": {},
   "source": [
    "# 第7章: データベース"
   ]
  },
  {
   "cell_type": "markdown",
   "metadata": {},
   "source": [
    "[artist.json.gz](data/artist.json.gz)は，オープンな音楽データベース[MusicBrainz](https://musicbrainz.org/)の中で，アーティストに関するものをJSON形式に変換し，gzip形式で圧縮したファイルである．このファイルには，1アーティストに関する情報が1行にJSON形式で格納されている．JSON形式の概要は以下の通りである．\n",
    "\n",
    "|フィールド|型|内容|例|\n",
    "|:-----------|:---|:-----|:--|\n",
    "|id|ユニーク識別子|整数|20660|\n",
    "|gid|グローバル識別子|文字列|\"ecf9f3a3-35e9-4c58-acaa-e707fba45060\"|\n",
    "|name|アーティスト名|文字列|\"Oasis\"|\n",
    "|sort_name|アーティスト名（辞書順整列用）|文字列|\"Oasis\"|\n",
    "|area|活動場所|文字列|\"United Kingdom\"|\n",
    "|aliases|別名|辞書オブジェクトのリスト||\n",
    "|aliases[].name|別名|文字列|\"オアシス\"|\n",
    "|aliases[].sort_name|別名（整列用）|文字列|\"オアシス\"|\n",
    "|begin|活動開始日|辞書||\n",
    "|begin.year|活動開始年|整数|1991|\n",
    "|begin.month|活動開始月|整数||\n",
    "|begin.date|活動開始日|整数||\n",
    "|end|活動終了日|辞書||\n",
    "|end.year|活動終了年|整数|2009|\n",
    "|end.month|活動終了月|整数|8|\n",
    "|end.date|活動終了日|整数|28|\n",
    "|tags|タグ|辞書オブジェクトのリスト||\n",
    "|tags[].count|タグ付けされた回数|整数|1|\n",
    "|tags[].value|タグ内容|文字列|\"rock\"|\n",
    "|rating|レーティング|辞書オブジェクト||\n",
    "|rating.count|レーティングの投票数|整数|13|\n",
    "|rating.value|レーティングの値（平均値）|整数|86|\n",
    "\n",
    "artist.json.gzのデータをKey-Value-Store (KVS) およびドキュメント志向型データベースに格納・検索することを考える．KVSとしては，[LevelDB](http://leveldb.org/)，[Redis](http://redis.io/)，[KyotoCabinet](http://fallabs.com/kyotocabinet/)等を用いよ．ドキュメント志向型データベースとして，[MongoDB](http://www.mongodb.org/)を採用したが，[CouchDB](http://couchdb.apache.org/)や[RethinkDB](http://rethinkdb.com/)等を用いてもよい．"
   ]
  },
  {
   "cell_type": "code",
   "execution_count": 4,
   "metadata": {},
   "outputs": [
    {
     "name": "stdout",
     "output_type": "stream",
     "text": [
      "ファイル `./data/artist.json.gz' はすでに存在するので、取得しません。\r\n",
      "\r\n"
     ]
    }
   ],
   "source": [
    "!wget -nc http://localhost:8888/notebooks/chapter07/data/artist.json.gz -P ./data/"
   ]
  },
  {
   "cell_type": "code",
   "execution_count": 5,
   "metadata": {},
   "outputs": [],
   "source": [
    "# !gunzip ./data/artist.json.gz"
   ]
  },
  {
   "cell_type": "code",
   "execution_count": 89,
   "metadata": {},
   "outputs": [
    {
     "name": "stdout",
     "output_type": "stream",
     "text": [
      "{'ended': True,\n",
      " 'gid': '8972b1c1-6482-4750-b51f-596d2edea8b1',\n",
      " 'id': 805192,\n",
      " 'name': 'WIK▲N',\n",
      " 'sort_name': 'WIK▲N',\n",
      " 'tags': [{'count': 1, 'value': 'sillyname'}]}\n",
      "{'ended': True,\n",
      " 'gid': 'b4f76788-7e6f-41b7-ac7b-dfb67f66282e',\n",
      " 'id': 578352,\n",
      " 'name': 'Gustav Ruppke',\n",
      " 'sort_name': 'Gustav Ruppke',\n",
      " 'type': 'Person'}\n",
      "{'ended': True,\n",
      " 'gid': '49add228-eac5-4de8-836c-d75cde7369c3',\n",
      " 'id': 371203,\n",
      " 'name': 'Pete Moutso',\n",
      " 'sort_name': 'Moutso, Pete',\n",
      " 'type': 'Person'}\n"
     ]
    }
   ],
   "source": [
    "import json\n",
    "from itertools import islice\n",
    "import pprint as pp\n",
    "\n",
    "with open('./data/artist.json', 'r') as f:\n",
    "    for line in islice(f, 3):\n",
    "        pp.pprint(json.loads(line))"
   ]
  },
  {
   "cell_type": "markdown",
   "metadata": {},
   "source": [
    "### LevelIDB install\n",
    "https://qiita.com/tomotaka_ito/items/60c65dd5261fdfc6e71a\n",
    "### Plyvel User guide\n",
    "https://plyvel.readthedocs.io/en/latest/user.html#getting-started"
   ]
  },
  {
   "cell_type": "code",
   "execution_count": 184,
   "metadata": {},
   "outputs": [
    {
     "name": "stdout",
     "output_type": "stream",
     "text": [
      "False\n",
      "True\n"
     ]
    }
   ],
   "source": [
    "import json\n",
    "import plyvel\n",
    "\n",
    "db = plyvel.DB('./work/db', create_if_missing=True)\n",
    "print(db.closed)   # dbが閉じているかの確認\n",
    "\n",
    "db.close()\n",
    "print(db.closed)"
   ]
  },
  {
   "cell_type": "markdown",
   "metadata": {},
   "source": [
    "## 60. KVSの構築\n",
    "Key-Value-Store (KVS) を用い，アーティスト名（name）から活動場所（area）を検索するためのデータベースを構築せよ．"
   ]
  },
  {
   "cell_type": "code",
   "execution_count": 174,
   "metadata": {},
   "outputs": [
    {
     "name": "stdout",
     "output_type": "stream",
     "text": [
      "{'aliases': [{'name': 'Silhouettes', 'sort_name': 'Silhouettes'},\n",
      "             {'name': 'The Sihouettes', 'sort_name': 'The Sihouettes'}],\n",
      " 'area': 'United States',\n",
      " 'begin': {'year': 1956},\n",
      " 'end': {'year': 1993},\n",
      " 'ended': True,\n",
      " 'gid': 'ca3f3ee1-c4a7-4bac-a16a-0b888a396c6b',\n",
      " 'id': 101060,\n",
      " 'name': 'The Silhouettes',\n",
      " 'sort_name': 'Silhouettes, The',\n",
      " 'type': 'Group'}\n",
      "{'area': 'United States',\n",
      " 'ended': True,\n",
      " 'gender': 'Male',\n",
      " 'gid': '3e1bd546-d2a7-49cb-b38d-d70904a1d719',\n",
      " 'id': 1172876,\n",
      " 'name': 'Al Street',\n",
      " 'sort_name': 'Street, Al',\n",
      " 'type': 'Person'}\n"
     ]
    }
   ],
   "source": [
    "import json\n",
    "from itertools import islice\n",
    "import pprint as pp\n",
    "\n",
    "with open('./data/artist.json', 'r') as f:\n",
    "    for line in islice(f, 10):\n",
    "        if 'area' in json.loads(line):\n",
    "            pp.pprint(json.loads(line))"
   ]
  },
  {
   "cell_type": "code",
   "execution_count": 185,
   "metadata": {},
   "outputs": [
    {
     "name": "stdout",
     "output_type": "stream",
     "text": [
      "Finished!\n"
     ]
    }
   ],
   "source": [
    "import json\n",
    "import plyvel\n",
    "\n",
    "db = plyvel.DB('./work/db_name2area', create_if_missing=True) \n",
    "with open('./data/artist.json', 'r') as f:\n",
    "    for line in f:\n",
    "        data = json.loads(line.rstrip())\n",
    "        if 'area' in data:\n",
    "            db.put(data['name'].encode(), data['area'].encode())   # encodeが必要\n",
    "\n",
    "db.close()\n",
    "if db.closed:\n",
    "    print('Finished!')"
   ]
  },
  {
   "cell_type": "code",
   "execution_count": 186,
   "metadata": {},
   "outputs": [
    {
     "name": "stdout",
     "output_type": "stream",
     "text": [
      "!!!\tUnited States\n",
      "!Action Pact!\tUnited Kingdom\n",
      "!Bang Elektronika\tCanada\n",
      "!DelaDap\tAustria\n",
      "!Regeringen\tSweden\n",
      "!T.O.O.H.!\tCzech Republic\n",
      "!Ved\tUnited Kingdom\n",
      "!ky que\tSankt-Peterburg\n",
      "\"...\"\tSweden\n",
      "\"A\" Trio\tLebanon\n",
      "\"Alakulttuurin kusipäät\"\tFinland\n",
      "\"Alpha Wolf Kodi\"\tGeorgia\n",
      "\"Baltic Beach Party\" zvaigžņu koris\tLatvia\n",
      "\"DD\"\tUnited States\n",
      "\"Deadly\" Headley Bennett\tJamaica\n",
      "\"Demons\"\tSweden\n",
      "\"Evil\" Jared Hasselhoff\tUnited States\n",
      "\"Fast\" Eddie Smith\tUnited States\n",
      "\"Jesus Christ.\" (the indie band)\tUnited States\n",
      "\"José José\" Gayoso\tParaguay\n"
     ]
    }
   ],
   "source": [
    "import plyvel\n",
    "from itertools import islice\n",
    "\n",
    "db = plyvel.DB('./work/db_name2area', create_if_missing=True)\n",
    "for key, val in islice(db, 20):\n",
    "    print(key.decode()+'\\t'+val.decode())\n",
    "    \n",
    "db.close()"
   ]
  },
  {
   "cell_type": "markdown",
   "metadata": {},
   "source": [
    "## 61. KVSの検索\n",
    "60で構築したデータベースを用い，特定の（指定された）アーティストの活動場所を取得せよ．"
   ]
  },
  {
   "cell_type": "code",
   "execution_count": 187,
   "metadata": {},
   "outputs": [
    {
     "name": "stdout",
     "output_type": "stream",
     "text": [
      "Overwriting src/q61.py\n"
     ]
    }
   ],
   "source": [
    "%%file src/q61.py\n",
    "\n",
    "import sys\n",
    "import plyvel\n",
    "\n",
    "name = sys.argv[1].encode()\n",
    "\n",
    "db = plyvel.DB('./work/db_name2area/', create_if_missing=True)\n",
    "area_info = db.get(name)\n",
    "if area_info:\n",
    "    print(area_info.decode())\n",
    "else:\n",
    "    print('There is no area information of the artist.')\n",
    "\n",
    "db.close()"
   ]
  },
  {
   "cell_type": "code",
   "execution_count": 188,
   "metadata": {},
   "outputs": [
    {
     "name": "stdout",
     "output_type": "stream",
     "text": [
      "United Kingdom\r\n"
     ]
    }
   ],
   "source": [
    "!python ./src/q61.py 'The Beatles'"
   ]
  },
  {
   "cell_type": "code",
   "execution_count": 189,
   "metadata": {},
   "outputs": [
    {
     "name": "stdout",
     "output_type": "stream",
     "text": [
      "United States\r\n"
     ]
    }
   ],
   "source": [
    "!python ./src/q61.py 'The Offspring'"
   ]
  },
  {
   "cell_type": "code",
   "execution_count": 190,
   "metadata": {},
   "outputs": [
    {
     "name": "stdout",
     "output_type": "stream",
     "text": [
      "Japan\r\n"
     ]
    }
   ],
   "source": [
    "!python ./src/q61.py 'マキシマム ザ ホルモン'"
   ]
  },
  {
   "cell_type": "code",
   "execution_count": 191,
   "metadata": {},
   "outputs": [
    {
     "name": "stdout",
     "output_type": "stream",
     "text": [
      "Japan\r\n"
     ]
    }
   ],
   "source": [
    "!python ./src/q61.py '凛として時雨'"
   ]
  },
  {
   "cell_type": "markdown",
   "metadata": {},
   "source": [
    "#### ↑あるの！？"
   ]
  },
  {
   "cell_type": "code",
   "execution_count": 192,
   "metadata": {},
   "outputs": [
    {
     "name": "stdout",
     "output_type": "stream",
     "text": [
      "There is no area information of the artist.\r\n"
     ]
    }
   ],
   "source": [
    "!python ./src/q61.py '鏡音リン・レン'"
   ]
  },
  {
   "cell_type": "markdown",
   "metadata": {},
   "source": [
    "## 62. KVS内の反復処理\n",
    "60で構築したデータベースを用い，活動場所が「Japan」となっているアーティスト数を求めよ．"
   ]
  },
  {
   "cell_type": "code",
   "execution_count": 193,
   "metadata": {},
   "outputs": [
    {
     "name": "stdout",
     "output_type": "stream",
     "text": [
      "Overwriting src/q62.py\n"
     ]
    }
   ],
   "source": [
    "%%file src/q62.py\n",
    "\n",
    "import sys\n",
    "import plyvel\n",
    "\n",
    "area = sys.argv[1].encode()\n",
    "count = 0\n",
    "\n",
    "db = plyvel.DB('./work/db_name2area/', create_if_missing=True)\n",
    "for key, val in db:\n",
    "    if val == area:\n",
    "        count += 1\n",
    "print(count)\n",
    "\n",
    "db.close()"
   ]
  },
  {
   "cell_type": "code",
   "execution_count": 194,
   "metadata": {},
   "outputs": [
    {
     "name": "stdout",
     "output_type": "stream",
     "text": [
      "22128\r\n"
     ]
    }
   ],
   "source": [
    "!python ./src/q62.py 'Japan'"
   ]
  },
  {
   "cell_type": "code",
   "execution_count": 195,
   "metadata": {},
   "outputs": [
    {
     "name": "stdout",
     "output_type": "stream",
     "text": [
      "65925\r\n"
     ]
    }
   ],
   "source": [
    "!python ./src/q62.py 'United States'"
   ]
  },
  {
   "cell_type": "code",
   "execution_count": 196,
   "metadata": {},
   "outputs": [
    {
     "name": "stdout",
     "output_type": "stream",
     "text": [
      "30012\r\n"
     ]
    }
   ],
   "source": [
    "!python ./src/q62.py 'United Kingdom'"
   ]
  },
  {
   "cell_type": "markdown",
   "metadata": {},
   "source": [
    "## 63. オブジェクトを値に格納したKVS\n",
    "KVSを用い，アーティスト名（name）からタグと被タグ数（タグ付けされた回数）のリストを検索するためのデータベースを構築せよ．さらに，ここで構築したデータベースを用い，アーティスト名からタグと被タグ数を検索せよ．"
   ]
  },
  {
   "cell_type": "code",
   "execution_count": 208,
   "metadata": {},
   "outputs": [
    {
     "name": "stdout",
     "output_type": "stream",
     "text": [
      "{'ended': True,\n",
      " 'gid': '8972b1c1-6482-4750-b51f-596d2edea8b1',\n",
      " 'id': 805192,\n",
      " 'name': 'WIK▲N',\n",
      " 'sort_name': 'WIK▲N',\n",
      " 'tags': [{'count': 1, 'value': 'sillyname'}]}\n",
      "{'begin': {'year': 1992},\n",
      " 'ended': True,\n",
      " 'gid': '424373ba-10fc-4883-bb33-af5a1977719b',\n",
      " 'id': 407238,\n",
      " 'name': 'Infester',\n",
      " 'rating': {'count': 1, 'value': 100},\n",
      " 'sort_name': 'Infester',\n",
      " 'tags': [{'count': 1, 'value': 'death metal'},\n",
      "          {'count': 1, 'value': 'american'}],\n",
      " 'type': 'Group'}\n"
     ]
    }
   ],
   "source": [
    "import json\n",
    "from itertools import islice\n",
    "import pprint as pp\n",
    "\n",
    "with open('./data/artist.json', 'r') as f:\n",
    "    for line in islice(f, 30):\n",
    "        if 'tags' in json.loads(line):\n",
    "            pp.pprint(json.loads(line))"
   ]
  },
  {
   "cell_type": "markdown",
   "metadata": {},
   "source": [
    "### pickle\n",
    "https://docs.python.jp/2/library/pickle.html"
   ]
  },
  {
   "cell_type": "code",
   "execution_count": 207,
   "metadata": {},
   "outputs": [
    {
     "name": "stdout",
     "output_type": "stream",
     "text": [
      "Finished!\n"
     ]
    }
   ],
   "source": [
    "import json\n",
    "import plyvel\n",
    "import pickle\n",
    "\n",
    "db = plyvel.DB('./work/db_name2tags', create_if_missing=True)\n",
    "with open('./data/artist.json', 'r') as f:\n",
    "    for line in f:\n",
    "        data = json.loads(line.rstrip())\n",
    "        if 'tags' in data:\n",
    "            db.put(data['name'].encode(), pickle.dumps(data['tags']))\n",
    "            \n",
    "db.close()\n",
    "if db.closed:\n",
    "    print('Finished!')"
   ]
  },
  {
   "cell_type": "code",
   "execution_count": 225,
   "metadata": {},
   "outputs": [
    {
     "name": "stdout",
     "output_type": "stream",
     "text": [
      "Overwriting src/q63.py\n"
     ]
    }
   ],
   "source": [
    "%%file src/q63.py\n",
    "\n",
    "import sys\n",
    "import plyvel\n",
    "import pickle\n",
    "\n",
    "name = sys.argv[1].encode()\n",
    "\n",
    "db = plyvel.DB('./work/db_name2tags/', create_if_missing=True)\n",
    "tags_info = db.get(name)\n",
    "if tags_info:\n",
    "    print('value\\tcount\\n--------------------')\n",
    "    for tag in pickle.loads(tags_info):\n",
    "        print(tag['value']+'\\t+'+str(tag['count']))\n",
    "else:\n",
    "    print('There is no tags information of the artist.')\n",
    "\n",
    "db.close()"
   ]
  },
  {
   "cell_type": "code",
   "execution_count": 226,
   "metadata": {},
   "outputs": [
    {
     "name": "stdout",
     "output_type": "stream",
     "text": [
      "value\tcount\r\n",
      "--------------------\r\n",
      "uk\t+2\r\n",
      "rock\t+7\r\n",
      "english\t+1\r\n",
      "overrated\t+1\r\n",
      "parlophone\t+1\r\n",
      "60s\t+1\r\n",
      "pop-rock\t+1\r\n",
      "pop/rock\t+1\r\n",
      "psychedelic pop\t+1\r\n",
      "rock & roll\t+1\r\n",
      "heavy metal\t+1\r\n",
      "classical pop\t+1\r\n",
      "instrumental pop\t+1\r\n",
      "folk-rock\t+1\r\n",
      "orchestral\t+1\r\n",
      "psychedelic\t+1\r\n",
      "rock roll\t+1\r\n",
      "adult alternative pop rock\t+1\r\n",
      "tribute albums\t+1\r\n",
      "british psychedelia\t+1\r\n",
      "orchestral pop\t+1\r\n",
      "singer songwriter\t+1\r\n",
      "indie rock\t+1\r\n",
      "british invasion\t+2\r\n",
      "pop-metal\t+1\r\n",
      "merseybeat\t+2\r\n",
      "classic pop and rock\t+1\r\n",
      "britpop\t+1\r\n",
      "the-beatles\t+1\r\n",
      "progressive rock\t+1\r\n",
      "1\t+1\r\n",
      "united kingdom\t+1\r\n",
      "male vocalists\t+1\r\n",
      "experimental\t+1\r\n",
      "rock and roll\t+1\r\n",
      "liverpool\t+2\r\n",
      "pop\t+7\r\n",
      "one beatles\t+1\r\n",
      "british\t+6\r\n",
      "pop rock\t+1\r\n",
      "bbc\t+1\r\n"
     ]
    }
   ],
   "source": [
    "!python ./src/q63.py 'The Beatles'"
   ]
  },
  {
   "cell_type": "code",
   "execution_count": 221,
   "metadata": {},
   "outputs": [
    {
     "name": "stdout",
     "output_type": "stream",
     "text": [
      "There is no tags information of the artist.\r\n"
     ]
    }
   ],
   "source": [
    "!python ./src/q63.py '凛として時雨'"
   ]
  },
  {
   "cell_type": "markdown",
   "metadata": {},
   "source": [
    "### PyMongo\n",
    "https://api.mongodb.com/python/current/tutorial.html\n",
    "https://qiita.com/ognek/items/a37dd1cd0e26e6adecaa"
   ]
  },
  {
   "cell_type": "markdown",
   "metadata": {},
   "source": [
    "## 64. MongoDBの構築\n",
    "アーティスト情報（artist.json.gz）をデータベースに登録せよ．さらに，次のフィールドでインデックスを作成せよ: name, aliases.name, tags.value, rating.value"
   ]
  },
  {
   "cell_type": "markdown",
   "metadata": {},
   "source": [
    "### Getting a Collection\n",
    "https://api.mongodb.com/python/current/tutorial.html#getting-a-collection\n",
    "### insert_one\n",
    "https://api.mongodb.com/python/current/api/pymongo/collection.html?highlight=insert_one#pymongo.collection.Collection.insert_one\n",
    "### insert_many\n",
    "https://api.mongodb.com/python/current/api/pymongo/collection.html?highlight=insert_many#pymongo.collection.Collection.insert_many\n",
    "\n",
    "#### 今回はinsert_oneの方\n",
    "https://stackoverflow.com/questions/37369887/error-document-must-be-an-instance-of-dict-bson-son-son-bson-raw-bson-rawbson?rq=1"
   ]
  },
  {
   "cell_type": "code",
   "execution_count": 10,
   "metadata": {},
   "outputs": [],
   "source": [
    "#!brew services start mongodb"
   ]
  },
  {
   "cell_type": "code",
   "execution_count": 2,
   "metadata": {},
   "outputs": [
    {
     "name": "stdout",
     "output_type": "stream",
     "text": [
      "Finished!\n"
     ]
    }
   ],
   "source": [
    "import json\n",
    "from pymongo import MongoClient\n",
    "\n",
    "client = MongoClient('localhost', 27017)\n",
    "db_artist = client.database_artist\n",
    "collection_artist = db_artist.collection_artist\n",
    "\n",
    "with open('./data/artist.json') as f:\n",
    "    for line in f:\n",
    "        collection_artist.insert_one(json.loads(line.rstrip()))       \n",
    "        \n",
    "collection_artist.create_index('name')\n",
    "collection_artist.create_index('aliases.name')\n",
    "collection_artist.create_index('tags.value')\n",
    "collection_artist.create_index('rating.value')\n",
    "\n",
    "print('Finished!')"
   ]
  },
  {
   "cell_type": "code",
   "execution_count": 11,
   "metadata": {},
   "outputs": [],
   "source": [
    "#!brew services stop mongodb"
   ]
  },
  {
   "cell_type": "markdown",
   "metadata": {},
   "source": [
    "## 65. MongoDBの検索\n",
    "MongoDBのインタラクティブシェルを用いて，\"Queen\"というアーティストに関する情報を取得せよ．さらに，これと同様の処理を行うプログラムを実装せよ．"
   ]
  },
  {
   "cell_type": "markdown",
   "metadata": {},
   "source": [
    "### Collection.find({'field': 'content'})\n",
    "https://api.mongodb.com/python/current/examples/collations.html#specify-a-collation-for-a-query"
   ]
  },
  {
   "cell_type": "code",
   "execution_count": 3,
   "metadata": {},
   "outputs": [
    {
     "name": "stdout",
     "output_type": "stream",
     "text": [
      "MongoDB shell version v4.0.3\n",
      "connecting to: mongodb://127.0.0.1:27017\n",
      "Implicit session: session { \"id\" : UUID(\"1ad2abd8-5434-4791-abe0-2cdd1f8b86fb\") }\n",
      "MongoDB server version: 4.0.3\n",
      "switched to db database_artist\n",
      "{ \"_id\" : ObjectId(\"5bcc6b85bb390535ce8b0df1\"), \"name\" : \"Queen\", \"area\" : \"Japan\", \"gender\" : \"Female\", \"tags\" : [ { \"count\" : 1, \"value\" : \"kamen rider w\" }, { \"count\" : 1, \"value\" : \"related-akb48\" } ], \"sort_name\" : \"Queen\", \"ended\" : true, \"gid\" : \"420ca290-76c5-41af-999e-564d7c71f1a7\", \"type\" : \"Character\", \"id\" : 701492, \"aliases\" : [ { \"name\" : \"Queen\", \"sort_name\" : \"Queen\" } ] }\n",
      "{ \"_id\" : ObjectId(\"5bcc6ba7bb390535ce8bd49d\"), \"rating\" : { \"count\" : 24, \"value\" : 92 }, \"begin\" : { \"date\" : 27, \"month\" : 6, \"year\" : 1970 }, \"name\" : \"Queen\", \"area\" : \"United Kingdom\", \"tags\" : [ { \"count\" : 2, \"value\" : \"hard rock\" }, { \"count\" : 1, \"value\" : \"70s\" }, { \"count\" : 1, \"value\" : \"queen family\" }, { \"count\" : 1, \"value\" : \"90s\" }, { \"count\" : 1, \"value\" : \"80s\" }, { \"count\" : 1, \"value\" : \"glam rock\" }, { \"count\" : 4, \"value\" : \"british\" }, { \"count\" : 1, \"value\" : \"english\" }, { \"count\" : 2, \"value\" : \"uk\" }, { \"count\" : 1, \"value\" : \"pop/rock\" }, { \"count\" : 1, \"value\" : \"pop-rock\" }, { \"count\" : 1, \"value\" : \"britannique\" }, { \"count\" : 1, \"value\" : \"classic pop and rock\" }, { \"count\" : 1, \"value\" : \"queen\" }, { \"count\" : 1, \"value\" : \"united kingdom\" }, { \"count\" : 1, \"value\" : \"langham 1 studio bbc\" }, { \"count\" : 1, \"value\" : \"kind of magic\" }, { \"count\" : 1, \"value\" : \"band\" }, { \"count\" : 6, \"value\" : \"rock\" }, { \"count\" : 1, \"value\" : \"platinum\" } ], \"sort_name\" : \"Queen\", \"ended\" : true, \"gid\" : \"0383dadf-2a4e-4d10-a46a-e9e041da8eb3\", \"type\" : \"Group\", \"id\" : 192, \"aliases\" : [ { \"name\" : \"女王\", \"sort_name\" : \"女王\" } ] }\n",
      "{ \"_id\" : ObjectId(\"5bcc6c06bb390535ce8d8ef5\"), \"ended\" : true, \"gid\" : \"5eecaf18-02ec-47af-a4f2-7831db373419\", \"sort_name\" : \"Queen\", \"id\" : 992994, \"name\" : \"Queen\" }\n",
      "{ \"_id\" : ObjectId(\"5be54837bb39054fa5414a93\"), \"name\" : \"Queen\", \"area\" : \"Japan\", \"gender\" : \"Female\", \"tags\" : [ { \"count\" : 1, \"value\" : \"kamen rider w\" }, { \"count\" : 1, \"value\" : \"related-akb48\" } ], \"sort_name\" : \"Queen\", \"ended\" : true, \"gid\" : \"420ca290-76c5-41af-999e-564d7c71f1a7\", \"type\" : \"Character\", \"id\" : 701492, \"aliases\" : [ { \"name\" : \"Queen\", \"sort_name\" : \"Queen\" } ] }\n",
      "{ \"_id\" : ObjectId(\"5be54852bb39054fa542113f\"), \"rating\" : { \"count\" : 24, \"value\" : 92 }, \"begin\" : { \"date\" : 27, \"month\" : 6, \"year\" : 1970 }, \"name\" : \"Queen\", \"area\" : \"United Kingdom\", \"tags\" : [ { \"count\" : 2, \"value\" : \"hard rock\" }, { \"count\" : 1, \"value\" : \"70s\" }, { \"count\" : 1, \"value\" : \"queen family\" }, { \"count\" : 1, \"value\" : \"90s\" }, { \"count\" : 1, \"value\" : \"80s\" }, { \"count\" : 1, \"value\" : \"glam rock\" }, { \"count\" : 4, \"value\" : \"british\" }, { \"count\" : 1, \"value\" : \"english\" }, { \"count\" : 2, \"value\" : \"uk\" }, { \"count\" : 1, \"value\" : \"pop/rock\" }, { \"count\" : 1, \"value\" : \"pop-rock\" }, { \"count\" : 1, \"value\" : \"britannique\" }, { \"count\" : 1, \"value\" : \"classic pop and rock\" }, { \"count\" : 1, \"value\" : \"queen\" }, { \"count\" : 1, \"value\" : \"united kingdom\" }, { \"count\" : 1, \"value\" : \"langham 1 studio bbc\" }, { \"count\" : 1, \"value\" : \"kind of magic\" }, { \"count\" : 1, \"value\" : \"band\" }, { \"count\" : 6, \"value\" : \"rock\" }, { \"count\" : 1, \"value\" : \"platinum\" } ], \"sort_name\" : \"Queen\", \"ended\" : true, \"gid\" : \"0383dadf-2a4e-4d10-a46a-e9e041da8eb3\", \"type\" : \"Group\", \"id\" : 192, \"aliases\" : [ { \"name\" : \"女王\", \"sort_name\" : \"女王\" } ] }\n",
      "{ \"_id\" : ObjectId(\"5be54891bb39054fa543cb97\"), \"ended\" : true, \"gid\" : \"5eecaf18-02ec-47af-a4f2-7831db373419\", \"sort_name\" : \"Queen\", \"id\" : 992994, \"name\" : \"Queen\" }\n",
      "bye\n"
     ]
    }
   ],
   "source": [
    "%%bash\n",
    "mongo\n",
    "use database_artist\n",
    "db.collection_artist.find( { 'name': 'Queen' } )"
   ]
  },
  {
   "cell_type": "code",
   "execution_count": 27,
   "metadata": {},
   "outputs": [
    {
     "name": "stdout",
     "output_type": "stream",
     "text": [
      "{'_id': ObjectId('5bcc6b85bb390535ce8b0df1'),\n",
      " 'aliases': [{'name': 'Queen', 'sort_name': 'Queen'}],\n",
      " 'area': 'Japan',\n",
      " 'ended': True,\n",
      " 'gender': 'Female',\n",
      " 'gid': '420ca290-76c5-41af-999e-564d7c71f1a7',\n",
      " 'id': 701492,\n",
      " 'name': 'Queen',\n",
      " 'sort_name': 'Queen',\n",
      " 'tags': [{'count': 1, 'value': 'kamen rider w'},\n",
      "          {'count': 1, 'value': 'related-akb48'}],\n",
      " 'type': 'Character'}\n",
      "{'_id': ObjectId('5bcc6ba7bb390535ce8bd49d'),\n",
      " 'aliases': [{'name': '女王', 'sort_name': '女王'}],\n",
      " 'area': 'United Kingdom',\n",
      " 'begin': {'date': 27, 'month': 6, 'year': 1970},\n",
      " 'ended': True,\n",
      " 'gid': '0383dadf-2a4e-4d10-a46a-e9e041da8eb3',\n",
      " 'id': 192,\n",
      " 'name': 'Queen',\n",
      " 'rating': {'count': 24, 'value': 92},\n",
      " 'sort_name': 'Queen',\n",
      " 'tags': [{'count': 2, 'value': 'hard rock'},\n",
      "          {'count': 1, 'value': '70s'},\n",
      "          {'count': 1, 'value': 'queen family'},\n",
      "          {'count': 1, 'value': '90s'},\n",
      "          {'count': 1, 'value': '80s'},\n",
      "          {'count': 1, 'value': 'glam rock'},\n",
      "          {'count': 4, 'value': 'british'},\n",
      "          {'count': 1, 'value': 'english'},\n",
      "          {'count': 2, 'value': 'uk'},\n",
      "          {'count': 1, 'value': 'pop/rock'},\n",
      "          {'count': 1, 'value': 'pop-rock'},\n",
      "          {'count': 1, 'value': 'britannique'},\n",
      "          {'count': 1, 'value': 'classic pop and rock'},\n",
      "          {'count': 1, 'value': 'queen'},\n",
      "          {'count': 1, 'value': 'united kingdom'},\n",
      "          {'count': 1, 'value': 'langham 1 studio bbc'},\n",
      "          {'count': 1, 'value': 'kind of magic'},\n",
      "          {'count': 1, 'value': 'band'},\n",
      "          {'count': 6, 'value': 'rock'},\n",
      "          {'count': 1, 'value': 'platinum'}],\n",
      " 'type': 'Group'}\n",
      "{'_id': ObjectId('5bcc6c06bb390535ce8d8ef5'),\n",
      " 'ended': True,\n",
      " 'gid': '5eecaf18-02ec-47af-a4f2-7831db373419',\n",
      " 'id': 992994,\n",
      " 'name': 'Queen',\n",
      " 'sort_name': 'Queen'}\n"
     ]
    }
   ],
   "source": [
    "from pymongo import MongoClient\n",
    "import pprint as pp\n",
    "\n",
    "client = MongoClient('localhost', 27017)\n",
    "db_artist = client.database_artist\n",
    "collection_artist = db_artist.collection_artist\n",
    "\n",
    "for queen_related in collection_artist.find({'name':'Queen'}):\n",
    "    pp.pprint(queen_related)"
   ]
  },
  {
   "cell_type": "markdown",
   "metadata": {},
   "source": [
    "## 66. 検索件数の取得\n",
    "MongoDBのインタラクティブシェルを用いて，活動場所が「Japan」となっているアーティスト数を求めよ．"
   ]
  },
  {
   "cell_type": "markdown",
   "metadata": {},
   "source": [
    "### Collections.count()\n",
    "https://api.mongodb.com/python/current/api/pymongo/collection.html?highlight=count#pymongo.collection.Collection.count"
   ]
  },
  {
   "cell_type": "code",
   "execution_count": 25,
   "metadata": {},
   "outputs": [
    {
     "name": "stdout",
     "output_type": "stream",
     "text": [
      "MongoDB shell version v4.0.3\n",
      "connecting to: mongodb://127.0.0.1:27017\n",
      "Implicit session: session { \"id\" : UUID(\"7ee9fe87-05b6-4806-92f8-59d08081fd1f\") }\n",
      "MongoDB server version: 4.0.3\n",
      "switched to db database_artist\n",
      "22821\n",
      "bye\n"
     ]
    }
   ],
   "source": [
    "%%bash\n",
    "mongo\n",
    "use database_artist\n",
    "db.collection_artist.count( { 'area': 'Japan' } )"
   ]
  },
  {
   "cell_type": "markdown",
   "metadata": {},
   "source": [
    "## 67. 複数のドキュメントの取得\n",
    "特定の（指定した）別名を持つアーティストを検索せよ．"
   ]
  },
  {
   "cell_type": "code",
   "execution_count": 28,
   "metadata": {},
   "outputs": [
    {
     "name": "stdout",
     "output_type": "stream",
     "text": [
      "{'aliases': [{'name': 'Silhouettes', 'sort_name': 'Silhouettes'},\n",
      "             {'name': 'The Sihouettes', 'sort_name': 'The Sihouettes'}],\n",
      " 'area': 'United States',\n",
      " 'begin': {'year': 1956},\n",
      " 'end': {'year': 1993},\n",
      " 'ended': True,\n",
      " 'gid': 'ca3f3ee1-c4a7-4bac-a16a-0b888a396c6b',\n",
      " 'id': 101060,\n",
      " 'name': 'The Silhouettes',\n",
      " 'sort_name': 'Silhouettes, The',\n",
      " 'type': 'Group'}\n",
      "{'aliases': [{'name': 'DJ Matthew Grimm', 'sort_name': 'DJ Matthew Grimm'}],\n",
      " 'ended': True,\n",
      " 'gid': '8266627f-bbeb-4e71-a110-d29700598afd',\n",
      " 'id': 155759,\n",
      " 'name': 'DJ Matthew Grim',\n",
      " 'sort_name': 'DJ Matthew Grim'}\n"
     ]
    }
   ],
   "source": [
    "import json\n",
    "from itertools import islice\n",
    "import pprint as pp\n",
    "\n",
    "with open('./data/artist.json', 'r') as f:\n",
    "    for line in islice(f, 20):\n",
    "        if 'aliases' in json.loads(line):\n",
    "            pp.pprint(json.loads(line))"
   ]
  },
  {
   "cell_type": "markdown",
   "metadata": {},
   "source": [
    "### $exists\n",
    "https://docs.mongodb.com/manual/reference/operator/query/exists/"
   ]
  },
  {
   "cell_type": "code",
   "execution_count": 35,
   "metadata": {},
   "outputs": [
    {
     "name": "stdout",
     "output_type": "stream",
     "text": [
      "Overwriting src/q67.py\n"
     ]
    }
   ],
   "source": [
    "%%file src/q67.py\n",
    "\n",
    "import sys\n",
    "from pymongo import MongoClient\n",
    "import pprint as pp\n",
    "\n",
    "target = sys.argv[1]\n",
    "\n",
    "client = MongoClient('localhost', 27017)\n",
    "db_artist = client.database_artist\n",
    "collection_artist = db_artist.collection_artist\n",
    "\n",
    "for have_aliases in collection_artist.find({'aliases': {'$exists': True}}):\n",
    "    for aliase in have_aliases['aliases']:\n",
    "        if aliase['name'] == target:\n",
    "            pp.pprint(have_aliases)"
   ]
  },
  {
   "cell_type": "code",
   "execution_count": 37,
   "metadata": {},
   "outputs": [
    {
     "name": "stdout",
     "output_type": "stream",
     "text": [
      "{'_id': ObjectId('5bcc6c18bb390535ce8decd2'),\r\n",
      " 'aliases': [{'name': 'Битлз', 'sort_name': 'Битлз'},\r\n",
      "             {'name': 'ザ・ビートルズ', 'sort_name': 'ザ・ビートルズ'},\r\n",
      "             {'name': '더 비틀즈', 'sort_name': '더 비틀즈'},\r\n",
      "             {'name': 'Los Beatles', 'sort_name': 'Los Beatles'},\r\n",
      "             {'name': 'ビートルズ', 'sort_name': 'ビートルズ'},\r\n",
      "             {'name': 'Beatles', 'sort_name': 'Beatles'},\r\n",
      "             {'name': 'fab four', 'sort_name': 'fab four'},\r\n",
      "             {'name': 'Beetles', 'sort_name': 'Beetles'},\r\n",
      "             {'name': 'Beatles*', 'sort_name': 'Beatles*'},\r\n",
      "             {'name': 'ザビートルズ', 'sort_name': 'ザビートルズ'},\r\n",
      "             {'name': '披头士', 'sort_name': '披头士'},\r\n",
      "             {'name': '披頭四', 'sort_name': '披頭四'}],\r\n",
      " 'area': 'United Kingdom',\r\n",
      " 'begin': {'month': 3, 'year': 1957},\r\n",
      " 'end': {'date': 10, 'month': 4, 'year': 1970},\r\n",
      " 'ended': True,\r\n",
      " 'gid': 'b10bbbfc-cf9e-42e0-be17-e2c3e1d2600d',\r\n",
      " 'id': 303,\r\n",
      " 'name': 'The Beatles',\r\n",
      " 'rating': {'count': 61, 'value': 96},\r\n",
      " 'sort_name': 'Beatles, The',\r\n",
      " 'tags': [{'count': 2, 'value': 'uk'},\r\n",
      "          {'count': 7, 'value': 'rock'},\r\n",
      "          {'count': 1, 'value': 'english'},\r\n",
      "          {'count': 1, 'value': 'overrated'},\r\n",
      "          {'count': 1, 'value': 'parlophone'},\r\n",
      "          {'count': 1, 'value': '60s'},\r\n",
      "          {'count': 1, 'value': 'pop-rock'},\r\n",
      "          {'count': 1, 'value': 'pop/rock'},\r\n",
      "          {'count': 1, 'value': 'psychedelic pop'},\r\n",
      "          {'count': 1, 'value': 'rock & roll'},\r\n",
      "          {'count': 1, 'value': 'heavy metal'},\r\n",
      "          {'count': 1, 'value': 'classical pop'},\r\n",
      "          {'count': 1, 'value': 'instrumental pop'},\r\n",
      "          {'count': 1, 'value': 'folk-rock'},\r\n",
      "          {'count': 1, 'value': 'orchestral'},\r\n",
      "          {'count': 1, 'value': 'psychedelic'},\r\n",
      "          {'count': 1, 'value': 'rock roll'},\r\n",
      "          {'count': 1, 'value': 'adult alternative pop rock'},\r\n",
      "          {'count': 1, 'value': 'tribute albums'},\r\n",
      "          {'count': 1, 'value': 'british psychedelia'},\r\n",
      "          {'count': 1, 'value': 'orchestral pop'},\r\n",
      "          {'count': 1, 'value': 'singer songwriter'},\r\n",
      "          {'count': 1, 'value': 'indie rock'},\r\n",
      "          {'count': 2, 'value': 'british invasion'},\r\n",
      "          {'count': 1, 'value': 'pop-metal'},\r\n",
      "          {'count': 2, 'value': 'merseybeat'},\r\n",
      "          {'count': 1, 'value': 'classic pop and rock'},\r\n",
      "          {'count': 1, 'value': 'britpop'},\r\n",
      "          {'count': 1, 'value': 'the-beatles'},\r\n",
      "          {'count': 1, 'value': 'progressive rock'},\r\n",
      "          {'count': 1, 'value': '1'},\r\n",
      "          {'count': 1, 'value': 'united kingdom'},\r\n",
      "          {'count': 1, 'value': 'male vocalists'},\r\n",
      "          {'count': 1, 'value': 'experimental'},\r\n",
      "          {'count': 1, 'value': 'rock and roll'},\r\n",
      "          {'count': 2, 'value': 'liverpool'},\r\n",
      "          {'count': 7, 'value': 'pop'},\r\n",
      "          {'count': 1, 'value': 'one beatles'},\r\n",
      "          {'count': 6, 'value': 'british'},\r\n",
      "          {'count': 1, 'value': 'pop rock'},\r\n",
      "          {'count': 1, 'value': 'bbc'}],\r\n",
      " 'type': 'Group'}\r\n"
     ]
    }
   ],
   "source": [
    "!python ./src/q67.py 'ビートルズ'"
   ]
  },
  {
   "cell_type": "markdown",
   "metadata": {},
   "source": [
    "## 68. ソート\n",
    "\"dance\"というタグを付与されたアーティストの中でレーティングの投票数が多いアーティスト・トップ10を求めよ．"
   ]
  },
  {
   "cell_type": "markdown",
   "metadata": {},
   "source": [
    "### find().sort().limit()\n",
    "https://api.mongodb.com/python/current/api/gridfs/index.html?highlight=find#gridfs.GridFS.find"
   ]
  },
  {
   "cell_type": "code",
   "execution_count": 74,
   "metadata": {},
   "outputs": [
    {
     "name": "stdout",
     "output_type": "stream",
     "text": [
      "name\trating.count\n",
      "------------------------------\n",
      "Madonna\t26\n",
      "Björk\t23\n",
      "The Prodigy\t23\n",
      "Rihanna\t15\n",
      "Britney Spears\t13\n",
      "Maroon 5\t11\n",
      "Adam Lambert\t7\n",
      "Fatboy Slim\t7\n",
      "Basement Jaxx\t6\n",
      "Cornershop\t5\n"
     ]
    }
   ],
   "source": [
    "from pymongo import MongoClient\n",
    "\n",
    "client = MongoClient('localhost', 27017)\n",
    "db_artist = client.database_artist\n",
    "collection_artist = db_artist.collection_artist\n",
    "\n",
    "print('name\\trating.count\\n------------------------------')\n",
    "for have_dance in collection_artist.find({'tags.value':'dance'}).sort('rating.count', -1).limit(10):\n",
    "    print(have_dance['name']+'\\t'+str(have_dance['rating']['count']))"
   ]
  },
  {
   "cell_type": "markdown",
   "metadata": {},
   "source": [
    "## 69. Webアプリケーションの作成\n",
    "ユーザから入力された検索条件に合致するアーティストの情報を表示するWebアプリケーションを作成せよ．アーティスト名，アーティストの別名，タグ等で検索条件を指定し，アーティスト情報のリストをレーティングの高い順などで整列して表示せよ．"
   ]
  },
  {
   "cell_type": "code",
   "execution_count": 2,
   "metadata": {},
   "outputs": [
    {
     "data": {
      "image/png": "[encoded data removed]",
      "text/plain": [
       "<IPython.core.display.Image object>"
      ]
     },
     "execution_count": 2,
     "metadata": {},
     "output_type": "execute_result"
    }
   ],
   "source": [
    "from IPython.display import Image\n",
    "Image('./src/q69.png')"
   ]
  },
  {
   "cell_type": "code",
   "execution_count": null,
   "metadata": {},
   "outputs": [],
   "source": []
  }
 ],
 "metadata": {
  "kernelspec": {
   "display_name": "Python 3",
   "language": "python",
   "name": "python3"
  },
  "language_info": {
   "codemirror_mode": {
    "name": "ipython",
    "version": 3
   },
   "file_extension": ".py",
   "mimetype": "text/x-python",
   "name": "python",
   "nbconvert_exporter": "python",
   "pygments_lexer": "ipython3",
   "version": "3.6.4"
  }
 },
 "nbformat": 4,
 "nbformat_minor": 2
}
