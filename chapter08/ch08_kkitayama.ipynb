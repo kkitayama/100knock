{
 "cells": [
  {
   "cell_type": "markdown",
   "metadata": {},
   "source": [
    "# 第8章: 機械学習"
   ]
  },
  {
   "cell_type": "markdown",
   "metadata": {},
   "source": [
    "本章では，Bo Pang氏とLillian Lee氏が公開している[Movie Review Data](http://www.cs.cornell.edu/people/pabo/movie-review-data/)の[sentence polarity dataset v1.0](http://www.cs.cornell.edu/people/pabo/movie-review-data/rt-polaritydata.README.1.0.txt)を用い，文を肯定的（ポジティブ）もしくは否定的（ネガティブ）に分類するタスク（極性分析）に取り組む．"
   ]
  },
  {
   "cell_type": "markdown",
   "metadata": {},
   "source": [
    "### nltk\n",
    "https://pythonspot.com/en/tokenizing-words-and-sentences-with-nltk/"
   ]
  },
  {
   "cell_type": "code",
   "execution_count": 1,
   "metadata": {},
   "outputs": [],
   "source": [
    "#import nltk\n",
    "#nltk.download()"
   ]
  },
  {
   "cell_type": "code",
   "execution_count": 2,
   "metadata": {},
   "outputs": [
    {
     "name": "stdout",
     "output_type": "stream",
     "text": [
      "['All work and no play makes jack dull boy.', 'All work and no play makes jack a dull boy.']\n",
      "['All', 'work', 'and', 'no', 'play', 'makes', 'jack', 'dull', 'boy', '.', 'All', 'work', 'and', 'no', 'play', 'makes', 'jack', 'a', 'dull', 'boy', '.']\n"
     ]
    }
   ],
   "source": [
    "from nltk.tokenize import sent_tokenize, word_tokenize\n",
    " \n",
    "data = \"All work and no play makes jack dull boy. All work and no play makes jack a dull boy.\"\n",
    "sent = sent_tokenize(data)\n",
    "print(sent)\n",
    "words = word_tokenize(data)\n",
    "print(words)"
   ]
  },
  {
   "cell_type": "markdown",
   "metadata": {},
   "source": [
    "## 70. データの入手・整形\n",
    "[文に関する極性分析の正解データ](http://www.cs.cornell.edu/people/pabo/movie-review-data/rt-polaritydata.tar.gz)を用い，以下の要領で正解データ（sentiment.txt）を作成せよ．\n",
    "\n",
    "1. rt-polarity.posの各行の先頭に\"+1 \"という文字列を追加する（極性ラベル\"+1\"とスペースに続けて肯定的な文の内容が続く）\n",
    "2. rt-polarity.negの各行の先頭に\"-1 \"という文字列を追加する（極性ラベル\"-1\"とスペースに続けて否定的な文の内容が続く）\n",
    "3. 上述1と2の内容を結合（concatenate）し，行をランダムに並び替える\n",
    "\n",
    "sentiment.txtを作成したら，正例（肯定的な文）の数と負例（否定的な文）の数を確認せよ．"
   ]
  },
  {
   "cell_type": "code",
   "execution_count": 3,
   "metadata": {},
   "outputs": [
    {
     "name": "stdout",
     "output_type": "stream",
     "text": [
      "5331 ./data/rt-polarity.pos\n",
      "5331 ./data/rt-polarity.neg\n"
     ]
    }
   ],
   "source": [
    "%%bash\n",
    "wc -l ./data/rt-polarity.pos\n",
    "wc -l ./data/rt-polarity.neg"
   ]
  },
  {
   "cell_type": "code",
   "execution_count": 4,
   "metadata": {},
   "outputs": [
    {
     "name": "stdout",
     "output_type": "stream",
     "text": [
      "the rock is destined to be the 21st century's new \" conan \" and that he's going to make a splash even greater than arnold schwarzenegger , jean-claud van damme or steven segal . \r\n",
      "the gorgeously elaborate continuation of \" the lord of the rings \" trilogy is so huge that a column of words cannot adequately describe co-writer/director peter jackson's expanded vision of j . r . r . tolkien's middle-earth . \r\n",
      "effective but too-tepid biopic\r\n",
      "if you sometimes like to go to the movies to have fun , wasabi is a good place to start . \r\n",
      "emerges as something rare , an issue movie that's so honest and keenly observed that it doesn't feel like one . \r\n"
     ]
    }
   ],
   "source": [
    "!head -5 ./data/rt-polarity.pos"
   ]
  },
  {
   "cell_type": "code",
   "execution_count": 5,
   "metadata": {},
   "outputs": [
    {
     "name": "stdout",
     "output_type": "stream",
     "text": [
      "simplistic , silly and tedious . \r\n",
      "it's so laddish and juvenile , only teenage boys could possibly find it funny . \r\n",
      "exploitative and largely devoid of the depth or sophistication that would make watching such a graphic treatment of the crimes bearable . \r\n",
      "[garbus] discards the potential for pathological study , exhuming instead , the skewed melodrama of the circumstantial situation . \r\n",
      "a visually flashy but narratively opaque and emotionally vapid exercise in style and mystification . \r\n"
     ]
    }
   ],
   "source": [
    "!head -5 ./data/rt-polarity.neg"
   ]
  },
  {
   "cell_type": "code",
   "execution_count": 6,
   "metadata": {},
   "outputs": [
    {
     "name": "stdout",
     "output_type": "stream",
     "text": [
      "BINARY\r\n"
     ]
    }
   ],
   "source": [
    "!nkf -g ./data/rt-polarity.pos"
   ]
  },
  {
   "cell_type": "code",
   "execution_count": 7,
   "metadata": {},
   "outputs": [
    {
     "name": "stdout",
     "output_type": "stream",
     "text": [
      "{'encoding': 'Windows-1252', 'confidence': 0.73, 'language': ''}\n"
     ]
    }
   ],
   "source": [
    "import chardet\n",
    "\n",
    "with open('./data/rt-polarity.pos', 'rb') as f:\n",
    "    print(chardet.detect(f.read()))"
   ]
  },
  {
   "cell_type": "code",
   "execution_count": 8,
   "metadata": {},
   "outputs": [],
   "source": [
    "with open('./data/rt-polarity.pos', 'rb') as fi, open('data/rt-polarity-pos.txt', 'w', encoding='utf-8') as fo:\n",
    "    fo.write(fi.read().decode('Windows-1252'))\n",
    "with open('./data/rt-polarity.neg', 'rb') as fi, open('data/rt-polarity-neg.txt', 'w', encoding='utf-8') as fo:\n",
    "    fo.write(fi.read().decode('Windows-1252'))"
   ]
  },
  {
   "cell_type": "code",
   "execution_count": 9,
   "metadata": {},
   "outputs": [],
   "source": [
    "import random\n",
    "\n",
    "pos_list = []\n",
    "neg_list = []\n",
    "\n",
    "with open('./data/rt-polarity-pos.txt',  'r') as fp:\n",
    "    for line in fp:\n",
    "        pos_list.append('+1 '+ line.rstrip())\n",
    "\n",
    "with open('./data/rt-polarity-neg.txt', 'r') as fn:\n",
    "     for line in fn:\n",
    "        neg_list.append('-1 '+ line.rstrip())\n",
    "\n",
    "sent_list = pos_list + neg_list\n",
    "random.shuffle(sent_list)\n",
    "\n",
    "with open('./work/sentiment.txt', 'w') as fs:\n",
    "    for sent in sent_list:\n",
    "        fs.write(sent + '\\n')"
   ]
  },
  {
   "cell_type": "code",
   "execution_count": 10,
   "metadata": {},
   "outputs": [
    {
     "name": "stdout",
     "output_type": "stream",
     "text": [
      "+1 exquisitely acted and masterfully if preciously interwoven… [the film] addresses in a fascinating , intelligent manner the intermingling of race , politics and local commerce .\r\n",
      "-1 julia is played with exasperating blandness by laura regan .\r\n",
      "+1 the director , steven shainberg , has succeeded by focusing intently on his characters , making them quirky individuals rather than figures of fun .\r\n",
      "-1  . . . better described as a ghost story gone badly awry .\r\n",
      "+1 the powerful success of read my lips with such provocative material shows why , after only three films , director/co-writer jacques audiard , though little known in this country , belongs in the very top rank of french filmmakers .\r\n",
      "+1 though it lacks the utter authority of a genre gem , there's a certain robustness to this engaging mix of love and bloodletting .\r\n",
      "+1 swimming is above all about a young woman's face , and by casting an actress whose face projects that woman's doubts and yearnings , it succeeds .\r\n",
      "+1 anyone who welcomes a dash of the avant-garde fused with their humor should take pleasure in this crazed , joyous romp of a film .\r\n",
      "+1  . . . there's enough cool fun here to warm the hearts of animation enthusiasts of all ages .\r\n",
      "-1 every conceivable mistake a director could make in filming opera has been perpetrated here .\r\n"
     ]
    }
   ],
   "source": [
    "!head ./work/sentiment.txt"
   ]
  },
  {
   "cell_type": "code",
   "execution_count": 11,
   "metadata": {},
   "outputs": [
    {
     "name": "stdout",
     "output_type": "stream",
     "text": [
      "pos : 5331\tneg5331\n"
     ]
    }
   ],
   "source": [
    "pos_num = 0\n",
    "neg_num = 0\n",
    "\n",
    "with open('./work/sentiment.txt', 'r') as f:\n",
    "    for line in f:\n",
    "        if line[0] == '+':\n",
    "            pos_num += 1\n",
    "        elif line[0] == '-':\n",
    "            neg_num += 1\n",
    "        else:\n",
    "            print('There is a sentence which is neither positive nor negative : ' + line.rstrip())\n",
    "            \n",
    "print('pos : ' + str(pos_num) + '\\t' + 'neg' + str(neg_num))\n",
    "        "
   ]
  },
  {
   "cell_type": "markdown",
   "metadata": {},
   "source": [
    "## 71. ストップワード\n",
    "英語のストップワードのリスト（ストップリスト）を適当に作成せよ．さらに，引数に与えられた単語（文字列）がストップリストに含まれている場合は真，それ以外は偽を返す関数を実装せよ．さらに，その関数に対するテストを記述せよ．"
   ]
  },
  {
   "cell_type": "markdown",
   "metadata": {},
   "source": [
    "https://pythonspot.com/nltk-stop-words/"
   ]
  },
  {
   "cell_type": "code",
   "execution_count": 12,
   "metadata": {},
   "outputs": [],
   "source": [
    "from nltk.corpus import stopwords\n",
    "\n",
    "stopWords = set(stopwords.words('english'))\n",
    "\n",
    "def is_stopword(word):\n",
    "    return word.lower() in stopWords"
   ]
  },
  {
   "cell_type": "code",
   "execution_count": 13,
   "metadata": {},
   "outputs": [
    {
     "name": "stdout",
     "output_type": "stream",
     "text": [
      "{'not', 'below', 'wasn', 'has', 'a', 'having', 'those', 'been', 'll', 'who', 'weren', 'hadn', 'herself', 'its', 'did', 'yourself', 'y', \"she's\", \"should've\", 'up', 'what', 'more', 'whom', \"haven't\", 'themselves', 'needn', 'all', 'were', 'as', 'o', 'you', 'into', 'mightn', 'to', 'it', 'off', 'himself', 'her', 'where', 'no', 'yours', 'between', 'once', 'why', 'against', 'but', 'after', 'above', 'am', \"hadn't\", 'she', 'the', 'their', 'm', 'nor', \"wouldn't\", 'doesn', 'shouldn', 'have', 'there', 'ours', \"you'd\", 're', 'at', 'of', 'this', 'that', 'his', 'too', \"weren't\", 'will', 'and', 'shan', 'doing', 'them', 'when', 'before', 'any', 'if', \"don't\", \"shan't\", 'hers', 'about', 'him', 'few', 'your', 'in', 'isn', 'won', 'are', \"you'll\", 'they', 'aren', \"mustn't\", 'other', \"won't\", 'most', 'over', 'don', 'by', 'further', \"didn't\", \"you've\", 'ain', 'i', \"isn't\", 'is', 'own', 'haven', 'hasn', 'during', 'same', \"couldn't\", \"shouldn't\", 'he', 'these', 't', 'an', 'through', 'me', 'until', 'some', 'should', \"aren't\", 'didn', 'was', 'for', 'under', 'couldn', 'yourselves', 'now', 'theirs', 'both', \"needn't\", 'ourselves', \"you're\", 'wouldn', 'itself', 'being', 'with', 'out', 'again', 've', 'down', 'while', 'mustn', \"wasn't\", 'we', 'had', 'be', 'then', 'such', 'does', 'which', 'ma', \"it's\", 'do', 'd', 'my', 'myself', 'on', 'only', 'can', \"hasn't\", 'from', 'here', 'our', 'because', 'each', 's', 'than', \"doesn't\", \"mightn't\", \"that'll\", 'very', 'how', 'or', 'so', 'just'}\n",
      "179\n"
     ]
    }
   ],
   "source": [
    "print(stopWords)\n",
    "print(len(stopWords))"
   ]
  },
  {
   "cell_type": "code",
   "execution_count": 14,
   "metadata": {},
   "outputs": [
    {
     "ename": "AssertionError",
     "evalue": "",
     "output_type": "error",
     "traceback": [
      "\u001b[0;31m---------------------------------------------------------------------------\u001b[0m",
      "\u001b[0;31mAssertionError\u001b[0m                            Traceback (most recent call last)",
      "\u001b[0;32m<ipython-input-14-1da950bfd566>\u001b[0m in \u001b[0;36m<module>\u001b[0;34m()\u001b[0m\n\u001b[1;32m      1\u001b[0m \u001b[0;32massert\u001b[0m \u001b[0mis_stopword\u001b[0m\u001b[0;34m(\u001b[0m\u001b[0;34m'you'\u001b[0m\u001b[0;34m)\u001b[0m\u001b[0;34m\u001b[0m\u001b[0m\n\u001b[1;32m      2\u001b[0m \u001b[0;32massert\u001b[0m \u001b[0mis_stopword\u001b[0m\u001b[0;34m(\u001b[0m\u001b[0;34m'You'\u001b[0m\u001b[0;34m)\u001b[0m\u001b[0;34m\u001b[0m\u001b[0m\n\u001b[0;32m----> 3\u001b[0;31m \u001b[0;32massert\u001b[0m \u001b[0mis_stopword\u001b[0m\u001b[0;34m(\u001b[0m\u001b[0;34m'.'\u001b[0m\u001b[0;34m)\u001b[0m\u001b[0;34m\u001b[0m\u001b[0m\n\u001b[0m",
      "\u001b[0;31mAssertionError\u001b[0m: "
     ]
    }
   ],
   "source": [
    "assert is_stopword('you')\n",
    "assert is_stopword('You')\n",
    "assert is_stopword('.')"
   ]
  },
  {
   "cell_type": "code",
   "execution_count": 15,
   "metadata": {},
   "outputs": [
    {
     "name": "stdout",
     "output_type": "stream",
     "text": [
      "{'not', 'below', 'wasn', 'has', 'a', '?', 'having', 'those', 'been', 'll', 'who', 'weren', 'hadn', 'herself', 'its', 'did', 'yourself', 'y', \"she's\", \"should've\", 'up', 'what', 'more', 'whom', \"haven't\", 'themselves', 'needn', 'all', 'were', 'as', 'o', 'you', 'into', 'mightn', 'to', 'it', 'off', 'himself', 'her', 'where', 'no', '!', 'yours', 'between', 'once', 'why', 'against', 'but', 'after', 'above', 'am', \"hadn't\", 'she', 'the', 'their', 'm', 'nor', \"wouldn't\", 'doesn', 'shouldn', 'have', 'there', 'ours', \"you'd\", 're', 'at', 'of', 'this', 'that', 'his', 'too', \"weren't\", 'will', 'and', 'shan', 'doing', 'them', 'when', 'before', 'any', 'if', \"don't\", \"shan't\", 'hers', 'about', 'him', 'few', 'your', 'in', 'isn', 'won', 'are', \"you'll\", 'they', 'aren', \"mustn't\", 'other', \"won't\", 'most', 'over', 'don', 'by', 'further', \"didn't\", \"you've\", 'ain', 'i', \"isn't\", 'is', 'own', 'haven', 'hasn', 'during', 'same', \"couldn't\", \"shouldn't\", '.', 'he', 'these', 't', 'an', 'through', 'me', 'until', 'some', 'should', \"aren't\", 'didn', 'was', 'for', 'under', 'couldn', 'yourselves', 'now', 'theirs', 'both', \"needn't\", 'ourselves', \"you're\", 'wouldn', 'itself', 'being', 'with', 'out', 'again', 've', 'down', 'while', 'mustn', \"wasn't\", 'we', 'had', 'be', 'then', 'such', 'does', ',', 'which', 'ma', \"it's\", 'do', 'd', 'my', 'myself', 'on', 'only', 'can', \"hasn't\", 'from', 'here', 'our', 'because', 'each', 's', 'than', \"doesn't\", \"mightn't\", \"that'll\", 'very', 'how', 'or', 'so', 'just'}\n",
      "183\n"
     ]
    }
   ],
   "source": [
    "new_stop_words = stopWords | {',', '.', '!', '?'}\n",
    "print(new_stop_words)\n",
    "print(len(new_stop_words))"
   ]
  },
  {
   "cell_type": "code",
   "execution_count": 16,
   "metadata": {},
   "outputs": [],
   "source": [
    "def is_stopword_v2(word):\n",
    "    return word.lower() in new_stop_words"
   ]
  },
  {
   "cell_type": "code",
   "execution_count": 17,
   "metadata": {},
   "outputs": [],
   "source": [
    "assert is_stopword_v2('you')\n",
    "assert is_stopword_v2('You')\n",
    "assert is_stopword_v2('.')"
   ]
  },
  {
   "cell_type": "code",
   "execution_count": 18,
   "metadata": {},
   "outputs": [],
   "source": [
    "def test_is_stopword():\n",
    "    assert is_stopword('you')\n",
    "    assert is_stopword('You')\n",
    "    assert is_stopword('.')\n",
    "    \n",
    "def test_is_stopword_v2():\n",
    "    assert is_stopword_v2('you')\n",
    "    assert is_stopword_v2('You')\n",
    "    assert is_stopword_v2('.')"
   ]
  },
  {
   "cell_type": "code",
   "execution_count": 19,
   "metadata": {},
   "outputs": [
    {
     "name": "stdout",
     "output_type": "stream",
     "text": [
      "\u001b[1m============================= test session starts ==============================\u001b[0m\r\n",
      "platform darwin -- Python 3.6.4, pytest-3.3.2, py-1.5.2, pluggy-0.6.0\r\n",
      "rootdir: /Users/kitayama/100knock-2018/kkitayama/chapter08, inifile:\r\n",
      "\u001b[1m\r",
      "collecting 0 items                                                             \u001b[0m\u001b[1m\r",
      "collected 0 items                                                              \u001b[0m\r\n",
      "\r\n",
      "\u001b[33m\u001b[1m========================= no tests ran in 0.00 seconds =========================\u001b[0m\r\n"
     ]
    }
   ],
   "source": [
    "!pytest"
   ]
  },
  {
   "cell_type": "markdown",
   "metadata": {},
   "source": [
    "## 72. 素性抽出\n",
    "極性分析に有用そうな素性を各自で設計し，学習データから素性を抽出せよ．素性としては，レビューからストップワードを除去し，各単語をステミング処理したものが最低限のベースラインとなるであろう．"
   ]
  },
  {
   "cell_type": "markdown",
   "metadata": {},
   "source": [
    "https://www.haya-programming.com/entry/2018/03/25/203836"
   ]
  },
  {
   "cell_type": "code",
   "execution_count": 20,
   "metadata": {},
   "outputs": [],
   "source": [
    " from nltk.stem.lancaster import LancasterStemmer\n",
    "\n",
    "def extract_features(text, stemmer=LancasterStemmer()):\n",
    "    words = text.split()\n",
    "    words_filtered = [word for word in words if not is_stopword_v2(word)]\n",
    "    features = [stemmer.stem(word) for word in words_filtered]\n",
    "    return ' '.join(features)"
   ]
  },
  {
   "cell_type": "code",
   "execution_count": 21,
   "metadata": {},
   "outputs": [
    {
     "name": "stdout",
     "output_type": "stream",
     "text": [
      "+1 exquisitely acted and masterfully if preciously interwoven… [the film] addresses in a fascinating , intelligent manner the intermingling of race , politics and local commerce .\n",
      "-1 julia is played with exasperating blandness by laura regan .\n",
      "+1 the director , steven shainberg , has succeeded by focusing intently on his characters , making them quirky individuals rather than figures of fun .\n",
      "-1  . . . better described as a ghost story gone badly awry .\n",
      "+1 the powerful success of read my lips with such provocative material shows why , after only three films , director/co-writer jacques audiard , though little known in this country , belongs in the very top rank of french filmmakers .\n"
     ]
    }
   ],
   "source": [
    "from itertools import islice\n",
    "\n",
    "with open('./work/sentiment.txt') as f:\n",
    "    for line in islice(f, 5):\n",
    "        print(line.rstrip())"
   ]
  },
  {
   "cell_type": "code",
   "execution_count": 22,
   "metadata": {},
   "outputs": [
    {
     "name": "stdout",
     "output_type": "stream",
     "text": [
      "+1 exquisit act mast precy interwoven… [the film] address fascin intellig man intermingl rac polit loc commerc\n",
      "-1 jul play exasp bland laur reg\n",
      "+1 direct stev shainberg success focus int charact mak quirky individ rath fig fun\n",
      "-1 bet describ ghost story gon bad awry\n",
      "+1 pow success read lip provoc mat show three film director/co-writ jacqu audiard though littl known country belong top rank french filmmak\n"
     ]
    }
   ],
   "source": [
    "from itertools import islice\n",
    "\n",
    "with open('./work/sentiment.txt') as f:\n",
    "    for line in islice(f, 5):\n",
    "        print(extract_features(line.rstrip()))"
   ]
  },
  {
   "cell_type": "markdown",
   "metadata": {},
   "source": [
    "## 73. 学習\n",
    "72で抽出した素性を用いて，ロジスティック回帰モデルを学習せよ．"
   ]
  },
  {
   "cell_type": "code",
   "execution_count": 23,
   "metadata": {},
   "outputs": [],
   "source": [
    "labels = []\n",
    "texts = []\n",
    "\n",
    "with open('./work/sentiment.txt') as f:\n",
    "    for line in f:\n",
    "        label, text = line.strip().split(' ', 1)   # 最大分割数を指定\n",
    "        labels.append(int(label))\n",
    "        texts.append(text)"
   ]
  },
  {
   "cell_type": "code",
   "execution_count": 24,
   "metadata": {},
   "outputs": [
    {
     "name": "stdout",
     "output_type": "stream",
     "text": [
      "[1, -1, 1, -1, 1]\n",
      "['exquisitely acted and masterfully if preciously interwoven… [the film] addresses in a fascinating , intelligent manner the intermingling of race , politics and local commerce .', 'julia is played with exasperating blandness by laura regan .', 'the director , steven shainberg , has succeeded by focusing intently on his characters , making them quirky individuals rather than figures of fun .', ' . . . better described as a ghost story gone badly awry .', 'the powerful success of read my lips with such provocative material shows why , after only three films , director/co-writer jacques audiard , though little known in this country , belongs in the very top rank of french filmmakers .']\n"
     ]
    }
   ],
   "source": [
    "print(labels[:5])\n",
    "print(texts[:5])"
   ]
  },
  {
   "cell_type": "markdown",
   "metadata": {},
   "source": [
    "### preprocessor : callable or None (default)\n",
    "`Override the preprocessing (string transformation) stage while preserving the tokenizing and n-grams generation steps.`\n",
    "\n",
    "### CountVectorizer.fit_transform(raw_documents[, y])\n",
    "`Learn the vocabulary dictionary and return term-document matrix.`\n",
    "\n",
    "### LogisticRegression.fit(raw_documents[, y])\t\n",
    "`fit(X, y[, sample_weight])\tFit the model according to the given training data.`\n",
    "\n",
    "https://scikit-learn.org/stable/modules/generated/sklearn.feature_extraction.text.CountVectorizer.html#sklearn.feature_extraction.text.CountVectorizer.fit\n",
    "\n",
    "https://scikit-learn.org/stable/modules/generated/sklearn.linear_model.LogisticRegression.html"
   ]
  },
  {
   "cell_type": "code",
   "execution_count": 30,
   "metadata": {},
   "outputs": [
    {
     "data": {
      "text/plain": [
       "LogisticRegression(C=1.0, class_weight=None, dual=False, fit_intercept=True,\n",
       "          intercept_scaling=1, max_iter=100, multi_class='ovr', n_jobs=1,\n",
       "          penalty='l2', random_state=None, solver='liblinear', tol=0.0001,\n",
       "          verbose=0, warm_start=False)"
      ]
     },
     "execution_count": 30,
     "metadata": {},
     "output_type": "execute_result"
    }
   ],
   "source": [
    "from sklearn.feature_extraction.text import CountVectorizer\n",
    "from sklearn.linear_model import LogisticRegression\n",
    "\n",
    "CV = CountVectorizer(preprocessor=extract_features)\n",
    "texts_train = CV.fit_transform(texts)\n",
    "\n",
    "clf = LogisticRegression()\n",
    "clf.fit(texts_train, labels)"
   ]
  },
  {
   "cell_type": "markdown",
   "metadata": {},
   "source": [
    "## 74. 予測\n",
    "73で学習したロジスティック回帰モデルを用い，与えられた文の極性ラベル（正例なら\"+1\"，負例なら\"-1\"）と，その予測確率を計算するプログラムを実装せよ．"
   ]
  },
  {
   "cell_type": "markdown",
   "metadata": {},
   "source": [
    "### LogisticRegression.predict_proba(X)\t\n",
    "`Probability estimates.`"
   ]
  },
  {
   "cell_type": "code",
   "execution_count": 31,
   "metadata": {},
   "outputs": [
    {
     "name": "stdout",
     "output_type": "stream",
     "text": [
      "[[0.09837286 0.90162714]\n",
      " [0.94638011 0.05361989]\n",
      " [0.22742488 0.77257512]\n",
      " ...\n",
      " [0.33937232 0.66062768]\n",
      " [0.80109917 0.19890083]\n",
      " [0.47456941 0.52543059]]\n"
     ]
    }
   ],
   "source": [
    "scores = clf.predict_proba(texts_train)\n",
    "print(scores)"
   ]
  },
  {
   "cell_type": "markdown",
   "metadata": {},
   "source": [
    "🤔？"
   ]
  },
  {
   "cell_type": "code",
   "execution_count": 32,
   "metadata": {},
   "outputs": [
    {
     "name": "stdout",
     "output_type": "stream",
     "text": [
      "[0.90162714 0.94638011 0.77257512 ... 0.66062768 0.80109917 0.52543059]\n"
     ]
    }
   ],
   "source": [
    "scores = clf.predict_proba(texts_train).max(axis=1)   # \"+1\" or \"-1\"のスコアの高い方をとる\n",
    "print(scores)"
   ]
  },
  {
   "cell_type": "code",
   "execution_count": 33,
   "metadata": {},
   "outputs": [
    {
     "name": "stdout",
     "output_type": "stream",
     "text": [
      "[1 0 1 ... 1 0 1]\n",
      "[-1  1]\n",
      "[ 1 -1  1 ...  1 -1  1]\n"
     ]
    }
   ],
   "source": [
    "index_array = clf.predict_proba(texts_train).argmax(axis=1)\n",
    "print(index_array)\n",
    "print(clf.classes_)\n",
    "classes = clf.classes_[index_array]\n",
    "print(classes)"
   ]
  },
  {
   "cell_type": "markdown",
   "metadata": {},
   "source": [
    "### self.classes_はfitの関数内で定義されている？\n",
    "https://github.com/scikit-learn/scikit-learn/blob/55bf5d9/sklearn/feature_extraction/text.py#L986"
   ]
  },
  {
   "cell_type": "markdown",
   "metadata": {},
   "source": [
    "## 75. 素性の重み\n",
    "73で学習したロジスティック回帰モデルの中で，重みの高い素性トップ10と，重みの低い素性トップ10を確認せよ．"
   ]
  },
  {
   "cell_type": "markdown",
   "metadata": {},
   "source": [
    "### CountVectorizer.get_feature_names()\n",
    "`Array mapping from feature integer indices to feature name.`"
   ]
  },
  {
   "cell_type": "code",
   "execution_count": 57,
   "metadata": {},
   "outputs": [
    {
     "name": "stdout",
     "output_type": "stream",
     "text": [
      "['00', '000', '007', '10', '100']\n",
      "['ótimo', 'último', 'últimos', 'únic', 'único']\n"
     ]
    }
   ],
   "source": [
    "feature_names = CV.get_feature_names()\n",
    "print(feature_names[:5])\n",
    "print(feature_names[-5:])"
   ]
  },
  {
   "cell_type": "markdown",
   "metadata": {},
   "source": [
    "### LogisticRegression.coef_\n",
    "`coef_ is of shape (1, n_features) when the given problem is binary. In particular, when multi_class=’multinomial’, coef_ corresponds to outcome 1 (True) and -coef_ corresponds to outcome 0 (False).`"
   ]
  },
  {
   "cell_type": "code",
   "execution_count": 58,
   "metadata": {},
   "outputs": [
    {
     "name": "stdout",
     "output_type": "stream",
     "text": [
      "[ 8686  3512 11308  3703  9762  9756  8742 11732  8469  9864]\n",
      "[ 1349  3262 11750  7193  6669  9019  3817   623  5360  8030]\n",
      "[2.3463304  2.28292776 1.96976482 1.80173532 1.73672901 1.6896072\n",
      " 1.65871173 1.60151371 1.59458244 1.56190064]\n",
      "[-2.21658024 -1.96983402 -1.92579857 -1.84041056 -1.82879803 -1.82044084\n",
      " -1.81572606 -1.76888635 -1.72813444 -1.70017431]\n"
     ]
    }
   ],
   "source": [
    "feature_indices = clf.coef_[0].argsort()   # インデックスを返す\n",
    "high_feature_indices = feature_indices[-10:][::-1]\n",
    "low_feature_indices = feature_indices[:10]\n",
    "print(high_feature_indices)\n",
    "print(low_feature_indices)\n",
    "print(clf.coef_[0][high_feature_indices])\n",
    "print(clf.coef_[0][low_feature_indices])"
   ]
  },
  {
   "cell_type": "code",
   "execution_count": 59,
   "metadata": {},
   "outputs": [
    {
     "name": "stdout",
     "output_type": "stream",
     "text": [
      "重みの高い素性トップ10\n"
     ]
    },
    {
     "ename": "TypeError",
     "evalue": "only integer scalar arrays can be converted to a scalar index",
     "output_type": "error",
     "traceback": [
      "\u001b[0;31m---------------------------------------------------------------------------\u001b[0m",
      "\u001b[0;31mTypeError\u001b[0m                                 Traceback (most recent call last)",
      "\u001b[0;32m<ipython-input-59-5684792e4535>\u001b[0m in \u001b[0;36m<module>\u001b[0;34m()\u001b[0m\n\u001b[1;32m      1\u001b[0m \u001b[0mprint\u001b[0m\u001b[0;34m(\u001b[0m\u001b[0;34m'重みの高い素性トップ10'\u001b[0m\u001b[0;34m)\u001b[0m\u001b[0;34m\u001b[0m\u001b[0m\n\u001b[0;32m----> 2\u001b[0;31m \u001b[0mprint\u001b[0m\u001b[0;34m(\u001b[0m\u001b[0mfeature_names\u001b[0m\u001b[0;34m[\u001b[0m\u001b[0mhigh_feature_indices\u001b[0m\u001b[0;34m]\u001b[0m\u001b[0;34m)\u001b[0m\u001b[0;34m\u001b[0m\u001b[0m\n\u001b[0m\u001b[1;32m      3\u001b[0m \u001b[0mprint\u001b[0m\u001b[0;34m(\u001b[0m\u001b[0;34m'重みの低い素性トップ10'\u001b[0m\u001b[0;34m)\u001b[0m\u001b[0;34m\u001b[0m\u001b[0m\n\u001b[1;32m      4\u001b[0m \u001b[0mprint\u001b[0m\u001b[0;34m(\u001b[0m\u001b[0mfeature_names\u001b[0m\u001b[0;34m[\u001b[0m\u001b[0mlow_feature_indices\u001b[0m\u001b[0;34m]\u001b[0m\u001b[0;34m)\u001b[0m\u001b[0;34m\u001b[0m\u001b[0m\n",
      "\u001b[0;31mTypeError\u001b[0m: only integer scalar arrays can be converted to a scalar index"
     ]
    }
   ],
   "source": [
    "print('重みの高い素性トップ10')\n",
    "print(feature_names[high_feature_indices])\n",
    "print('重みの低い素性トップ10')\n",
    "print(feature_names[low_feature_indices])"
   ]
  },
  {
   "cell_type": "markdown",
   "metadata": {},
   "source": [
    "### np.arrayならそのままindexとしてとれる"
   ]
  },
  {
   "cell_type": "code",
   "execution_count": 62,
   "metadata": {},
   "outputs": [
    {
     "name": "stdout",
     "output_type": "stream",
     "text": [
      "['00' '000' '007' '10' '100']\n",
      "['ótimo' 'último' 'últimos' 'únic' 'único']\n",
      "重みの高い素性トップ10\n",
      "['refresh' 'engross' 'unexpect' 'examin' 'smart' 'sly' 'remark' 'warm'\n",
      " 'quiet' 'solid']\n",
      "重みの低い素性トップ10\n",
      "['bor' 'dul' 'wast' 'neith' 'mediocr' 'routin' 'fail' 'app' 'incoh' 'plod']\n"
     ]
    }
   ],
   "source": [
    "import numpy as np\n",
    "\n",
    "feature_names = np.array(CV.get_feature_names())\n",
    "print(feature_names[:5])\n",
    "print(feature_names[-5:])\n",
    "\n",
    "print('重みの高い素性トップ10')\n",
    "print(feature_names[high_feature_indices])\n",
    "print('重みの低い素性トップ10')\n",
    "print(feature_names[low_feature_indices])"
   ]
  },
  {
   "cell_type": "markdown",
   "metadata": {},
   "source": [
    "## 76. ラベル付け\n",
    "学習データに対してロジスティック回帰モデルを適用し，正解のラベル，予測されたラベル，予測確率をタブ区切り形式で出力せよ．"
   ]
  },
  {
   "cell_type": "code",
   "execution_count": 63,
   "metadata": {},
   "outputs": [],
   "source": [
    "#　ryo-tさんの74の関数\n",
    "\n",
    "def predict_with_proba(clf, X):\n",
    "    \"\"\"Predict classes for X with probabilities using given classifier\n",
    "    \n",
    "    Returns: predicted classes and scores\n",
    "    \"\"\"\n",
    "    proba = clf.predict_proba(X)\n",
    "    scores = proba.max(axis=1)\n",
    "    indices = proba.argmax(axis=1)\n",
    "    classes = clf.classes_[indices]\n",
    "    return classes, scores"
   ]
  },
  {
   "cell_type": "code",
   "execution_count": 66,
   "metadata": {},
   "outputs": [],
   "source": [
    "pred, score = predict_with_proba(clf, texts_train)"
   ]
  },
  {
   "cell_type": "code",
   "execution_count": 67,
   "metadata": {},
   "outputs": [
    {
     "data": {
      "text/html": [
       "<div>\n",
       "<style scoped>\n",
       "    .dataframe tbody tr th:only-of-type {\n",
       "        vertical-align: middle;\n",
       "    }\n",
       "\n",
       "    .dataframe tbody tr th {\n",
       "        vertical-align: top;\n",
       "    }\n",
       "\n",
       "    .dataframe thead th {\n",
       "        text-align: right;\n",
       "    }\n",
       "</style>\n",
       "<table border=\"1\" class=\"dataframe\">\n",
       "  <thead>\n",
       "    <tr style=\"text-align: right;\">\n",
       "      <th></th>\n",
       "      <th>GT</th>\n",
       "      <th>pred</th>\n",
       "      <th>score</th>\n",
       "    </tr>\n",
       "  </thead>\n",
       "  <tbody>\n",
       "    <tr>\n",
       "      <th>0</th>\n",
       "      <td>1</td>\n",
       "      <td>1</td>\n",
       "      <td>0.901627</td>\n",
       "    </tr>\n",
       "    <tr>\n",
       "      <th>1</th>\n",
       "      <td>-1</td>\n",
       "      <td>-1</td>\n",
       "      <td>0.946380</td>\n",
       "    </tr>\n",
       "    <tr>\n",
       "      <th>2</th>\n",
       "      <td>1</td>\n",
       "      <td>1</td>\n",
       "      <td>0.772575</td>\n",
       "    </tr>\n",
       "    <tr>\n",
       "      <th>3</th>\n",
       "      <td>-1</td>\n",
       "      <td>-1</td>\n",
       "      <td>0.979001</td>\n",
       "    </tr>\n",
       "    <tr>\n",
       "      <th>4</th>\n",
       "      <td>1</td>\n",
       "      <td>1</td>\n",
       "      <td>0.977662</td>\n",
       "    </tr>\n",
       "  </tbody>\n",
       "</table>\n",
       "</div>"
      ],
      "text/plain": [
       "   GT  pred     score\n",
       "0   1     1  0.901627\n",
       "1  -1    -1  0.946380\n",
       "2   1     1  0.772575\n",
       "3  -1    -1  0.979001\n",
       "4   1     1  0.977662"
      ]
     },
     "execution_count": 67,
     "metadata": {},
     "output_type": "execute_result"
    }
   ],
   "source": [
    "import pandas as pd\n",
    "\n",
    "result = pd.DataFrame(list(zip(*[labels, pred, score])), columns=['GT', 'pred', 'score'])\n",
    "result.head()"
   ]
  },
  {
   "cell_type": "markdown",
   "metadata": {},
   "source": [
    "#### どれがどの変数なのか分からなくなってきた..."
   ]
  },
  {
   "cell_type": "markdown",
   "metadata": {},
   "source": [
    "## 77. 正解率の計測\n",
    "76の出力を受け取り，予測の正解率，正例に関する適合率，再現率，F1スコアを求めるプログラムを作成せよ．"
   ]
  },
  {
   "cell_type": "markdown",
   "metadata": {},
   "source": [
    "### sklearn.metrics\n",
    "https://scikit-learn.org/stable/modules/classes.html#module-sklearn.metrics"
   ]
  },
  {
   "cell_type": "code",
   "execution_count": 69,
   "metadata": {},
   "outputs": [
    {
     "name": "stdout",
     "output_type": "stream",
     "text": [
      "accuracy:\t0.9355655599324705\n",
      "precision:\t0.9384441087613293\n",
      "recall:\t0.9322828737572688\n",
      "F1:\t0.9353533452526583\n"
     ]
    }
   ],
   "source": [
    "from sklearn import metrics\n",
    "\n",
    "print('accuracy:', metrics.accuracy_score(labels, pred), sep='\\t')\n",
    "print('precision:', metrics.precision_score(labels, pred), sep='\\t')\n",
    "print('recall:', metrics.recall_score(labels, pred), sep='\\t')\n",
    "print('F1:', metrics.f1_score(labels, pred), sep='\\t')"
   ]
  },
  {
   "cell_type": "markdown",
   "metadata": {},
   "source": [
    "## 78. 5分割交差検定\n",
    "76-77の実験では，学習に用いた事例を評価にも用いたため，正当な評価とは言えない．すなわち，分類器が訓練事例を丸暗記する際の性能を評価しており，モデルの汎化性能を測定していない．そこで，5分割交差検定により，極性分類の正解率，適合率，再現率，F1スコアを求めよ．\n"
   ]
  },
  {
   "cell_type": "markdown",
   "metadata": {},
   "source": [
    "### sklearn.pipeline.Pipeline\n",
    "https://scikit-learn.org/stable/modules/generated/sklearn.pipeline.Pipeline.html\n",
    "### sklearn.model_selection.cross_validate\n",
    "https://scikit-learn.org/stable/modules/generated/sklearn.model_selection.cross_validate.html"
   ]
  },
  {
   "cell_type": "code",
   "execution_count": 76,
   "metadata": {},
   "outputs": [
    {
     "name": "stderr",
     "output_type": "stream",
     "text": [
      "/Users/kitayama/.pyenv/versions/anaconda3-5.1.0/lib/python3.6/site-packages/sklearn/utils/deprecation.py:122: FutureWarning: You are accessing a training score ('train_accuracy'), which will not be available by default any more in 0.21. If you need training scores, please set return_train_score=True\n",
      "  warnings.warn(*warn_args, **warn_kwargs)\n",
      "/Users/kitayama/.pyenv/versions/anaconda3-5.1.0/lib/python3.6/site-packages/sklearn/utils/deprecation.py:122: FutureWarning: You are accessing a training score ('train_f1'), which will not be available by default any more in 0.21. If you need training scores, please set return_train_score=True\n",
      "  warnings.warn(*warn_args, **warn_kwargs)\n",
      "/Users/kitayama/.pyenv/versions/anaconda3-5.1.0/lib/python3.6/site-packages/sklearn/utils/deprecation.py:122: FutureWarning: You are accessing a training score ('train_precision'), which will not be available by default any more in 0.21. If you need training scores, please set return_train_score=True\n",
      "  warnings.warn(*warn_args, **warn_kwargs)\n",
      "/Users/kitayama/.pyenv/versions/anaconda3-5.1.0/lib/python3.6/site-packages/sklearn/utils/deprecation.py:122: FutureWarning: You are accessing a training score ('train_recall'), which will not be available by default any more in 0.21. If you need training scores, please set return_train_score=True\n",
      "  warnings.warn(*warn_args, **warn_kwargs)\n"
     ]
    },
    {
     "data": {
      "text/plain": [
       "{'fit_time': array([2.70932603, 2.63963795, 2.74212527, 2.54689312, 2.59174013]),\n",
       " 'score_time': array([2.43916202, 2.51742101, 2.42883301, 2.42618299, 2.43475294]),\n",
       " 'test_accuracy': array([0.75351453, 0.74249531, 0.74296435, 0.75469043, 0.74765478]),\n",
       " 'test_f1': array([0.75670675, 0.73567646, 0.74440299, 0.75640429, 0.74209012]),\n",
       " 'test_precision': array([0.74703196, 0.75568744, 0.74025974, 0.75115634, 0.75882353]),\n",
       " 'test_recall': array([0.76663543, 0.71669794, 0.74859287, 0.76172608, 0.7260788 ]),\n",
       " 'train_accuracy': array([0.94488743, 0.94255569, 0.94255569, 0.94490035, 0.94466589]),\n",
       " 'train_f1': array([0.94469287, 0.94231222, 0.9423936 , 0.94466682, 0.94453584]),\n",
       " 'train_precision': array([0.94803968, 0.94632301, 0.94506013, 0.94868763, 0.9467609 ]),\n",
       " 'train_recall': array([0.94136961, 0.93833529, 0.93974209, 0.94067995, 0.94232122])}"
      ]
     },
     "execution_count": 76,
     "metadata": {},
     "output_type": "execute_result"
    }
   ],
   "source": [
    "from sklearn.pipeline import Pipeline\n",
    "from sklearn.model_selection import cross_validate\n",
    "\n",
    "model = Pipeline([\n",
    "    ('cv', CountVectorizer(preprocessor=extract_features)),\n",
    "    ('lr', LogisticRegression(random_state=0)),\n",
    "])\n",
    "\n",
    "cross_validate(model, texts, labels, cv=5,\n",
    "               scoring=['accuracy', 'precision', 'recall', 'f1'])"
   ]
  },
  {
   "cell_type": "markdown",
   "metadata": {},
   "source": [
    "## 79. 適合率-再現率グラフの描画\n",
    "ロジスティック回帰モデルの分類の閾値を変化させることで，適合率-再現率グラフを描画せよ．"
   ]
  },
  {
   "cell_type": "code",
   "execution_count": 78,
   "metadata": {},
   "outputs": [
    {
     "data": {
      "text/plain": [
       "Text(0.5,1,'Precision-Recall curve: AUC=0.81')"
      ]
     },
     "execution_count": 78,
     "metadata": {},
     "output_type": "execute_result"
    },
    {
     "data": {
      "image/png": "[encoded data removed]",
      "text/plain": [
       "<matplotlib.figure.Figure at 0x1a15363fd0>"
      ]
     },
     "metadata": {},
     "output_type": "display_data"
    }
   ],
   "source": [
    "# 丸パクリ\n",
    "\n",
    "%matplotlib inline\n",
    "from sklearn.metrics import precision_recall_curve\n",
    "from sklearn.metrics import average_precision_score\n",
    "from sklearn.model_selection import train_test_split\n",
    "import matplotlib.pyplot as plt\n",
    "\n",
    "X_train, X_test, y_train, y_test = train_test_split(texts, labels, random_state=0)\n",
    "\n",
    "model.fit(X_train, y_train)\n",
    "\n",
    "precision, recall, _ = precision_recall_curve(y_test, model.predict_proba(X_test)[:, 1])\n",
    "average_precision = average_precision_score(y_test, model.predict_proba(X_test)[:, 1])\n",
    "\n",
    "plt.step(recall, precision, color='b', alpha=0.2,\n",
    "         where='post')\n",
    "plt.fill_between(recall, precision, step='post', alpha=0.2,\n",
    "                 color='b')\n",
    "\n",
    "plt.xlabel('Recall')\n",
    "plt.ylabel('Precision')\n",
    "plt.ylim([0.0, 1.05])\n",
    "plt.xlim([0.0, 1.0])\n",
    "plt.title('Precision-Recall curve: AUC={0:0.2f}'.format(average_precision))"
   ]
  },
  {
   "cell_type": "code",
   "execution_count": null,
   "metadata": {},
   "outputs": [],
   "source": []
  }
 ],
 "metadata": {
  "kernelspec": {
   "display_name": "Python 3",
   "language": "python",
   "name": "python3"
  },
  "language_info": {
   "codemirror_mode": {
    "name": "ipython",
    "version": 3
   },
   "file_extension": ".py",
   "mimetype": "text/x-python",
   "name": "python",
   "nbconvert_exporter": "python",
   "pygments_lexer": "ipython3",
   "version": "3.6.4"
  }
 },
 "nbformat": 4,
 "nbformat_minor": 2
}
